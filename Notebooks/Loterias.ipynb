{
  "nbformat": 4,
  "nbformat_minor": 0,
  "metadata": {
    "colab": {
      "provenance": [],
      "authorship_tag": "ABX9TyPRHLxqOlLU6DoAWy/hknm/",
      "include_colab_link": true
    },
    "kernelspec": {
      "name": "python3",
      "display_name": "Python 3"
    },
    "language_info": {
      "name": "python"
    }
  },
  "cells": [
    {
      "cell_type": "markdown",
      "metadata": {
        "id": "view-in-github",
        "colab_type": "text"
      },
      "source": [
        "<a href=\"https://colab.research.google.com/github/eduardoseity/Loterias/blob/main/Notebooks/Loterias.ipynb\" target=\"_parent\"><img src=\"https://colab.research.google.com/assets/colab-badge.svg\" alt=\"Open In Colab\"/></a>"
      ]
    },
    {
      "cell_type": "markdown",
      "source": [
        "# Olá,\n",
        "## Este notebook foi criado com o objetivo de analisar os resultados das loterias e exercitar alguns conceitos estatísticos.\n",
        "\n",
        "Técnicas e conceitos aplicados:\n",
        "- Raspagem de dados\n",
        "- Orientação a objetos utilizando a biblioteca ABC do python\n",
        "- Análise exploratória dos dados\n",
        "- Estatística"
      ],
      "metadata": {
        "id": "n2tvcUtHhBLo"
      }
    },
    {
      "cell_type": "markdown",
      "source": [
        "# Importando as bibliotecas 📚 necessárias"
      ],
      "metadata": {
        "id": "WEv9qZmYaSnh"
      }
    },
    {
      "cell_type": "code",
      "source": [
        "import requests\n",
        "import json\n",
        "import pandas as pd\n",
        "from bs4 import BeautifulSoup\n",
        "from datetime import datetime\n",
        "import os\n",
        "import urllib3\n",
        "from abc import ABC, abstractmethod\n",
        "import random\n",
        "import numpy as np\n",
        "import plotly.express as px\n",
        "\n",
        "urllib3.disable_warnings()"
      ],
      "metadata": {
        "id": "VphtGU-taAgp"
      },
      "execution_count": 1,
      "outputs": []
    },
    {
      "cell_type": "markdown",
      "source": [
        "# Criando as pastas 📂 necessárias"
      ],
      "metadata": {
        "id": "TecNzRV2cuXW"
      }
    },
    {
      "cell_type": "code",
      "source": [
        "if not os.path.exists('assets/results'):\n",
        "  os.makedirs('assets/results')"
      ],
      "metadata": {
        "id": "Ts79swMSctbu"
      },
      "execution_count": 2,
      "outputs": []
    },
    {
      "cell_type": "markdown",
      "source": [
        "# Raspando os dados do site https://loterias.caixa.gov.br 🌐"
      ],
      "metadata": {
        "id": "8Dx36icrZyJq"
      }
    },
    {
      "cell_type": "code",
      "source": [
        "# Criando uma sessão do requests\n",
        "session = requests.Session()"
      ],
      "metadata": {
        "id": "pf-QKz1Hakqq"
      },
      "execution_count": 3,
      "outputs": []
    },
    {
      "cell_type": "code",
      "source": [
        "def get_results(modalidade:str, overwrite:bool=False):\n",
        "  '''\n",
        "  Executa a raspagem de dados no site e salva o resultado no diretório \"assets/results/\"\n",
        "\n",
        "  :param modalidade: `str` Modalidade da loteria\n",
        "  :param overwrite: `bool` Indica se o resultado deve ser sobrescrito ou não caso já exista um arquivo gerado na data atual\n",
        "  '''\n",
        "  print('Iniciando processo de raspagem...')\n",
        "\n",
        "  # Salva a data atual\n",
        "  date = datetime.now()\n",
        "  # Configura nome do arquivo\n",
        "  filename = f'assets/results/{modalidade}.csv'\n",
        "  # Verifica se arquivo já existe na pasta\n",
        "  if os.path.exists(filename):\n",
        "      # Pega a data de criação do arquivo existente\n",
        "      file_date = datetime.fromtimestamp(os.path.getmtime(filename))\n",
        "      # Retorna caso a data atual coincida com a data de criação do arquivo\n",
        "      if file_date.date() == date.date() and not overwrite:\n",
        "        print('Um arquivo com a data de hoje já existe na pasta /assets/results')\n",
        "        return\n",
        "\n",
        "  # Realiza a requisição no site\n",
        "  print('Requisição iniciada')\n",
        "  re = session.get(f'https://servicebus2.caixa.gov.br/portaldeloterias/api/resultados?modalidade={modalidade}', verify=False)\n",
        "  # Transforma o resultado em Json\n",
        "  j = json.loads(re.text)\n",
        "  # Cria um objeto BeautifulSoup com o Json\n",
        "  soup = BeautifulSoup(j['html'], 'html.parser')\n",
        "  # Seleciona todas as tags <table>\n",
        "  for index, tag in enumerate(soup.select('table')):\n",
        "      # Exclui tabelas excedentes\n",
        "      if index > 0: tag.extract()\n",
        "  # Transforma a tabela em um DataFrame do pandas\n",
        "  table = pd.read_html(str(soup))[0]\n",
        "  # Exporta o DataFrame para csv\n",
        "  table.to_csv(filename, index=False)\n",
        "  print(f'Processo finalizado. Resultado salvo em {filename}')"
      ],
      "metadata": {
        "id": "LgpCO0oiabTM"
      },
      "execution_count": 4,
      "outputs": []
    },
    {
      "cell_type": "markdown",
      "source": [
        "# Orientação a objetos 🗃\n"
      ],
      "metadata": {
        "id": "VrM3jyDjTPwn"
      }
    },
    {
      "cell_type": "markdown",
      "source": [
        "## Interfaces\n",
        "### Contém os métodos e atributos básicos para uma Loteria 🍀"
      ],
      "metadata": {
        "id": "KAD-tP7DnKef"
      }
    },
    {
      "cell_type": "code",
      "source": [
        "class ILotto(ABC):\n",
        "    @abstractmethod\n",
        "    def min_bet(self): # Quantidade de números mínimo para aposta <int>\n",
        "        pass\n",
        "    @abstractmethod\n",
        "    def max_bet(self): # Quantidade de números máximo permitido para aposta <int>\n",
        "        pass\n",
        "    @abstractmethod\n",
        "    def prices(self): # Preços das apostas <list>\n",
        "        pass\n",
        "    @abstractmethod\n",
        "    def winning_categories(self): # Faixas de acertos válidos <list>\n",
        "        pass\n",
        "    @abstractmethod\n",
        "    def prizes(self): # Faixas de premiações <list>\n",
        "        pass\n",
        "    @abstractmethod\n",
        "    def lower_upper_number(self): # Maior dezena <int>\n",
        "        pass\n",
        "    @abstractmethod\n",
        "    def modalidade(self): # Modalidade da loteria <str>\n",
        "        pass\n",
        "    @abstractmethod\n",
        "    def drawn_number_columns(self): # Número das colunas que contém as bolas sorteadas <list>\n",
        "        pass\n",
        "    @abstractmethod\n",
        "    def results_dataframe(self): # DataFrame contendo os resultados obtidos <pandas.DataFrame>\n",
        "        pass\n",
        "    @abstractmethod\n",
        "    def drawn_numbers_qty(self): # Quantidade de números sorteados <int>\n",
        "        pass\n",
        "    @abstractmethod\n",
        "    def numbers_position(self): # Matriz contendo a disposição dos números no volante <list>\n",
        "        pass\n",
        "\n",
        "    @abstractmethod\n",
        "    def validate_bet(self, bet:list) -> bool:\n",
        "        '''\n",
        "        Retorna `True` se a aposta for válida\n",
        "        '''\n",
        "        if len(bet) < self.min_bet or len(bet) > self.max_bet: # Testa se a quantidade de números apostados está dentro dos limites\n",
        "            raise ValueError(f'Quantidade de números apostados deve estar entre {self.min_bet} e {self.max_bet}')\n",
        "        elif len(set(bet)) != len(bet): # Verifica se não há números repetidos\n",
        "            raise ValueError('Existem números repetidos na aposta')\n",
        "        elif sorted(bet)[0] < self.lower_upper_number[0] or sorted(bet)[-1] > self.lower_upper_number[1]: # Verifica se os números estão dentro do intervalo permitido\n",
        "            raise ValueError('Existem números fora do intervalo permitido')\n",
        "        else:\n",
        "            return True\n",
        "\n",
        "    def check_result(self, result:np.ndarray, bet_numbers:list) -> list:\n",
        "        '''\n",
        "        Compara uma aposta com um resultado e retorna uma lista contendo os números acertados\n",
        "        '''\n",
        "        drawn_numbers = result[self.drawn_number_columns] # Números sorteados\n",
        "        winner_numbers = [x for x in bet_numbers if x in drawn_numbers] # Itera entre os números apostados e retorna o número caso esteja entre os números sorteados\n",
        "        return winner_numbers\n",
        "\n",
        "    def check_results(self, results_array:np.ndarray, bet_numbers:list) -> list:\n",
        "        '''\n",
        "        Compara uma lista de apostas com um array de resultados e retorna uma lista contendo os números acertados\n",
        "        '''\n",
        "        if not isinstance(bet_numbers[0], list): raise TypeError('O parâmetro bet_numbers deve ser uma lista de listas')\n",
        "        winner_numbers = []\n",
        "        for r in results_array: # Itera entre os resultados\n",
        "            for b in bet_numbers: # Itera entre as apostas\n",
        "                winner_numbers.append(self.check_result(r, b)) # Realiza a comparação\n",
        "        return winner_numbers\n",
        "\n",
        "    @abstractmethod\n",
        "    def update_results(self, overwrite:bool = False) -> pd.DataFrame:\n",
        "        '''\n",
        "        Atualiza os resultados\n",
        "        '''\n",
        "        get_results(self.modalidade, overwrite)\n",
        "        self.results_dataframe = pd.read_csv(f'assets/results/{self.modalidade}.csv')\n",
        "        return self.results_dataframe\n",
        "\n",
        "    def generate_random(self, num:int) -> list:\n",
        "        '''\n",
        "        Gera números aleatórios\n",
        "        '''\n",
        "        if num < self.min_bet or num > self.max_bet: raise ValueError(f\"O parâmetro 'num' deve ser um número entre {self.min_bet} e {self.max_bet}\") # Verifica se a quantidade solicitada é permitida\n",
        "        remaining_numbers = list(range(self.lower_upper_number[0], self.lower_upper_number[1]+1)) # Cria uma lista com todos os números possíveis\n",
        "        bet = []\n",
        "        for x in range(num):\n",
        "            index = random.randint(0, len(remaining_numbers)-1) # Escolhe um index aleatório\n",
        "            bet.append(remaining_numbers[index]) # Adiciona o número escolhido\n",
        "            remaining_numbers.remove(bet[-1]) # Remove o número escolhido da lista de números possíveis\n",
        "\n",
        "        return bet\n",
        "\n",
        "    def get_last_result(self) -> np.ndarray:\n",
        "        '''\n",
        "        Retorna o último resultado\n",
        "        '''\n",
        "        self.update_results()\n",
        "        return self.results_dataframe[-1:].to_numpy()\n",
        "\n",
        "    def get_results(self, interval:list=None, update:bool=False) -> np.ndarray:\n",
        "        '''\n",
        "        Retorna um intervalo de resultados\n",
        "        '''\n",
        "        if update: self.update_results()\n",
        "        if interval != None:\n",
        "            return self.results_dataframe.iloc[interval].to_numpy()\n",
        "        else:\n",
        "            return self.results_dataframe.to_numpy()"
      ],
      "metadata": {
        "id": "ea4eUxgDnToL"
      },
      "execution_count": 5,
      "outputs": []
    },
    {
      "cell_type": "markdown",
      "source": [
        "## Classes\n",
        "### Contém uma classe para cada modalidade de Loteria 🍀"
      ],
      "metadata": {
        "id": "CYg_2A3TyLfQ"
      }
    },
    {
      "cell_type": "markdown",
      "source": [
        "### Megasena"
      ],
      "metadata": {
        "id": "-iCPk7suyQmm"
      }
    },
    {
      "cell_type": "code",
      "source": [
        "class Megasena(ILotto):\n",
        "    def __init__(self) -> None:\n",
        "        self.name = 'Megasena'\n",
        "\n",
        "    @property\n",
        "    def min_bet(self):\n",
        "        return 6\n",
        "    @property\n",
        "    def max_bet(self):\n",
        "        return 20\n",
        "    @property\n",
        "    def winning_categories(self):\n",
        "        return [4,5,6]\n",
        "    @property\n",
        "    def prices(self):\n",
        "        return [5, 35, 140, 420, 1050, 2310, 4620, 8580, 15015, 25025, 40040, 61880, 92820, 135660, 193800]\n",
        "    @property\n",
        "    def prizes(self):\n",
        "        return []\n",
        "    @property\n",
        "    def lower_upper_number(self):\n",
        "        return (1,60)\n",
        "    @property\n",
        "    def modalidade(self):\n",
        "        return 'Mega-Sena'\n",
        "    @property\n",
        "    def drawn_number_columns(self):\n",
        "        return [2,3,4,5,6,7]\n",
        "    @property\n",
        "    def results_dataframe(self):\n",
        "        return self._results_dataframe\n",
        "    @results_dataframe.setter\n",
        "    def results_dataframe(self, value:pd.DataFrame()):\n",
        "        self._results_dataframe = value\n",
        "    @property\n",
        "    def drawn_numbers_qty(self):\n",
        "        return 6\n",
        "    @property\n",
        "    def numbers_position(self):\n",
        "        return [\n",
        "            list(range(1,11)),\n",
        "            list(range(11,21)),\n",
        "            list(range(21,31)),\n",
        "            list(range(31,41)),\n",
        "            list(range(41,51)),\n",
        "            list(range(51,61)),\n",
        "        ]\n",
        "\n",
        "    def update_results(self, overwrite: bool = False) -> pd.DataFrame:\n",
        "        return super().update_results(overwrite)\n",
        "\n",
        "    def validate_bet(self, bet: list):\n",
        "        return super().validate_bet(bet)"
      ],
      "metadata": {
        "id": "0kGoiNp-yN5I"
      },
      "execution_count": 6,
      "outputs": []
    },
    {
      "cell_type": "markdown",
      "source": [
        "### Lotofácil"
      ],
      "metadata": {
        "id": "BtgW9lHzyv1z"
      }
    },
    {
      "cell_type": "code",
      "source": [
        "class Lotofacil(ILotto):\n",
        "\n",
        "    def __init__(self) -> None:\n",
        "        self.name = 'Lotofacil'\n",
        "\n",
        "    @property\n",
        "    def min_bet(self):\n",
        "        return 15\n",
        "    @property\n",
        "    def max_bet(self):\n",
        "        return 20\n",
        "    @property\n",
        "    def winning_categories(self):\n",
        "        return [11,12,13,14,15]\n",
        "    @property\n",
        "    def prices(self):\n",
        "        return [3, 48, 408, 2448, 11628, 46512]\n",
        "    @property\n",
        "    def prizes(self):\n",
        "        return []\n",
        "    @property\n",
        "    def lower_upper_number(self):\n",
        "        return (1,25)\n",
        "    @property\n",
        "    def modalidade(self):\n",
        "        return 'Lotofácil'\n",
        "    @property\n",
        "    def drawn_number_columns(self):\n",
        "        return [2,3,4,5,6,7,8,9,10,11,12,13,14,15,16]\n",
        "    @property\n",
        "    def results_dataframe(self):\n",
        "        return self._results_dataframe\n",
        "    @results_dataframe.setter\n",
        "    def results_dataframe(self, value:pd.DataFrame()):\n",
        "        self._results_dataframe = value\n",
        "    @property\n",
        "    def drawn_numbers_qty(self):\n",
        "        return 15\n",
        "    @property\n",
        "    def numbers_position(self):\n",
        "        return [\n",
        "            list(range(1,6)),\n",
        "            list(range(6,11)),\n",
        "            list(range(11,16)),\n",
        "            list(range(16,21)),\n",
        "            list(range(21,26)),\n",
        "        ]\n",
        "\n",
        "    def update_results(self, overwrite: bool = False) -> pd.DataFrame:\n",
        "        return super().update_results(overwrite)\n",
        "\n",
        "    def validate_bet(self, bet: list):\n",
        "        return super().validate_bet(bet)"
      ],
      "metadata": {
        "id": "NVsfPk3By1Eb"
      },
      "execution_count": 7,
      "outputs": []
    },
    {
      "cell_type": "markdown",
      "source": [
        "### Quina"
      ],
      "metadata": {
        "id": "BeaRd_Rzy3YJ"
      }
    },
    {
      "cell_type": "code",
      "source": [
        "class Quina(ILotto):\n",
        "\n",
        "    def __init__(self) -> None:\n",
        "        self.name = 'Quina'\n",
        "\n",
        "    @property\n",
        "    def min_bet(self):\n",
        "        return 5\n",
        "    @property\n",
        "    def max_bet(self):\n",
        "        return 15\n",
        "    @property\n",
        "    def winning_categories(self):\n",
        "        return [2,3,4,5]\n",
        "    @property\n",
        "    def prices(self):\n",
        "        return [2.5,15,52.5,140,315,630,1155,1980,3217.5,5005,7507.5]\n",
        "    @property\n",
        "    def prizes(self):\n",
        "        return []\n",
        "    @property\n",
        "    def lower_upper_number(self):\n",
        "        return (1,80)\n",
        "    @property\n",
        "    def modalidade(self):\n",
        "        return 'Quina'\n",
        "    @property\n",
        "    def drawn_number_columns(self):\n",
        "        return [2,3,4,5,6]\n",
        "    @property\n",
        "    def results_dataframe(self):\n",
        "        return self._results_dataframe\n",
        "    @results_dataframe.setter\n",
        "    def results_dataframe(self, value:pd.DataFrame()):\n",
        "        self._results_dataframe = value\n",
        "    @property\n",
        "    def drawn_numbers_qty(self):\n",
        "        return 5\n",
        "    @property\n",
        "    def numbers_position(self):\n",
        "        return [\n",
        "            list(range(1,11)),\n",
        "            list(range(11,21)),\n",
        "            list(range(21,31)),\n",
        "            list(range(31,41)),\n",
        "            list(range(41,51)),\n",
        "            list(range(51,61)),\n",
        "            list(range(61,71)),\n",
        "            list(range(71,81))\n",
        "        ]\n",
        "\n",
        "    def update_results(self, overwrite: bool = False) -> pd.DataFrame:\n",
        "        return super().update_results(overwrite)\n",
        "\n",
        "    def validate_bet(self, bet: list):\n",
        "        return super().validate_bet(bet)"
      ],
      "metadata": {
        "id": "gS8noW_Cy8E3"
      },
      "execution_count": 8,
      "outputs": []
    },
    {
      "cell_type": "markdown",
      "source": [
        "### Lotomania"
      ],
      "metadata": {
        "id": "Xtu2zLQCy-rS"
      }
    },
    {
      "cell_type": "code",
      "source": [
        "class Lotomania(ILotto):\n",
        "\n",
        "    def __init__(self) -> None:\n",
        "        self.name = 'Lotomania'\n",
        "\n",
        "    @property\n",
        "    def min_bet(self):\n",
        "        return 50\n",
        "    @property\n",
        "    def max_bet(self):\n",
        "        return 50\n",
        "    @property\n",
        "    def winning_categories(self):\n",
        "        return [0,15,16,17,18,19,20]\n",
        "    @property\n",
        "    def prices(self):\n",
        "        return [3]\n",
        "    @property\n",
        "    def prizes(self):\n",
        "        return []\n",
        "    @property\n",
        "    def lower_upper_number(self):\n",
        "        return (1,100)\n",
        "    @property\n",
        "    def modalidade(self):\n",
        "        return 'Lotomania'\n",
        "    @property\n",
        "    def drawn_number_columns(self):\n",
        "        return [2,3,4,5,6,7,8,9,10,11,12,13,14,15,16,17,18,19,20,21]\n",
        "    @property\n",
        "    def results_dataframe(self):\n",
        "        return self._results_dataframe\n",
        "    @results_dataframe.setter\n",
        "    def results_dataframe(self, value:pd.DataFrame()):\n",
        "        self._results_dataframe = value\n",
        "    @property\n",
        "    def drawn_numbers_qty(self):\n",
        "        return 20\n",
        "    @property\n",
        "    def numbers_position(self):\n",
        "        return [\n",
        "            list(range(1,11)),\n",
        "            list(range(11,21)),\n",
        "            list(range(21,31)),\n",
        "            list(range(31,41)),\n",
        "            list(range(41,51)),\n",
        "            list(range(51,61)),\n",
        "            list(range(61,71)),\n",
        "            list(range(71,81)),\n",
        "            list(range(81,91)),\n",
        "            list(range(91,101)),\n",
        "        ]\n",
        "\n",
        "    def update_results(self, overwrite: bool = False) -> pd.DataFrame:\n",
        "        df = super().update_results(overwrite)\n",
        "        # Muda zero por 100 (a tabela original utiliza os dois casos, mas no jogo eles são considerados os mesmos números)\n",
        "        df.iloc[:,self.drawn_number_columns] = df.iloc[:,self.drawn_number_columns].replace([0],[100])\n",
        "        return df\n",
        "\n",
        "    def validate_bet(self, bet: list):\n",
        "        return super().validate_bet(bet)"
      ],
      "metadata": {
        "id": "DovNdaGKzAjo"
      },
      "execution_count": 9,
      "outputs": []
    },
    {
      "cell_type": "markdown",
      "source": [
        "# Estatísticas 📊"
      ],
      "metadata": {
        "id": "PE_ntDcW1tFu"
      }
    },
    {
      "cell_type": "code",
      "source": [
        "def StdDev(data:np.ndarray):\n",
        "    '''\n",
        "    Calcula os desvios padrões dos resultados e exibe um histograma com os resultados\n",
        "    '''\n",
        "    std_dev = []\n",
        "    for d in data:\n",
        "        std_dev.append(np.std(d))\n",
        "    ax = px.histogram(x=std_dev, title='Contagem de desvio padrão', text_auto=True, labels={'x':'Desvio padrão'}) \\\n",
        "        .update_traces(marker_line_width=1) \\\n",
        "        .update_layout(yaxis_title='Ocorrências')\n",
        "\n",
        "    ax.show()\n",
        "\n",
        "def NumberCount(data:np.ndarray):\n",
        "    '''\n",
        "    Realiza a contagem de todas as dezenas sorteadas\n",
        "    '''\n",
        "    ax = px.histogram(y=np.ravel(data), title='Contagem de dezenas sorteadas', text_auto=True, labels={'y':'Dezena'}) \\\n",
        "        .update_layout(xaxis_title='Ocorrências') \\\n",
        "        .update_traces(marker_line_width=1)\n",
        "\n",
        "    ax.show()\n",
        "\n",
        "def EvenCount(data:np.ndarray):\n",
        "    '''\n",
        "    Realiza a contagem da quantidade de números pares sorteados em cada resultado\n",
        "    '''\n",
        "    even_count = np.array([])\n",
        "    for d in data:\n",
        "        even = [x for x in d if x%2 == 0]\n",
        "        even_count = np.append(even_count,len(even))\n",
        "\n",
        "    even_unique = np.unique(even_count).astype(int)\n",
        "    bins = int(even_unique.max() - even_unique.min() + 1)\n",
        "    percentage = np.around((np.histogram(even_count, bins=bins)[0]/len(even_count))*100,2)\n",
        "    ax = px.histogram(even_count, title='Contagem de números pares', text_auto=True, labels={'value':'Quantidade de pares'}, nbins=bins) \\\n",
        "        .update_layout(yaxis_title='Ocorrências') \\\n",
        "        .update_traces(marker_line_width=1, customdata=percentage, hovertemplate='<b>%{customdata}%</b><br><extra></extra>')\n",
        "    ax.show()"
      ],
      "metadata": {
        "id": "nz2Cte9z1x51"
      },
      "execution_count": 10,
      "outputs": []
    },
    {
      "cell_type": "markdown",
      "source": [
        "# Playground 🎢"
      ],
      "metadata": {
        "id": "K8iegg-JAgd5"
      }
    },
    {
      "cell_type": "code",
      "source": [
        "#@title ## Escolha a Loteria\n",
        "#@markdown Depois de selecionar clique no botão Play\n",
        "loteria = \"Megasena\" #@param [\"Megasena\", \"Lotofácil\", \"Quina\", \"Lotomania\"]\n",
        "print(f'Loteria {loteria} selecionada!')\n",
        "print()\n",
        "\n",
        "loto = None\n",
        "# Instancia a Loteria selecionada\n",
        "match loteria:\n",
        "  case 'Megasena': loto = Megasena()\n",
        "  case 'Lotofácil': loto = Lotofacil()\n",
        "  case 'Quina': loto = Quina()\n",
        "  case 'Lotomania': loto = Lotomania()\n",
        "  case _:\n",
        "    print('Loteria inválida!')\n",
        "\n",
        "# Salva os resultados de todos os sorteios\n",
        "if loto != None:\n",
        "  results = loto.get_results(update=True)[:][:,loto.drawn_number_columns]"
      ],
      "metadata": {
        "colab": {
          "base_uri": "https://localhost:8080/"
        },
        "cellView": "form",
        "id": "v08zeH7O0E74",
        "outputId": "0bd656e8-2900-4031-bb8d-e42d975578c5"
      },
      "execution_count": 11,
      "outputs": [
        {
          "output_type": "stream",
          "name": "stdout",
          "text": [
            "Loteria Megasena selecionada!\n",
            "\n",
            "Iniciando processo de raspagem...\n",
            "Requisição iniciada\n",
            "Processo finalizado. Resultado salvo em assets/results/Mega-Sena.csv\n"
          ]
        }
      ]
    },
    {
      "cell_type": "markdown",
      "source": [
        "## Abaixo estão algumas visualizações para entender o conjunto de dados"
      ],
      "metadata": {
        "id": "fSebjSWSZ9iU"
      }
    },
    {
      "cell_type": "markdown",
      "source": [
        "### Exibe a contagem de quantas vezes cada número foi sorteado"
      ],
      "metadata": {
        "id": "jhjMclLgYkYI"
      }
    },
    {
      "cell_type": "code",
      "source": [
        "NumberCount(results)"
      ],
      "metadata": {
        "colab": {
          "base_uri": "https://localhost:8080/",
          "height": 542
        },
        "id": "BNkrrSl4Yr5L",
        "outputId": "309e38a9-ee88-45d5-d879-49586df31245"
      },
      "execution_count": 12,
      "outputs": [
        {
          "output_type": "display_data",
          "data": {
            "text/html": [
              "<html>\n",
              "<head><meta charset=\"utf-8\" /></head>\n",
              "<body>\n",
              "    <div>            <script src=\"https://cdnjs.cloudflare.com/ajax/libs/mathjax/2.7.5/MathJax.js?config=TeX-AMS-MML_SVG\"></script><script type=\"text/javascript\">if (window.MathJax && window.MathJax.Hub && window.MathJax.Hub.Config) {window.MathJax.Hub.Config({SVG: {font: \"STIX-Web\"}});}</script>                <script type=\"text/javascript\">window.PlotlyConfig = {MathJaxConfig: 'local'};</script>\n",
              "        <script src=\"https://cdn.plot.ly/plotly-2.18.2.min.js\"></script>                <div id=\"cebd4c2c-fbac-47d3-8987-617cbd5dddb3\" class=\"plotly-graph-div\" style=\"height:525px; width:100%;\"></div>            <script type=\"text/javascript\">                                    window.PLOTLYENV=window.PLOTLYENV || {};                                    if (document.getElementById(\"cebd4c2c-fbac-47d3-8987-617cbd5dddb3\")) {                    Plotly.newPlot(                        \"cebd4c2c-fbac-47d3-8987-617cbd5dddb3\",                        [{\"alignmentgroup\":\"True\",\"bingroup\":\"y\",\"hovertemplate\":\"count=%{x}<br>Dezena=%{y}<extra></extra>\",\"legendgroup\":\"\",\"marker\":{\"color\":\"#636efa\",\"pattern\":{\"shape\":\"\"},\"line\":{\"width\":1}},\"name\":\"\",\"offsetgroup\":\"\",\"orientation\":\"h\",\"showlegend\":false,\"texttemplate\":\"%{value}\",\"xaxis\":\"x\",\"y\":[4,5,30,33,41,52,9,37,39,41,43,49,10,11,29,30,36,47,1,5,6,27,42,59,1,2,6,16,19,46,7,13,19,22,40,47,3,5,20,21,38,56,4,17,37,38,47,53,8,43,54,55,56,60,4,18,21,25,38,57,15,25,37,38,58,59,4,16,19,20,27,43,18,32,47,50,54,56,2,16,23,27,47,53,12,33,35,51,52,60,20,32,34,49,58,60,6,10,13,19,20,51,23,27,36,37,42,56,5,10,12,24,25,60,11,25,28,30,33,51,6,33,36,46,49,53,1,9,31,38,46,56,17,37,39,51,52,59,1,8,14,28,33,43,24,43,50,54,55,56,10,22,50,53,57,58,13,17,20,33,44,51,3,6,22,24,54,60,3,8,14,43,56,58,7,14,15,29,38,50,17,19,28,45,48,56,5,14,33,36,43,44,5,17,33,39,42,49,13,15,17,40,53,57,4,16,21,23,54,57,3,13,17,25,29,51,6,7,22,38,52,60,10,42,43,45,54,55,12,16,37,45,52,56,3,5,8,12,46,47,12,26,35,38,39,47,7,11,19,24,33,36,2,6,17,25,26,58,14,18,29,38,44,47,7,30,37,44,53,55,1,23,24,32,46,60,3,17,25,35,48,56,2,5,28,34,47,50,7,13,33,35,43,55,6,16,21,44,57,58,17,23,24,25,42,47,15,30,38,46,58,59,3,13,16,38,42,46,5,9,18,21,36,56,2,14,23,29,38,52,2,7,20,35,51,59,7,16,17,27,34,59,12,27,30,37,44,49,2,8,13,28,34,54,3,14,15,20,21,38,8,18,29,42,44,59,6,8,13,24,31,52,9,25,26,40,41,49,8,12,23,50,54,60,1,5,20,25,32,34,12,13,15,26,33,48,12,14,17,27,47,52,1,3,12,13,53,59,25,34,45,53,56,58,17,23,27,40,43,58,16,27,33,43,45,53,1,19,34,43,44,48,25,26,28,45,51,57,2,24,34,37,38,50,21,24,35,36,37,49,8,17,18,23,33,53,21,29,40,49,54,57,12,22,25,31,32,46,2,13,17,25,31,43,23,28,37,40,48,51,10,23,41,47,54,60,15,18,29,36,51,53,4,15,16,24,42,57,4,6,10,25,34,40,6,15,30,37,45,47,6,21,22,34,36,54,4,5,11,28,32,40,4,18,29,37,43,45,13,34,42,44,55,59,9,21,26,40,52,54,2,4,10,35,39,60,1,3,5,23,24,51,2,22,28,31,36,53,8,18,28,51,52,55,6,40,45,46,50,60,4,7,26,40,42,58,5,11,14,35,53,56,13,14,31,33,35,43,11,24,30,33,46,60,14,29,30,46,48,51,1,18,29,31,37,39,19,20,37,42,44,56,1,7,9,49,54,57,1,4,13,21,38,52,3,13,31,43,46,49,5,16,24,35,38,39,2,4,16,24,51,52,21,24,29,34,59,60,1,13,44,48,49,54,18,31,43,52,57,58,4,22,25,32,33,52,12,20,34,37,42,43,7,26,28,34,54,55,6,12,18,37,47,54,4,6,14,20,24,38,5,13,32,36,42,51,20,25,27,33,42,53,9,22,25,37,56,57,1,21,36,38,47,50,3,16,27,40,45,46,2,29,41,44,53,55,11,17,20,39,43,53,13,14,16,26,32,42,5,15,34,41,52,57,25,41,47,53,56,59,6,10,11,28,32,40,21,29,50,51,54,59,3,9,18,21,23,43,1,9,10,32,46,54,13,29,38,42,49,53,4,9,17,27,30,44,7,9,35,41,44,50,5,6,19,34,39,57,4,25,32,36,52,60,21,22,35,40,53,59,1,17,25,38,45,59,15,16,19,22,26,49,5,14,27,37,40,41,3,13,26,27,41,42,7,31,41,44,46,55,10,13,22,41,42,58,8,15,19,20,54,59,6,18,20,40,50,53,8,32,36,44,45,55,15,16,31,41,43,51,25,32,34,42,51,60,6,16,23,24,28,38,32,35,41,55,58,59,7,11,20,28,45,48,12,44,50,52,54,55,3,16,20,43,52,56,5,12,15,29,51,58,2,30,31,42,45,47,8,10,24,33,45,48,12,30,32,35,43,44,17,23,42,49,52,55,4,13,17,21,41,44,4,14,17,43,51,58,9,11,16,35,50,58,2,13,42,52,54,58,6,25,30,37,39,41,21,23,33,38,48,51,8,27,36,41,53,56,4,10,14,19,28,44,10,19,23,35,39,56,12,13,22,57,59,60,1,11,28,33,38,48,2,9,31,35,45,50,1,13,21,37,51,52,7,41,46,51,55,58,4,27,40,43,46,54,10,14,26,35,36,49,17,28,29,42,49,50,11,22,23,36,52,59,1,10,13,20,42,50,1,3,4,28,45,53,22,35,38,39,41,59,5,15,19,26,27,33,5,6,23,26,27,53,6,23,29,39,51,60,1,27,33,35,51,55,3,5,10,28,46,60,2,7,11,16,40,44,9,16,21,34,41,60,17,22,43,46,55,59,14,23,24,25,26,51,6,36,41,44,48,58,17,27,34,42,43,46,4,15,31,38,41,53,5,10,21,32,40,42,1,3,5,23,41,58,1,26,28,41,54,60,4,11,12,19,43,49,25,28,32,33,42,43,3,9,17,32,37,44,7,9,14,17,24,32,5,12,15,19,29,52,1,8,18,23,35,40,10,16,37,50,52,57,12,15,19,34,44,51,5,20,22,30,35,55,12,24,44,45,49,53,11,19,29,44,47,55,29,31,39,41,51,58,26,32,40,43,46,54,18,20,26,34,51,56,3,7,19,24,53,55,15,23,24,25,47,57,13,21,26,32,41,52,20,32,37,38,48,58,10,20,33,40,45,50,6,15,29,45,57,59,3,9,23,30,32,35,6,12,30,31,35,50,7,28,37,46,53,58,14,18,30,35,42,59,3,27,32,45,49,51,12,17,40,42,47,54,23,26,28,36,42,49,13,14,36,53,55,60,13,27,43,50,54,58,5,19,30,48,52,55,2,6,22,24,28,58,7,16,18,20,21,44,2,4,16,21,37,58,1,2,38,49,50,59,11,26,27,37,42,48,13,16,40,43,45,59,11,13,21,33,39,45,8,40,41,44,53,56,16,27,36,42,44,59,19,22,29,37,41,59,3,7,24,32,36,45,15,25,41,42,45,54,2,22,29,31,41,55,10,25,50,52,57,60,7,31,36,45,56,57,9,13,15,37,41,42,6,21,33,44,46,47,25,28,38,41,57,59,11,31,35,40,56,57,4,7,21,22,28,56,11,16,20,23,32,47,19,24,33,47,50,60,8,27,44,51,53,60,2,16,32,37,43,57,3,10,23,30,34,46,16,32,34,35,41,56,21,36,40,49,54,55,7,25,41,42,43,55,15,23,30,34,49,55,4,17,26,32,51,54,11,12,24,37,44,56,1,4,21,22,30,56,16,19,20,32,44,55,2,21,26,32,34,52,1,4,5,19,28,34,7,12,50,54,55,60,13,15,20,33,43,58,4,6,33,43,59,60,5,16,20,30,54,56,11,20,48,53,58,60,8,9,26,43,50,53,1,5,13,25,31,33,7,16,34,41,50,53,2,23,38,46,48,54,1,8,45,46,55,58,5,6,10,21,33,47,17,18,19,25,49,52,5,9,27,35,40,45,14,24,26,29,31,54,9,10,24,36,56,58,10,17,23,27,47,52,11,13,18,26,39,47,16,19,30,37,38,48,22,39,45,53,57,59,4,26,38,40,52,56,10,15,18,22,31,55,4,23,31,47,58,59,5,16,20,25,30,58,5,11,31,38,47,53,9,14,23,24,33,36,25,28,34,42,48,54,7,8,14,30,32,36,12,32,37,41,50,56,29,35,37,44,47,56,3,13,25,33,47,60,6,9,11,17,18,50,6,7,20,25,30,36,7,25,26,30,40,57,5,16,17,18,22,41,13,23,24,34,45,53,5,6,7,12,28,35,22,25,28,41,45,57,7,12,24,31,44,50,3,20,42,46,51,52,1,20,28,33,36,41,5,22,23,24,34,60,2,5,7,33,49,53,24,27,28,38,41,57,9,26,48,49,57,58,12,25,30,40,41,60,7,13,17,30,37,47,7,11,34,41,42,59,5,11,27,38,53,60,19,30,41,47,56,57,13,16,17,26,41,44,4,11,25,29,39,55,4,11,25,39,50,55,2,14,28,29,31,32,22,24,30,32,38,41,14,23,30,41,47,50,14,16,24,37,38,53,5,32,34,37,40,58,12,21,22,28,43,50,6,24,28,43,51,56,16,20,27,30,35,48,3,19,20,31,40,53,12,16,17,19,23,48,20,22,27,47,50,53,4,11,31,32,48,49,11,18,29,44,47,56,26,31,33,40,49,54,8,15,22,25,30,47,1,3,4,21,23,53,21,23,40,44,51,52,29,32,33,38,46,48,5,7,14,21,23,51,10,11,12,24,35,40,2,4,14,23,37,51,1,13,20,27,35,37,23,28,29,34,42,44,4,27,35,44,52,53,14,23,24,26,41,51,7,23,33,43,57,59,2,18,22,26,30,54,4,14,16,31,52,54,1,4,9,36,46,48,5,12,13,16,27,50,9,10,12,33,42,60,5,16,22,23,43,56,16,29,34,49,51,54,4,6,7,12,24,41,10,12,14,33,35,36,11,22,46,51,56,58,7,12,41,46,56,60,1,10,12,26,48,52,19,30,33,39,40,52,8,9,28,32,38,54,10,15,23,30,43,57,15,16,24,41,59,60,7,20,25,44,47,49,19,23,30,46,55,60,7,16,38,40,41,52,2,14,22,23,37,60,5,19,21,54,56,58,2,30,32,35,45,53,12,17,21,32,40,42,13,19,20,29,31,54,23,24,29,47,53,55,16,28,31,41,45,59,7,20,33,37,46,56,19,29,39,47,49,54,5,29,44,51,57,59,19,23,34,37,52,58,4,6,7,15,21,51,10,12,27,33,49,52,13,29,32,38,44,50,1,14,21,35,42,60,1,4,40,42,51,54,4,18,23,33,39,60,16,17,24,39,46,57,1,5,10,24,31,33,2,5,16,26,44,54,1,5,9,42,51,58,10,13,25,35,43,48,3,12,19,27,45,46,5,38,41,45,48,55,24,33,40,41,55,59,13,22,30,31,47,57,9,10,28,46,55,56,31,34,37,38,53,54,14,22,48,50,53,56,24,28,40,47,50,52,5,12,16,18,22,24,17,35,36,39,43,54,22,28,29,43,47,48,23,36,48,52,53,58,5,14,18,43,46,54,7,12,22,34,38,53,4,7,15,16,35,40,15,23,31,39,47,49,6,12,35,36,40,50,5,15,35,42,45,49,10,11,14,20,31,58,6,18,34,42,45,47,1,2,5,24,32,46,7,16,22,28,36,37,11,16,27,47,55,59,10,13,28,29,54,59,11,18,43,44,50,53,5,16,27,43,56,58,7,16,27,31,46,60,1,24,28,38,40,58,24,29,34,47,57,60,2,12,32,38,47,48,2,18,22,49,51,57,14,28,33,44,49,56,18,25,26,31,34,49,8,24,31,36,38,55,10,12,31,38,45,56,5,12,14,21,45,59,2,4,29,33,35,53,16,26,35,45,52,58,1,4,27,38,42,44,1,13,23,33,54,56,7,12,21,25,34,42,8,15,32,45,49,52,9,16,41,42,52,53,12,29,30,43,57,59,5,35,37,38,45,51,12,37,43,55,56,60,8,22,32,33,40,53,18,27,29,36,46,59,6,10,16,34,42,47,7,30,32,37,50,54,3,13,14,24,43,51,8,28,30,32,46,60,17,26,32,36,43,55,8,10,21,25,38,50,26,37,40,47,52,58,4,13,17,27,39,50,16,17,28,30,36,54,4,10,17,24,30,54,10,11,17,31,37,43,1,6,7,29,48,57,7,10,30,44,54,59,3,5,11,14,38,48,13,20,29,42,43,57,3,5,23,30,46,47,2,10,15,21,58,59,6,15,23,31,37,59,11,17,26,36,48,52,3,24,33,48,52,57,7,20,31,32,50,53,8,11,12,17,20,47,15,24,25,33,42,55,3,5,9,45,51,52,1,8,24,34,49,56,1,9,13,50,51,59,17,18,23,28,31,53,11,16,30,36,51,54,8,20,23,34,52,58,4,17,24,42,46,56,2,14,15,17,50,59,3,17,22,27,33,40,15,17,24,27,32,48,13,24,32,34,43,53,8,15,17,39,43,49,19,23,30,37,49,55,15,17,20,29,30,60,17,19,22,26,27,48,2,3,7,18,45,53,6,24,33,38,45,50,1,22,31,46,51,57,11,16,28,29,30,45,8,18,21,22,38,60,5,6,23,25,39,51,13,21,26,29,42,47,8,11,23,37,51,58,5,31,32,36,51,59,3,4,12,29,38,51,7,23,41,49,51,58,3,12,32,34,40,50,6,8,19,22,43,52,17,20,38,43,55,58,6,8,18,34,38,47,3,8,21,25,30,31,20,26,41,46,54,58,14,33,36,38,41,49,6,13,22,24,42,44,12,13,33,53,54,56,16,18,23,35,44,59,17,18,19,38,49,53,19,28,30,38,52,57,8,14,19,30,42,50,8,22,25,48,52,54,15,30,35,39,43,57,17,28,33,36,53,59,5,11,23,29,54,58,1,9,15,22,43,55,2,6,15,18,56,57,3,18,20,24,42,54,18,20,28,32,49,53,8,15,29,36,49,60,10,19,20,29,41,59,9,13,20,32,41,58,2,6,28,49,50,57,1,4,5,11,44,59,21,29,35,36,38,54,16,27,28,34,39,56,7,13,21,24,33,50,7,10,21,27,48,49,8,11,19,30,39,50,3,20,28,46,47,52,4,15,31,34,37,38,3,5,27,33,44,58,5,10,15,45,46,56,28,32,33,34,35,55,1,4,30,41,45,58,3,4,8,34,36,37,4,8,31,40,53,58,10,19,27,33,39,46,15,36,40,42,51,52,15,16,39,45,48,57,5,13,24,33,34,35,7,8,28,32,38,51,5,8,10,15,18,44,9,15,19,22,36,42,9,12,17,32,34,35,15,25,28,32,38,45,6,14,15,25,49,52,28,39,40,44,45,58,19,29,34,41,47,48,8,10,24,26,32,49,3,21,31,36,55,59,6,14,17,26,50,52,8,12,28,31,34,37,1,13,33,38,45,56,1,6,21,25,32,49,1,3,7,18,35,50,4,9,12,13,52,53,13,18,21,27,53,59,3,8,23,31,48,57,6,14,28,47,49,56,14,15,22,23,25,37,3,7,19,34,37,39,3,25,43,45,52,56,6,16,19,47,50,55,4,22,28,30,44,49,13,27,49,52,57,58,4,6,19,28,35,49,35,37,42,46,49,54,11,17,33,34,47,56,17,29,35,40,43,57,4,5,13,17,46,54,4,13,28,30,53,59,14,47,49,51,58,59,8,13,22,46,51,58,16,17,38,39,45,56,12,21,46,48,56,57,9,22,47,49,52,54,4,43,46,53,54,58,15,29,31,42,47,60,5,23,31,33,45,49,8,10,17,30,33,45,8,12,18,23,38,49,7,14,31,57,58,59,6,13,17,25,36,53,2,11,18,30,32,58,1,20,36,39,49,55,16,23,35,37,55,57,5,8,23,34,44,51,10,13,20,32,38,49,7,31,34,35,37,45,6,13,17,18,20,37,11,31,38,41,57,58,13,17,22,25,29,41,3,9,14,15,32,57,15,32,33,35,36,51,12,13,14,31,50,51,3,9,16,20,33,60,6,17,22,29,40,59,2,10,17,23,32,44,5,18,21,29,35,48,7,8,18,39,43,52,8,23,24,28,31,47,3,18,23,48,56,58,4,9,15,17,34,39,15,16,18,28,38,47,14,17,25,30,39,52,13,29,40,45,51,59,6,7,20,41,43,55,7,8,23,30,32,53,12,24,33,36,39,57,11,13,38,39,45,54,2,18,29,30,36,60,11,13,45,46,53,55,6,7,8,13,33,59,4,5,18,25,28,51,1,3,18,34,50,58,13,14,42,47,55,59,1,25,27,29,49,59,10,13,29,47,53,55,1,2,25,43,50,54,11,14,28,43,54,60,22,27,29,40,42,56,5,16,34,38,50,53,4,6,9,23,45,51,16,18,31,34,39,54,10,19,22,29,30,37,7,13,38,46,55,60,4,8,11,12,29,44,15,25,41,46,49,51,4,24,44,49,52,53,6,23,32,35,41,55,6,11,19,27,41,59,6,13,19,24,30,37,2,6,15,58,59,60,25,30,43,45,47,49,16,21,22,33,48,49,15,18,33,50,53,55,6,13,19,44,54,55,12,16,31,48,57,60,5,8,10,27,31,51,2,12,16,24,26,54,3,5,25,33,36,49,3,8,10,13,24,60,8,12,14,16,19,46,1,3,13,22,29,32,26,29,31,49,50,57,19,27,29,38,50,59,9,23,30,42,49,55,8,23,34,39,43,52,12,24,32,40,42,59,7,8,18,22,39,49,1,13,19,45,56,58,8,16,22,30,56,58,15,16,39,40,47,51,12,16,20,45,53,60,1,20,28,32,44,47,2,19,28,48,51,54,5,11,22,27,46,50,10,13,24,41,42,56,8,20,26,37,42,49,26,28,30,32,34,50,11,18,43,48,52,58,10,11,36,41,42,50,13,35,39,45,51,60,12,19,42,46,59,60,1,9,13,17,33,34,17,36,40,44,51,56,14,24,37,40,42,45,14,27,29,31,34,57,3,24,48,52,53,54,10,13,32,47,49,60,11,12,14,19,54,56,5,23,29,42,45,48,9,24,33,41,48,54,10,24,25,29,53,59,26,28,39,45,48,60,10,18,20,24,56,57,5,9,19,24,31,34,6,10,11,40,41,56,1,26,37,39,43,48,35,36,37,46,51,59,16,20,33,58,59,60,3,6,11,20,36,41,14,29,34,40,51,52,5,11,38,46,53,54,4,27,36,40,42,55,4,18,23,25,56,60,1,27,30,49,51,55,1,12,36,38,55,59,7,8,18,25,47,48,7,16,26,29,45,55,1,4,5,16,23,49,1,2,14,33,49,56,7,24,27,40,41,49,22,37,42,48,58,59,9,16,27,38,39,51,24,28,34,38,43,53,6,11,20,34,37,40,18,22,29,32,38,42,24,25,30,42,43,50,9,15,32,41,42,49,8,10,25,32,48,55,14,31,40,42,44,46,3,21,25,37,54,58,2,3,5,22,26,44,21,25,38,53,58,59,4,27,36,37,47,60,2,11,12,35,40,43,17,19,33,37,40,50,5,12,27,33,43,56,4,5,15,26,33,54,1,7,14,41,48,59,11,21,30,35,47,52,6,7,31,49,51,60,8,12,15,41,47,53,8,16,37,50,55,58,11,18,33,57,58,60,13,14,17,31,41,50,15,19,29,37,41,53,6,11,13,21,40,52,9,16,34,37,53,57,28,31,32,35,51,53,8,12,22,27,43,55,17,23,48,50,53,54,2,3,14,24,31,40,1,13,23,31,48,60,1,18,45,56,57,58,2,11,24,27,30,45,2,4,18,27,34,50,3,11,13,15,26,43,2,7,10,17,22,60,1,8,10,36,43,51,7,9,13,39,45,47,4,6,9,22,29,44,5,25,34,39,46,49,5,10,33,40,41,59,7,8,35,43,53,58,1,12,16,26,46,54,7,8,17,35,39,53,4,12,24,33,36,54,2,7,16,29,32,50,6,17,23,28,35,41,7,21,33,35,39,58,3,32,37,39,47,53,12,31,44,51,54,56,3,14,23,25,36,55,9,18,36,44,57,60,1,6,16,36,50,52,17,27,34,48,51,55,3,9,35,37,41,49,1,5,7,37,40,47,4,12,14,30,42,59,8,13,24,32,42,44,5,18,33,43,56,57,2,15,16,45,50,54,6,15,16,23,28,35,6,17,19,49,50,53,2,12,26,31,43,46,27,29,43,44,45,54,9,15,38,40,42,52,1,21,38,41,49,56,11,12,24,32,33,38,14,15,26,30,42,54,6,10,35,45,49,56,12,16,28,29,47,50,24,26,27,36,39,59,2,7,17,34,41,50,20,23,25,32,54,60,4,12,23,26,39,46,2,16,21,37,43,57,1,10,12,25,49,57,2,3,12,21,23,56,1,2,7,19,35,51,4,24,47,48,50,57,10,17,33,42,54,58,4,7,20,25,38,50,4,23,24,25,29,42,2,7,22,35,43,59,3,4,13,34,42,50,4,12,30,47,49,59,5,27,37,38,41,50,12,17,18,30,32,58,1,23,36,43,47,59,30,31,39,45,48,59,12,17,44,45,46,60,13,17,27,29,40,56,9,12,21,37,39,54,1,9,26,40,47,48,3,7,45,47,53,55,3,10,16,30,37,50,1,19,24,42,50,58,15,22,32,38,50,54,4,8,30,33,37,59,12,16,20,21,29,50,4,12,25,34,35,48,14,21,29,34,46,47,10,35,38,51,52,60,3,5,14,29,34,51,5,10,37,46,54,58,12,27,42,46,47,50,3,15,35,41,57,60,2,14,23,28,50,56,20,31,36,37,45,51,25,26,29,36,52,54,7,10,28,50,51,59,8,10,13,39,54,56,2,11,23,35,42,59,4,8,21,32,43,48,8,27,37,42,53,56,5,8,17,35,37,48,10,11,26,27,31,41,20,31,34,37,54,60,17,19,29,31,44,57,6,31,38,39,50,60,2,6,19,22,28,43,9,14,19,35,42,58,9,29,34,43,45,56,3,15,16,33,51,57,3,38,42,47,55,56,14,21,26,29,36,48,5,19,24,34,39,43,6,12,47,48,52,58,3,4,9,29,32,52,19,29,35,42,55,57,1,7,11,37,38,56,11,19,20,22,42,48,6,14,18,24,48,60,3,5,10,21,28,57,3,13,37,47,56,59,2,30,36,43,48,60,18,26,35,41,47,60,2,8,27,32,49,56,2,15,21,31,46,57,5,11,15,23,25,30,1,4,5,33,37,48,10,28,32,41,47,57,11,13,38,39,54,57,9,15,23,45,46,56,2,8,11,41,46,50,9,19,37,39,50,57,20,21,30,40,47,52,10,29,30,34,43,52,8,9,22,25,41,44,5,19,25,46,51,58,10,17,21,32,45,46,4,29,33,36,38,42,4,10,17,27,41,52,1,15,26,51,54,59,6,7,9,20,33,48,10,21,28,40,41,47,6,7,8,27,45,53,18,24,30,42,51,56,23,28,38,42,50,53,10,14,32,47,50,56,2,13,41,49,51,53,3,32,33,42,48,50,15,17,23,33,39,49,13,16,46,53,57,58,10,16,17,34,44,51,18,31,33,49,57,58,17,22,28,38,52,59,5,6,16,24,34,60,9,23,30,38,44,47,7,8,11,18,37,43,17,29,31,35,43,59,7,22,32,36,38,51,7,9,30,44,51,60,1,16,34,36,45,48,16,24,34,44,54,57,14,19,20,40,48,52,2,3,44,47,50,54,14,15,27,42,44,48,17,27,32,34,47,56,8,9,39,44,49,58,7,22,25,44,59,60,3,16,19,32,35,58,6,14,23,34,38,44,30,38,46,51,56,59,3,17,24,25,27,44,3,24,31,42,43,53,11,15,40,41,42,47,2,3,17,49,50,59,4,18,23,31,37,54,9,12,34,46,47,57,2,8,17,22,42,44,39,40,42,47,59,60,2,8,11,12,19,35,15,24,32,50,53,57,8,11,31,33,42,57,23,26,27,41,51,53,5,27,36,40,46,48,10,19,26,28,44,54,21,22,25,40,51,57,27,29,42,49,50,51,8,21,34,40,43,52,1,5,10,17,47,58,5,18,31,43,55,58,4,19,30,34,57,59,10,20,42,44,52,59,18,20,24,36,53,58,4,8,12,41,45,60,13,15,20,28,31,36,11,12,37,38,43,54,10,28,29,35,42,46,25,30,37,46,49,51,4,18,24,43,51,56,17,41,42,44,45,60,21,32,37,52,53,60,2,11,12,14,22,39,4,13,31,33,47,51,17,33,37,50,55,59,1,12,21,32,34,44,24,40,50,52,54,60,20,24,34,39,54,60,7,9,17,21,22,54,15,16,19,22,34,35,1,19,42,44,49,52,3,18,26,51,53,56,20,24,28,37,41,44,2,41,43,55,57,58,5,11,22,31,35,41,7,21,22,43,46,57,3,4,8,30,45,54,18,20,36,53,54,58,4,18,21,34,38,59,13,16,32,33,34,56,18,23,50,52,55,58,5,17,20,32,41,55,32,44,48,51,53,59,2,4,15,16,55,57,7,14,24,29,35,39,9,36,37,41,51,53,1,9,19,25,50,52,17,22,26,28,38,42,3,15,27,29,36,53,1,6,28,29,46,49,4,19,21,26,29,54,14,30,36,38,46,59,9,12,23,33,45,51,17,20,26,28,48,49,5,28,33,36,37,38,23,25,30,46,47,59,4,8,12,38,44,52,3,25,31,41,43,60,5,17,24,52,55,57,1,9,35,41,48,57,12,13,19,41,45,49,2,15,39,50,53,57,2,20,21,27,51,60,8,22,36,37,46,52,21,33,34,40,41,59,19,23,26,31,33,36,4,10,32,33,49,60,16,27,35,39,49,57,20,28,37,46,49,55,7,17,19,34,36,39,2,17,21,36,42,53,8,14,25,39,45,51,1,3,21,25,44,48,7,13,18,29,31,45,5,14,22,29,33,44,2,21,22,30,41,52,15,27,35,50,57,59,6,19,23,37,49,50,5,25,31,33,37,51,10,11,15,27,53,60,5,8,18,42,52,59,3,12,23,41,47,58,16,37,43,52,58,59,4,8,27,44,54,59,1,5,12,47,52,59,3,5,11,14,33,58,22,41,44,46,52,54,1,23,41,44,51,52,23,41,42,48,49,59,14,24,34,39,49,55,2,11,18,27,30,54,1,16,39,42,48,55,5,8,18,24,33,57,5,12,21,32,33,35,46,47,51,54,57,59,24,25,32,34,50,57,7,13,22,33,48,51,3,5,11,33,39,57,6,18,19,33,34,53,2,4,16,21,36,53,2,11,40,48,49,55,15,17,37,48,50,59,8,13,20,26,33,42,5,30,36,39,57,58,1,4,26,28,41,58,5,13,14,18,30,57,1,4,13,30,51,60,13,25,35,41,50,56,5,21,28,34,54,57,4,11,14,33,44,45,15,18,31,33,34,56,1,8,30,36,47,53,12,16,20,31,38,45,9,30,33,37,40,41,14,23,25,28,38,53,3,5,7,9,17,32,12,16,18,27,42,58,3,15,28,31,39,51,15,17,29,35,36,59,1,8,34,41,53,58,8,12,24,40,43,49,16,22,32,38,40,45,4,10,20,43,46,47,4,16,18,46,56,59,6,15,19,24,31,32,13,27,31,34,47,58,8,17,46,48,56,60,2,21,27,29,32,38,2,10,15,18,29,39,8,9,15,38,41,60,1,4,6,8,25,28,5,24,25,26,42,60,3,20,29,40,44,58,4,16,31,36,54,55,7,15,20,21,23,29,9,17,18,32,53,55,3,4,21,22,28,32,18,24,36,44,55,58,29,38,39,49,53,58,12,15,27,37,51,60,3,7,25,31,40,58,5,10,16,23,26,27,29,40,43,44,45,47,4,6,12,37,41,42,2,4,17,33,48,55,4,27,36,37,49,52,7,13,15,34,42,48,1,6,12,29,34,58,2,3,13,37,46,54,2,11,21,30,35,52,14,19,40,47,55,58,7,9,12,19,20,41,8,9,25,41,57,60,3,8,17,26,28,49,5,9,11,20,25,60,6,19,31,34,51,56,9,24,44,51,55,58,4,13,23,29,46,47,1,2,19,32,39,52,2,33,42,43,51,55,5,21,31,39,40,56,2,7,8,18,40,45,18,22,28,29,39,53,10,27,28,29,40,52,6,10,17,33,51,53,18,20,33,44,47,60,20,26,34,51,52,54,5,16,17,20,24,32,1,8,23,37,54,57,24,33,40,43,46,49,15,16,26,29,43,57,5,6,17,33,39,54,1,3,18,20,42,49,1,11,26,51,59,60,10,27,36,39,41,52,4,36,44,46,53,56,6,7,28,35,43,51,2,20,24,27,36,52,1,6,28,39,44,55,10,12,36,44,54,57,13,18,25,30,46,51,14,21,25,48,51,60,10,11,13,35,39,58,1,5,6,17,31,50,28,40,42,54,55,57,1,2,8,10,14,48,3,16,21,28,38,57,2,5,17,29,34,52,14,24,26,33,45,60,7,10,11,13,43,57,8,11,15,16,52,57,15,27,34,42,49,53,13,14,18,27,41,60,12,15,16,20,27,32,6,8,38,50,53,59,2,3,4,15,49,59,18,20,24,45,51,57,1,12,14,16,37,45,1,3,16,18,41,42,9,21,23,30,41,56,2,8,23,33,37,55,1,22,44,47,49,50,4,16,19,28,29,49,7,19,30,39,43,57,6,10,25,32,43,49,4,10,14,25,28,56,25,27,44,47,48,57,9,17,28,45,49,53,5,8,16,23,41,53,5,7,37,43,53,54,9,18,19,43,47,54,8,25,32,34,36,44,3,10,23,29,47,50,10,12,16,21,39,53,4,10,19,32,33,42,5,6,9,11,18,37,3,6,34,41,43,45,5,12,24,28,36,37,11,18,20,34,41,56,9,16,24,29,52,56,4,17,38,40,50,55,10,20,23,28,42,43,5,20,29,33,40,59,12,21,39,40,50,55,2,4,6,10,23,45,3,20,28,32,36,46,6,24,31,35,42,57,2,18,20,32,37,48,9,20,24,36,40,42,17,23,24,27,49,56,1,9,30,33,34,40,19,23,27,38,41,49,9,10,21,36,41,48,10,16,21,23,27,36,3,13,14,16,41,52,1,17,21,33,48,56,11,20,21,30,50,52,14,31,35,38,44,55,7,17,18,33,41,42,6,7,10,12,24,57,9,11,23,35,46,51,10,19,28,41,55,56,2,3,6,35,49,58,1,15,28,43,50,57,4,15,43,47,50,60,3,9,20,36,53,54,7,9,39,43,44,60,6,8,11,14,29,52,6,14,26,28,42,45,4,9,25,32,33,43,4,32,34,43,52,58,3,6,29,36,47,59,3,15,16,22,25,54,18,30,37,41,44,50,4,9,13,17,20,47,1,6,17,27,35,40,8,20,21,43,44,55,10,34,41,44,45,54,7,35,40,44,50,55,4,17,18,54,56,59,26,44,46,49,55,56,4,14,19,39,45,60,7,11,16,18,33,49,3,7,29,33,42,56,4,31,42,52,57,59,5,8,14,24,29,30,8,16,24,39,52,60,12,17,19,32,47,55,5,18,23,32,49,54,1,8,16,34,36,49,12,27,30,33,52,55,5,10,16,21,39,58,9,22,29,36,51,56,4,5,6,19,23,39,7,31,32,34,37,43,19,21,25,28,43,50,2,4,15,18,25,36,9,28,31,36,37,42,10,27,40,46,49,58,9,37,40,50,58,60,3,15,26,28,31,58,3,30,35,44,47,60,1,10,18,19,44,49,3,16,19,24,33,60,6,10,28,33,34,53,6,23,31,33,39,52,27,28,29,32,48,55,7,8,23,36,46,54,15,17,28,31,35,52,1,4,14,21,25,51,14,20,29,36,44,47,6,17,19,34,46,55,4,12,14,21,26,28,20,28,40,41,51,58,9,24,31,44,48,49,9,29,41,43,46,49,23,30,31,54,55,60,5,6,34,46,53,55,1,3,5,18,40,48,4,7,42,47,48,51,18,22,25,30,31,41,5,17,31,47,51,53,6,14,17,26,40,49,20,40,42,52,54,60,22,28,30,31,35,54,20,28,43,51,52,56,4,5,20,47,53,56,1,11,14,23,42,48,11,13,27,34,46,49,3,10,13,30,41,57,6,12,28,43,52,56,5,7,24,25,36,47,6,7,39,47,51,52,2,3,12,16,37,47,11,14,21,30,33,49,33,38,47,50,52,55,1,22,30,45,50,53,5,22,28,47,59,60,12,30,34,44,57,60,18,20,26,31,44,45,2,4,29,52,56,60,5,10,12,20,29,37,4,9,23,27,28,30,2,10,21,35,43,54,7,8,12,13,15,41,8,17,19,40,43,49,9,20,44,52,59,60,14,21,27,31,35,50,10,11,19,37,53,56,3,11,16,22,25,33,17,20,49,52,57,59,2,9,12,14,32,54,6,13,24,41,50,53,17,20,26,27,55,57,3,6,19,20,58,60,36,37,39,49,54,60,22,29,36,41,48,58,16,19,23,28,39,58,3,10,11,39,54,56,28,32,36,49,55,60,8,9,11,48,53,60,7,9,30,33,38,55,5,10,25,39,43,52,4,13,14,26,29,35,2,6,11,36,37,48,9,11,22,32,35,56,1,12,20,26,45,54,5,14,17,30,35,38,3,7,9,10,31,34,3,15,31,36,48,54,2,23,33,35,40,50,3,11,26,34,45,53,5,29,30,36,41,48,10,25,30,47,50,51,4,7,13,25,27,58,5,11,15,28,43,50,10,23,29,31,33,46,2,33,34,37,41,53,5,15,43,48,52,55,5,14,37,43,46,58,5,8,19,26,48,57,15,17,35,42,47,48,19,21,27,41,53,57,31,32,34,40,50,55,10,31,40,50,55,56,4,28,30,31,35,54,10,23,36,50,52,60,12,30,32,40,49,60,9,12,19,22,35,37,5,20,23,27,39,49,8,11,12,15,18,22,22,29,32,49,54,59,3,5,19,24,30,35,10,16,20,26,49,55,3,8,17,20,38,53,5,18,21,26,39,59,13,14,24,39,40,45,1,15,37,39,48,52,8,9,12,22,42,49,10,13,25,26,28,45,11,34,45,48,51,54,9,19,23,29,32,57,2,8,15,25,34,45,2,10,34,37,43,50,10,37,40,43,57,59,3,9,11,24,36,51,20,33,34,57,58,60,3,8,36,40,51,53,1,2,24,40,51,59,5,27,34,46,48,52,2,14,35,39,49,51,2,17,23,43,44,51,7,9,14,18,29,39,5,23,38,39,51,54,26,33,35,38,43,53,2,15,26,27,30,52,11,26,47,55,57,59,4,6,39,46,54,58,19,23,29,31,41,53,10,14,22,41,42,53,5,7,8,9,11,39,4,18,26,36,41,53,4,17,36,37,51,56,13,19,24,46,50,60,6,10,33,39,42,60,4,20,30,41,47,58,3,16,17,44,53,60,4,5,15,17,27,51,5,9,24,31,33,42,1,2,39,48,52,59,13,26,27,28,35,52,13,19,26,40,58,60,13,17,21,39,40,59,2,14,48,55,58,60,5,9,11,22,36,40,12,18,31,50,59,60,4,16,24,25,30,56,8,14,29,35,36,40,6,10,16,20,29,54,8,11,14,30,36,38,4,23,39,52,55,56,8,30,40,44,59,60,20,21,26,29,31,36,10,15,28,31,33,38,2,5,28,33,51,52,11,12,31,33,42,52,17,30,32,40,42,56,1,3,8,13,27,52,2,3,14,23,34,50,18,40,47,54,57,58,9,11,23,30,31,54,1,13,24,40,44,50,4,6,29,48,50,51,2,5,15,20,43,57,10,14,43,46,49,53,2,5,11,13,56,59,14,15,30,53,55,60,8,22,32,43,53,56,43,44,46,53,54,59,3,16,23,25,51,56,2,10,15,44,56,57,8,19,46,51,52,54,7,14,15,20,23,35,3,5,11,36,44,46,6,19,22,34,43,45,7,10,32,43,47,54,7,8,24,30,33,47,7,12,25,26,32,39,8,9,14,32,53,59,7,9,12,19,45,54,5,20,22,28,29,30,1,4,26,39,43,49,38,42,44,52,58,60,1,27,29,38,50,52,8,13,25,34,42,48,6,13,29,30,35,37,11,14,16,28,34,46,4,5,16,18,27,51,17,24,25,38,41,55,10,47,51,53,59,60,10,21,43,47,53,55,6,15,25,37,48,55,18,29,31,44,51,57,2,5,16,20,35,43,10,11,18,19,30,50,16,35,36,41,52,54,10,23,27,43,53,59,7,8,11,39,43,50,8,18,21,30,48,49,9,24,26,39,46,57,3,5,13,24,35,59,25,26,28,33,42,51,1,6,8,10,25,27,3,14,20,22,49,51,1,32,38,47,51,54,2,20,35,38,45,51,1,18,19,33,43,60,7,10,14,16,54,59,13,21,30,36,59,60,1,11,20,37,40,52,5,7,42,46,50,60,19,20,31,42,51,56,8,19,21,36,42,59,7,17,19,26,40,50,12,32,40,47,48,59,9,19,45,46,54,56,7,12,38,39,45,56,9,19,20,50,51,60,3,4,29,36,45,55,13,33,36,41,50,56,9,18,24,35,36,59,3,11,13,27,32,47,2,8,38,42,48,49,11,17,24,39,46,49,6,13,21,22,31,46,1,19,24,26,52,55,3,15,16,35,37,47,6,10,12,17,28,53,2,16,17,25,50,54,23,27,30,37,38,44,2,12,19,22,36,58,25,35,42,45,52,57,10,13,20,40,44,53,2,24,26,32,35,50,12,27,37,44,54,59,2,7,13,29,38,43,10,21,26,29,32,38,5,16,24,32,38,46,2,4,5,27,49,59,3,4,8,11,47,49,3,36,40,46,58,60,7,27,39,52,55,57,6,21,28,31,33,43,14,25,28,45,53,58,9,11,21,49,53,54,2,5,12,13,25,35,2,5,17,18,54,59,5,12,36,45,50,58,3,14,52,55,57,60,11,27,30,40,44,57,5,13,16,17,27,55,7,9,23,44,46,55,2,18,30,31,45,56,27,35,36,37,42,59,12,28,38,39,51,56,18,27,32,43,50,52,22,29,31,43,50,54,1,16,28,39,44,57,4,19,27,28,29,31,7,12,19,34,40,53,2,8,12,28,33,43,4,18,24,28,39,44,11,16,24,35,46,50,5,11,17,19,44,48,29,48,52,54,55,58,3,4,7,15,27,56,14,32,33,40,42,51,34,39,43,56,57,60,9,26,34,43,53,54,11,12,25,33,48,54,2,9,10,21,27,38,13,16,20,26,39,42,7,8,27,31,32,51,3,14,17,32,37,39,7,10,17,24,38,57,18,29,31,42,43,53,4,19,20,24,39,43,6,19,26,47,50,58,18,29,40,42,50,54,8,12,32,44,46,48,6,8,24,37,41,45,13,15,33,45,54,55,21,37,44,46,49,57,26,36,40,46,49,51,3,19,22,24,35,49,5,12,45,52,56,59,7,8,10,12,27,56,17,21,30,48,52,58,2,11,16,18,36,45,19,31,39,44,53,59,2,5,13,17,39,44,3,8,21,25,27,43,3,7,15,29,38,60,7,16,29,36,38,50,6,15,18,24,30,44,8,39,44,47,53,56,7,15,19,34,37,55,9,12,22,39,48,60,2,19,22,30,46,52,5,9,13,33,40,54,16,24,25,42,45,59,4,13,14,40,46,52,3,18,22,34,55,58,4,15,45,47,50,52,1,13,23,24,30,57,22,23,26,37,38,48,7,14,31,33,36,49,2,34,35,42,43,55,2,6,28,36,51,56,17,29,36,38,53,56,12,13,20,30,34,49,12,20,32,48,52,54,2,5,27,28,48,55,5,19,32,41,49,58,6,13,24,32,40,51,1,19,28,33,39,41,1,25,29,36,56,60,2,6,18,30,52,56,26,27,31,38,44,45,2,10,11,33,52,57,2,14,28,50,57,58,6,13,25,32,47,57,4,27,29,41,48,52,14,32,33,36,41,52,6,8,14,26,36,40,15,16,34,42,46,59,2,4,16,33,44,51,2,6,30,34,35,52,4,14,27,38,50,52,31,36,44,47,49,54,5,9,25,27,38,40,13,22,28,29,40,48,2,24,32,50,54,59,6,11,16,26,44,53,4,6,13,34,37,51,23,24,26,41,52,53,1,2,10,19,20,37,4,13,35,54,56,58,2,34,36,38,51,55,10,25,33,36,40,58,12,18,23,25,45,50,2,12,33,57,58,60,1,2,3,11,28,43,12,13,37,44,48,51,4,10,26,37,47,57,3,4,46,50,56,59,10,27,37,40,47,55,21,48,50,54,57,60,9,14,21,26,36,52,17,27,28,40,44,55,6,9,11,34,41,53,1,35,39,53,55,56,17,20,24,29,49,53,4,27,30,36,54,59,1,6,10,34,40,54,4,9,17,23,28,53,4,22,25,38,45,51,1,15,24,26,28,48,1,3,31,32,43,52,6,26,45,50,56,60,4,9,18,44,46,48,7,12,24,27,30,49,2,14,24,28,35,50,4,13,14,44,49,57,14,18,28,41,47,54,4,5,7,27,45,58,6,11,27,40,46,49,8,22,26,33,37,54,10,18,31,43,57,59,1,7,13,29,37,54,6,22,43,51,52,57,3,4,16,22,36,42,2,10,12,30,41,42,1,2,6,9,16,32,3,14,18,34,42,49,24,46,50,51,52,56,17,18,30,35,39,58,1,6,27,46,51,59,1,8,17,44,46,53,4,8,17,29,31,45,11,28,35,42,46,58,17,28,31,56,57,58,16,17,23,42,59,60,4,13,14,18,49,59,4,18,20,34,45,60,7,17,38,45,52,56,8,9,28,41,48,55,5,6,15,23,56,59,7,31,35,36,46,48,11,14,18,30,33,39,5,8,23,32,33,56,22,25,31,39,41,44,2,12,40,46,52,53,2,26,30,35,46,54,10,16,28,47,51,59,16,32,36,42,44,48,4,13,15,19,36,58,11,15,17,34,35,49,10,16,28,33,48,53,12,13,24,41,42,44,2,11,23,31,42,44,13,21,29,34,47,57,1,12,28,29,34,48,8,9,25,41,54,55,13,18,29,32,50,58,6,10,33,50,51,56,23,27,35,52,53,57,8,10,20,26,49,58,3,17,27,32,47,54,5,24,37,44,49,58,7,11,12,30,39,57,7,15,20,23,30,41,2,21,30,35,45,50,4,6,11,24,45,48,4,17,38,44,53,60,2,9,10,18,21,28,19,41,42,44,47,54,10,12,16,20,32,53,9,13,21,27,36,56,2,15,19,21,23,38,7,18,24,26,39,46,20,21,22,29,46,60,30,32,49,50,52,53,2,5,23,33,52,59,1,4,7,10,11,52,4,16,18,31,45,46,7,15,17,31,42,54,8,12,16,29,37,58,20,30,36,38,47,53,23,26,28,54,55,60,10,12,23,37,47,51,1,6,13,20,36,43,25,38,44,46,53,54,18,37,39,41,43,51,5,6,11,32,36,60,2,15,30,38,48,53,19,24,25,28,42,58,5,15,18,31,42,53,15,18,24,42,46,56,3,29,32,46,55,60,20,27,42,45,46,47,7,16,21,35,36,38,6,27,28,33,46,48,1,4,5,14,45,56,13,15,21,26,30,46,11,14,25,32,51,59,3,6,30,37,53,56,25,34,40,49,51,60,1,6,14,17,33,36,14,15,25,30,31,34,1,4,13,17,38,48,2,9,17,18,45,47,3,22,27,28,50,54,2,43,47,48,49,55,8,39,43,46,47,58,8,19,21,30,52,56,23,29,32,36,45,49,4,5,11,19,41,51,7,20,34,40,44,55,4,10,23,33,38,55,31,36,38,41,42,49,4,9,17,18,21,38,6,7,8,23,43,53,2,5,8,42,46,59,1,5,7,10,12,45,5,10,16,44,50,52,29,31,36,42,47,53,3,10,15,35,36,58,9,23,32,35,46,57,8,10,24,45,56,60,8,12,22,35,40,44,13,20,27,31,53,60,2,21,24,27,40,51,9,19,21,30,31,42,1,15,37,42,46,54,7,31,32,41,51,52,5,6,17,43,54,59,2,6,13,26,53,60,1,4,9,35,36,53,24,28,47,50,51,58,6,13,17,36,42,51,4,18,31,44,46,49,14,17,21,27,43,49,5,20,26,31,33,44,28,31,40,42,46,58,3,23,26,31,47,54,9,20,24,43,51,52,5,8,17,42,46,47,13,23,27,34,38,57,10,22,24,38,39,49,4,5,7,21,45,53,33,43,49,50,56,59,2,27,32,41,47,58,11,22,36,40,45,52,3,5,14,35,43,52,20,26,32,41,45,57,26,29,34,38,50,60,4,20,24,35,47,59,1,7,30,43,44,54,4,29,44,47,48,60,6,18,24,27,56,59,1,2,11,13,36,49,9,10,23,33,44,51,8,23,28,30,32,51,19,26,33,35,51,52,1,5,24,47,55,56,1,2,38,41,42,58,16,29,34,35,49,51,2,6,18,23,31,46,23,29,30,33,46,51,3,23,42,43,47,60,16,19,20,28,37,60,10,13,16,22,34,60,8,18,21,31,37,38,19,23,34,40,41,58,12,17,23,38,53,54,15,16,18,20,22,48,24,33,38,42,44,54,17,23,29,38,57,60,8,27,35,38,41,44,7,24,26,28,44,57,1,21,22,27,32,45,7,16,33,42,50,58,7,24,28,46,53,56,4,6,11,43,54,56,7,10,14,37,45,54,7,11,19,23,40,49,4,10,20,33,37,49,8,17,34,38,42,51,13,16,27,43,48,58,10,14,25,29,33,57,18,20,27,40,49,55,8,21,23,29,36,48,1,5,11,16,20,56,1,2,23,27,45,51,7,12,24,44,51,56,5,40,47,52,55,57,28,29,31,45,48,49,1,17,19,30,33,47,21,27,31,45,55,56,1,3,5,10,20,42,5,10,23,24,35,47,22,30,42,50,58,59,3,18,34,35,36,56,1,2,11,37,48,51,10,15,28,33,51,52,9,11,17,19,35,52,1,2,27,28,46,47,23,37,38,46,47,51,1,6,8,11,33,50,7,13,35,37,39,51,4,12,32,33,34,48,9,12,18,31,39,50,3,18,31,39,46,51,9,14,37,44,46,55,15,24,37,46,49,58,18,23,30,32,42,56,2,5,13,27,41,53,21,24,26,35,45,53,1,10,24,39,45,58,11,13,14,27,44,56,5,15,18,19,21,38,20,29,34,37,45,57,24,36,38,43,44,58,1,12,17,31,37,46,8,23,30,51,53,58,11,13,24,28,44,45,1,6,10,30,33,38,15,18,41,48,50,58,3,9,18,32,40,56,17,19,33,35,39,52,3,23,26,35,39,49,1,7,11,32,51,59,25,27,29,37,50,51,12,31,34,36,48,56,7,16,20,27,36,52,17,29,32,38,45,50,7,19,30,35,42,47,7,21,28,56,58,59,22,26,38,39,45,50,2,12,19,29,50,59,3,10,16,23,27,29,2,8,24,36,51,52,16,20,35,40,53,60,2,25,36,41,42,53,2,9,16,37,44,58,4,30,31,32,47,53,1,22,31,34,44,54,18,23,31,39,49,57,4,12,19,33,36,38,9,23,39,41,49,58,14,27,30,46,52,60,27,33,37,39,58,60,16,18,26,30,31,34,3,10,42,49,54,57,4,6,19,20,40,41,3,8,28,39,42,59,7,14,23,43,44,53,1,10,17,24,42,51,5,18,27,43,49,59,25,34,38,45,53,60,3,5,9,14,41,46,12,17,25,29,41,52,6,16,33,34,45,46,12,13,24,29,32,41,5,8,42,50,51,59,12,28,37,46,48,53,9,10,17,32,34,46,10,15,25,38,47,53,15,18,20,32,48,49,11,19,21,23,27,52,4,10,29,31,34,35,9,12,14,29,42,56,9,13,18,47,52,60,6,18,37,40,41,58,6,33,34,48,53,59,2,10,13,41,49,53,3,13,14,29,33,43,15,17,20,31,41,48,15,22,23,42,51,57,9,36,37,53,55,60,8,15,29,35,45,54,20,27,30,31,40,53,2,5,8,18,30,48,6,13,14,28,35,45,13,25,28,37,43,56,6,11,16,23,36,42,2,14,21,22,51,60,10,24,25,36,47,48,9,10,36,50,53,55,26,32,42,45,55,59,9,12,15,21,31,36,6,7,29,39,41,55,1,6,28,37,56,58,22,23,41,46,53,60,16,26,35,39,44,45,5,7,11,34,35,50,32,37,44,47,54,60,11,26,27,30,34,41,2,20,27,28,32,38,12,19,27,39,41,45,15,30,39,41,45,59,1,12,20,30,52,60,2,18,31,42,51,56,10,11,14,19,39,48,4,19,38,44,52,55,4,10,38,40,45,48,12,25,30,39,56,57,6,20,22,31,33,34,1,8,22,49,52,53,6,18,34,47,52,57,4,6,16,18,21,38,4,15,26,30,54,55,5,11,27,41,42,54,2,6,8,21,25,34,1,5,13,25,26,29,3,13,42,45,56,59,6,25,43,57,58,59,11,13,26,27,28,50,12,18,46,50,53,55,2,16,17,18,41,47,13,14,22,54,56,58,1,5,34,37,40,60,30,42,47,50,55,58,22,23,34,48,53,54,2,13,14,35,54,57,2,9,23,28,45,53,1,3,4,39,51,53,6,11,16,19,31,56,6,19,34,43,45,54,2,6,13,14,17,44,4,8,29,38,49,50,20,21,28,48,50,59,17,22,27,31,49,57,11,20,35,42,55,58,1,15,16,22,25,43,2,14,20,25,41,45,9,12,23,24,46,54,1,10,25,43,50,56,5,17,32,35,37,57,20,23,32,34,37,45,9,11,13,15,19,51,9,11,27,46,51,53,8,11,25,39,41,60,5,10,12,22,28,46,1,4,26,39,47,55,2,6,10,15,53,56,17,18,26,30,33,37,3,19,23,27,40,45,19,22,31,36,52,53,1,22,26,43,50,53,4,9,21,34,54,59,5,6,12,19,30,60,10,11,21,50,51,54,17,19,32,43,48,51,26,33,42,43,53,54,6,11,32,40,48,59,7,13,24,30,32,53,3,7,29,37,54,60,15,27,28,32,48,55,14,34,46,47,56,57,2,3,7,16,27,42,2,17,22,24,48,51,8,28,36,47,50,58,8,15,18,45,59,60,41,44,48,50,54,57,5,8,24,30,57,59,7,22,28,32,56,58,15,17,33,41,47,48,3,6,13,38,49,51,16,18,22,24,34,43,8,26,28,33,41,54,3,4,37,39,48,50,3,9,13,29,30,51,6,24,26,30,34,49,1,6,45,49,50,57,9,40,41,50,55,58,3,5,11,27,35,44,23,24,32,38,40,41,8,18,21,22,35,37,13,17,29,45,49,50,1,2,34,39,41,45,25,30,31,34,43,59,6,10,15,24,38,39,2,9,14,22,32,37,13,23,25,35,52,53,22,28,30,33,55,59,1,13,14,21,26,51,10,30,36,40,44,60,2,4,9,35,45,60,2,8,35,42,49,56,16,23,45,56,58,59,4,5,14,37,40,60,1,5,31,32,37,42,14,17,36,38,44,60,3,10,17,21,22,43,1,5,23,25,28,31,11,23,24,26,40,52,18,20,30,32,33,40,3,11,17,33,52,58,11,13,25,39,46,56,5,25,28,41,53,54,10,28,37,43,44,47,1,45,47,52,53,55,7,18,39,41,44,51,13,16,23,24,32,35,12,16,26,40,56,57,5,10,20,57,58,59,5,16,19,37,51,56,3,10,30,44,53,56,9,10,19,35,37,41,16,27,28,47,59,60,1,4,23,32,38,59,7,14,18,23,32,59,3,7,15,40,45,54,11,23,34,41,46,56,1,10,17,18,45,48,16,23,25,28,30,44,5,11,22,24,51,53,1,3,19,23,47,58,6,17,22,30,37,50,16,17,19,28,45,58,21,31,35,53,54,57,2,3,5,10,15,34,3,6,14,15,21,25,9,22,25,47,52,58,12,34,45,53,55,58,20,23,35,36,44,48,8,11,27,28,43,46,11,12,26,30,37,53,2,7,9,18,21,25,9,10,15,28,43,45,12,15,18,21,51,56,29,35,43,54,56,57,6,27,33,39,40,60,3,25,35,38,44,48,4,10,13,23,27,57,11,40,43,45,47,57,6,9,15,22,39,48,16,18,23,30,32,33,10,13,33,35,36,42,4,14,17,43,52,56,16,29,33,39,42,44,2,20,21,33,48,57,3,9,18,23,50,52,4,21,25,33,36,46,16,17,20,22,38,50,11,28,37,45,54,60,25,31,33,39,43,45,10,15,16,19,28,35,20,22,36,38,41,43,9,34,42,45,46,59,12,16,30,52,53,58,1,17,38,43,45,47,2,3,14,20,30,46,5,11,13,19,30,31,10,26,28,51,53,59,3,10,23,36,43,52,4,17,18,37,52,56,2,8,9,15,22,34,10,16,21,29,44,55,2,14,15,19,35,59,8,23,35,39,56,59,1,3,10,17,23,24,3,12,24,40,51,52,6,10,24,29,43,55,10,16,32,40,42,54,7,24,29,39,45,52,9,13,16,17,36,47,1,9,24,38,48,49,6,18,20,24,43,48,9,11,12,30,39,43,8,9,39,47,57,59,4,8,10,21,45,54,4,6,39,44,52,60,8,33,40,52,55,59,12,20,24,28,33,57,1,6,14,22,30,56,10,21,32,34,48,57,14,16,19,21,33,55,9,21,36,38,52,53,9,26,29,42,43,45,9,25,33,35,40,49,15,27,33,36,41,45,5,8,20,28,40,45,2,14,22,23,29,47,15,20,22,24,34,55,8,21,27,35,43,56,1,18,25,37,39,43,17,25,26,30,32,50,5,6,15,25,39,53,4,5,7,34,42,60,2,27,32,36,48,50,26,28,35,38,48,55,10,13,19,32,40,60,13,30,32,39,46,54,35,36,39,44,48,52,8,20,30,32,48,59,5,10,18,24,39,52,4,10,41,44,52,54,9,16,20,54,57,59,1,12,16,17,52,60,4,19,27,38,54,57,8,11,24,26,47,57,12,14,19,25,52,59,3,16,28,32,34,37,2,6,22,44,55,57,22,23,29,32,38,45,12,16,17,18,34,37,6,15,19,37,39,53,4,14,20,24,46,50,5,6,10,14,22,36,21,29,32,35,43,50,9,28,29,34,36,55,23,36,43,44,55,56,10,14,31,34,45,58,5,10,39,42,46,54,15,22,30,32,40,58,11,24,26,34,37,59,19,20,28,34,36,44,5,11,13,21,53,54,6,17,33,48,50,57,2,5,12,32,40,44,14,26,29,35,37,39,7,20,21,24,40,56,1,7,14,31,35,46,8,21,24,25,52,57,15,37,38,42,49,50,3,6,10,17,34,37,20,22,36,42,52,60,4,28,30,38,46,59,28,34,40,43,50,51,1,5,14,23,35,45,11,19,22,33,34,53,1,9,14,20,25,54,4,14,39,41,54,58,22,27,33,42,58,59,1,37,44,46,48,50,8,10,18,34,39,56,2,28,32,35,54,58,8,11,27,35,36,51,6,23,30,36,53,56,16,32,40,46,53,56,17,18,27,32,39,58,4,11,17,18,21,48,2,10,11,24,38,56,11,22,25,27,55,59,23,41,46,52,54,59,2,36,46,48,57,60,7,14,32,37,40,60,4,28,45,48,52,60,1,6,7,8,23,56,16,20,23,29,35,47,4,24,46,52,55,56,10,23,31,33,51,52,11,15,29,37,39,44,7,11,24,36,42,58,6,15,18,33,37,40,4,27,38,40,58,59,18,23,37,39,50,55,6,14,19,20,39,53,10,18,33,38,40,43,6,7,13,17,22,56,30,35,36,38,49,52,7,8,19,23,27,58,14,16,23,30,45,60,6,25,26,35,38,40,6,12,22,28,31,44,6,9,41,54,56,58,10,12,22,25,42,54,14,22,29,32,33,35,21,38,53,56,57,58,7,14,47,54,56,60,15,25,27,45,46,50,3,6,11,27,28,46,1,18,19,29,44,54,10,19,26,35,38,39,10,19,27,31,51,53,8,31,32,33,38,50,1,5,6,37,44,53,50,51,56,57,58,59,12,22,27,37,40,55,4,7,12,22,26,39,6,25,35,43,46,53,18,22,29,34,36,47,10,13,20,37,38,54,4,19,23,29,56,59,4,5,36,40,44,56,8,9,11,25,39,41,33,36,40,44,45,54,8,10,15,23,25,34,6,10,19,24,25,29,10,14,36,53,55,60,4,11,20,30,37,43,6,25,27,35,45,55,2,11,13,26,32,59,3,5,9,40,42,47,3,17,34,35,40,48,5,26,27,34,42,48,24,33,34,35,46,60,10,12,13,20,22,54,12,15,18,30,52,55,8,18,23,37,42,58,7,9,23,33,57,59,5,6,12,15,22,43,13,16,26,35,37,39,2,11,15,30,36,39,1,2,14,37,55,58,10,22,40,46,55,58,13,18,35,40,41,42,6,25,33,42,48,49,1,18,19,33,56,60,7,20,26,37,38,39,12,21,25,37,38,49,4,35,43,46,47,53,2,18,19,23,34,53,3,14,24,27,38,56,5,10,32,38,48,49,8,11,18,37,40,51,10,11,12,37,38,59,11,13,15,17,22,27,8,14,27,34,52,54,4,16,19,31,33,44,16,29,35,43,49,56,6,11,13,19,24,51,9,24,28,45,49,51,2,8,18,27,38,60,5,15,20,27,30,58,1,10,11,13,35,49,2,8,18,37,56,58,4,6,17,34,51,57,3,13,40,44,46,50,2,10,12,27,45,56,11,13,16,24,31,46,3,27,36,39,40,43,8,38,44,50,56,60,19,22,29,41,44,59,4,12,16,34,44,49,5,10,12,18,25,33,1,41,44,46,54,58,17,39,43,46,52,53,11,14,21,25,46,50,17,25,30,35,42,57,4,19,27,35,40,44,1,9,19,21,34,54,4,28,29,30,43,52,11,12,20,40,41,46,19,21,26,31,42,49,13,20,24,25,38,41,8,10,17,29,37,40,3,11,15,21,27,49,14,15,47,50,56,59,2,11,20,31,43,47,1,31,44,46,53,58,7,12,24,27,39,58,1,7,28,30,44,46,11,16,24,46,54,55,6,12,31,32,46,60,13,16,36,53,54,55,2,3,6,18,20,28,5,18,30,35,39,60,19,20,26,51,52,57,6,21,34,46,54,59,9,23,28,40,48,59,1,8,11,22,30,35,1,2,11,12,34,49,4,13,14,21,30,34,14,23,29,41,57,58,17,20,26,36,42,54,10,11,17,19,37,41,7,40,44,50,52,57,2,12,35,51,57,58,7,16,21,33,55,60,6,8,28,51,53,59,16,18,31,39,42,44,17,19,37,41,42,49,8,15,32,33,58,59,21,23,37,44,46,48,23,24,26,38,42,49,2,14,18,29,36,38,26,29,36,49,50,59,8,13,28,31,32,33,7,25,41,47,50,53,2,6,27,37,44,47,1,6,23,26,39,49,31,33,34,35,39,48,9,27,35,45,46,59,14,26,35,38,45,53,1,19,46,47,49,53,8,9,10,24,42,44,11,16,22,30,34,42,8,18,20,24,36,45,16,17,25,47,48,58,5,37,43,49,54,56,3,19,34,44,56,58,27,37,38,43,45,54,1,4,25,27,29,37,7,34,45,51,54,59,10,21,24,36,38,51,12,13,19,36,44,55,9,24,28,37,43,57,2,9,42,44,48,50,10,15,34,36,56,60,7,25,32,43,53,55,8,23,25,39,43,44,9,11,14,31,48,51,2,16,21,42,50,56,2,13,24,35,50,54,10,12,16,21,28,38,1,8,19,33,36,48,19,22,39,46,47,59,13,26,30,34,43,51,15,36,45,51,52,59,9,18,19,22,42,47,12,18,19,27,41,46,10,11,16,21,46,50,2,17,21,28,51,60,4,11,16,22,29,33,5,9,20,25,35,53,4,8,26,33,46,53,7,16,37,53,57,59,7,8,22,27,29,42,8,16,20,21,31,34,14,24,32,38,46,53,1,25,27,28,41,56,3,11,29,35,44,57,1,11,34,36,44,56,15,23,30,35,38,44,11,15,28,36,43,55,3,13,23,41,49,53,11,29,37,38,43,60,17,34,46,49,50,57,1,28,29,32,35,56,12,21,28,37,42,57,6,27,38,42,45,57,6,10,11,43,53,55,16,25,30,40,45,49,22,25,28,32,33,47,11,17,24,25,33,34,27,36,40,41,44,54,23,26,51,52,53,58,5,7,10,32,46,60,4,10,18,30,34,47,1,19,21,23,33,43,10,24,42,43,48,49,10,14,16,30,32,36,6,16,22,38,48,52,8,28,36,45,57,59,3,35,38,40,57,58,5,23,34,45,56,57,13,14,29,30,48,59,2,26,40,42,49,56,16,23,32,50,52,58,1,32,37,44,46,47,2,4,7,16,30,38,6,9,12,27,32,57,9,19,23,32,39,45,6,11,29,40,41,58,7,17,26,39,56,60,4,13,25,40,53,57,7,8,31,34,38,47,4,6,32,35,41,45,4,21,27,29,42,47,14,18,30,35,55,57,7,20,38,43,45,53,11,20,27,28,53,60,11,36,45,55,57,58,7,27,31,39,45,46,7,9,10,19,25,58,1,13,18,26,40,56,5,9,18,24,25,42,14,18,28,35,38,54,3,5,11,34,37,42,11,14,15,18,33,34,5,9,24,27,33,46,1,42,44,47,48,53,9,15,20,29,30,42,4,9,31,47,49,53,27,33,39,52,57,58,5,15,22,26,54,58,1,17,30,37,46,50,31,32,33,39,52,55,4,9,24,44,47,56,15,20,39,41,49,57,9,10,30,37,47,54,18,21,30,31,34,51,1,5,7,14,23,26,20,27,41,54,56,58,12,14,34,35,37,47,7,23,26,27,29,51,7,8,14,23,30,46,9,24,33,43,49,57,2,3,8,19,29,37,14,20,23,39,46,50,10,23,31,37,58,59,20,32,33,48,49,53,4,13,23,28,30,52,1,11,14,23,29,55,14,16,38,39,41,48,6,10,27,28,41,52,2,5,11,24,41,49,15,16,20,38,40,58,8,11,17,33,40,55,2,4,25,36,50,53,5,15,18,27,49,57,10,22,23,37,53,60,8,17,34,37,43,45,5,12,14,20,27,28,28,29,31,50,58,59,14,27,35,40,50,55,12,27,30,36,45,52,4,24,37,43,59,60,4,10,12,14,36,46,1,7,10,12,33,42,9,21,30,41,42,43,2,4,6,29,41,56,2,26,35,39,40,56,6,9,34,37,38,45,5,18,36,44,57,60,12,26,31,36,37,49,6,16,18,33,42,57,1,2,10,37,42,48,9,15,20,33,41,43,6,13,26,28,35,41,1,6,21,29,36,59,20,22,35,40,41,59,13,17,21,31,41,49,2,3,19,40,44,60,9,21,37,39,43,54,17,18,35,36,47,52,18,22,25,27,43,44,3,7,17,20,48,50,12,21,29,54,56,57,7,16,22,38,55,57,3,19,28,33,57,58,16,33,38,46,53,55,9,13,26,38,58,60,9,11,29,30,33,60,13,17,28,29,42,53,3,5,9,35,43,60,3,27,39,46,47,60,3,20,26,45,49,58,6,7,28,42,45,49,1,10,17,26,30,53,2,11,43,49,52,56,3,8,30,33,35,48,28,44,52,54,58,60,6,17,25,35,40,49,6,30,35,39,42,48,14,25,28,41,43,46,2,5,10,29,34,41,20,27,35,39,50,59,2,16,19,31,43,60,33,34,37,46,52,60,10,16,27,34,36,57,30,37,45,54,57,58,8,11,14,39,48,53,12,14,28,42,45,55,17,20,22,35,41,42,11,13,16,36,53,57,12,33,35,36,44,52,9,16,31,41,53,55,4,13,20,22,25,60,9,18,23,42,47,49,8,10,20,27,28,50,2,9,34,49,51,55,8,21,23,34,42,47,4,18,29,47,48,59,16,21,28,41,49,51,4,9,31,32,42,46,17,20,24,27,40,60,4,31,42,45,49,56,11,17,25,38,52,57,7,16,19,22,28,55,3,4,11,40,42,58,8,9,17,30,58,60,2,3,7,48,51,54,5,10,25,32,49,54,25,28,29,34,41,45,19,22,35,41,47,49,9,17,38,41,49,55,3,19,34,41,48,53,6,18,25,30,42,54,7,30,31,41,50,56,3,10,25,36,51,58,19,28,30,34,40,51,5,9,11,16,43,57,31,32,39,42,43,51,10,15,21,24,29,45,14,21,22,29,35,46,3,20,22,32,35,50,6,14,24,34,39,58,20,33,42,44,51,56,1,17,28,37,44,50,4,27,33,35,38,41,5,23,29,34,53,60,4,7,13,25,36,58,4,9,17,19,37,60,7,31,37,42,44,56,4,15,30,36,39,48,3,19,25,44,46,57,23,24,26,44,49,60,12,13,25,37,39,41,2,6,44,46,53,58,12,14,17,18,19,22,5,18,29,35,43,44,11,37,38,41,49,54,2,8,26,32,46,56,11,16,20,24,39,53,7,23,32,41,42,47,6,9,19,38,53,55,13,15,16,20,40,41,9,13,22,25,26,31,12,24,32,37,43,60,11,13,16,35,49,50,8,26,30,31,38,48,8,30,33,37,45,48,16,30,37,39,40,51,9,13,20,22,32,56,5,8,13,27,36,50,11,15,23,25,34,53,26,27,28,32,38,51,5,16,25,36,42,44,4,11,12,44,45,57,2,3,25,39,42,49,6,14,20,39,46,48,8,17,30,36,54,59,27,35,42,44,51,52,9,21,25,26,36,53,8,11,13,33,38,48,6,22,25,29,30,60,10,12,14,32,33,34,1,19,35,40,47,54,21,38,48,49,53,59,8,12,29,43,54,60,13,17,31,43,54,55,4,29,30,38,43,57,2,29,39,49,52,58,7,10,27,35,43,59,7,26,29,34,43,44,9,16,34,36,49,60,3,22,37,40,41,48,4,5,6,14,29,38,10,12,26,29,35,60,6,7,11,26,37,57,3,7,10,11,27,46,2,11,19,27,57,60,10,35,43,48,50,53,5,8,29,39,44,60,2,3,32,35,48,57,2,7,10,20,30,46,16,18,38,48,51,60,3,16,17,37,38,53,10,31,38,46,49,54,5,11,24,27,32,57,3,19,25,37,44,56,3,9,25,28,29,39,11,37,53,55,56,60,19,26,39,45,46,56,8,11,22,25,26,36,7,29,38,40,44,52,8,9,32,52,53,57,1,2,14,28,40,51,5,22,30,32,33,36,5,15,28,32,38,54,1,19,41,46,48,55,4,11,19,25,37,55,2,8,34,38,47,51,12,15,23,32,33,46,9,41,42,46,47,54,2,7,9,25,41,49,1,5,12,13,17,31,15,17,20,35,37,43,11,25,32,37,47,56,1,13,27,41,51,58,13,19,29,42,49,52,18,30,32,35,40,48,14,20,21,31,49,52,2,6,11,15,17,39,13,26,31,46,51,60,8,10,51,56,57,58,10,14,15,24,34,44,9,14,22,24,44,47,21,38,50,53,56,59,28,34,40,41,52,55,10,19,46,47,49,50,15,40,44,45,47,51,15,24,33,49,53,59,16,17,18,28,35,47,8,11,16,21,32,37,3,16,23,41,45,57,11,16,31,37,42,51,2,7,24,43,52,56,3,8,23,29,53,54,2,3,13,20,53,54,1,10,19,34,35,45,22,35,41,42,53,57,5,28,30,38,52,55,8,33,40,42,48,51,8,23,29,30,36,55,5,13,18,23,35,36,15,18,28,42,55,60,22,30,38,39,49,56,1,40,44,45,58,60,2,7,32,46,49,55,20,33,37,38,49,50,2,17,23,28,39,46,10,15,17,20,21,35,4,6,9,31,50,56,1,8,21,27,36,37,1,32,35,44,45,57,20,34,38,40,49,54,11,14,36,41,54,59,5,12,32,38,47,60,8,9,17,19,33,56,23,36,42,48,54,58,17,31,34,40,56,57,3,10,13,25,41,42,11,16,17,41,46,59,22,29,38,43,48,53,10,30,31,33,42,52,4,9,37,43,44,56,1,4,10,22,53,54,8,12,14,30,33,41,7,26,31,38,46,58,5,14,23,46,48,52,9,12,26,29,46,47,11,19,38,47,56,59,5,16,25,32,39,55,11,27,32,40,58,59,16,20,21,39,44,55,3,14,16,38,43,45,14,33,41,42,44,55,3,5,19,26,43,51,21,22,29,34,40,44,4,6,12,34,35,53,41,45,48,51,53,58,8,37,39,50,59,60,8,13,25,32,44,57,4,10,15,39,41,49,7,10,34,47,49,52,13,19,21,35,46,50,5,15,24,34,45,52,3,12,19,41,45,54,8,17,49,51,52,53,1,5,6,16,22,39,3,22,23,44,53,60,3,8,20,36,38,57,2,17,22,41,58,60,23,28,33,38,55,59,4,5,25,32,39,40,1,10,27,36,37,45,3,20,22,37,41,43,4,13,21,26,47,51,2,16,24,38,43,59,8,19,29,38,48,56,4,15,22,53,56,60,3,5,32,56,57,59,14,17,18,28,30,44,1,5,18,49,55,56,10,14,17,18,23,30,17,18,20,37,45,53,28,36,39,44,56,60,1,3,24,37,51,56,9,22,27,30,33,45,12,24,26,31,37,48,6,15,19,20,33,52,1,23,32,33,36,59,2,8,28,34,41,49,10,28,45,47,57,59,12,20,22,25,26,55,2,5,27,30,46,53,25,38,45,53,55,56,20,23,32,36,39,57,3,23,28,34,38,48,10,25,31,37,38,57,9,15,23,25,29,30,1,6,10,30,33,35,4,5,10,34,58,59,1,25,29,43,46,48,5,24,25,33,38,41,13,15,53,54,55,58,19,25,43,44,48,49,3,20,45,52,53,58,2,6,10,14,34,56,3,13,16,25,27,33,2,10,18,25,34,44,9,12,20,30,32,35,4,5,17,20,48,52,19,22,37,44,51,56,6,12,32,44,51,57,5,9,14,30,38,50,7,8,14,19,32,45,9,13,25,39,46,54,11,23,45,53,57,59,10,11,19,33,58,60,16,22,29,35,38,49,6,7,25,28,31,52,8,18,26,27,47,50,9,18,33,38,41,51,3,7,15,22,24,50,6,26,32,35,37,49,12,17,43,44,48,60,4,12,14,41,46,53,29,32,33,35,38,43,12,18,22,31,44,50,37,39,47,50,59,60,5,10,26,35,38,44,3,4,13,29,36,43,14,17,32,36,39,60,10,14,17,19,21,34,2,20,27,30,52,59,1,5,12,36,53,55,14,26,34,36,43,59,10,18,41,49,53,59,5,10,11,22,23,37,9,13,22,31,57,58,1,15,16,25,32,36,2,12,28,36,43,48,10,11,21,23,28,30,15,17,28,34,35,51,10,14,17,25,32,39,7,26,32,35,49,55,1,13,34,39,50,52,34,35,39,47,51,56,14,26,34,54,56,58,7,14,24,53,58,60,23,28,34,43,47,60,4,18,37,38,46,60,3,8,34,40,44,55,11,14,16,30,32,46,3,7,13,29,52,56,16,17,19,22,46,57,5,11,26,35,46,54,2,10,16,32,45,49,7,11,25,51,57,60,7,13,17,24,29,52],\"yaxis\":\"y\",\"type\":\"histogram\"}],                        {\"template\":{\"data\":{\"histogram2dcontour\":[{\"type\":\"histogram2dcontour\",\"colorbar\":{\"outlinewidth\":0,\"ticks\":\"\"},\"colorscale\":[[0.0,\"#0d0887\"],[0.1111111111111111,\"#46039f\"],[0.2222222222222222,\"#7201a8\"],[0.3333333333333333,\"#9c179e\"],[0.4444444444444444,\"#bd3786\"],[0.5555555555555556,\"#d8576b\"],[0.6666666666666666,\"#ed7953\"],[0.7777777777777778,\"#fb9f3a\"],[0.8888888888888888,\"#fdca26\"],[1.0,\"#f0f921\"]]}],\"choropleth\":[{\"type\":\"choropleth\",\"colorbar\":{\"outlinewidth\":0,\"ticks\":\"\"}}],\"histogram2d\":[{\"type\":\"histogram2d\",\"colorbar\":{\"outlinewidth\":0,\"ticks\":\"\"},\"colorscale\":[[0.0,\"#0d0887\"],[0.1111111111111111,\"#46039f\"],[0.2222222222222222,\"#7201a8\"],[0.3333333333333333,\"#9c179e\"],[0.4444444444444444,\"#bd3786\"],[0.5555555555555556,\"#d8576b\"],[0.6666666666666666,\"#ed7953\"],[0.7777777777777778,\"#fb9f3a\"],[0.8888888888888888,\"#fdca26\"],[1.0,\"#f0f921\"]]}],\"heatmap\":[{\"type\":\"heatmap\",\"colorbar\":{\"outlinewidth\":0,\"ticks\":\"\"},\"colorscale\":[[0.0,\"#0d0887\"],[0.1111111111111111,\"#46039f\"],[0.2222222222222222,\"#7201a8\"],[0.3333333333333333,\"#9c179e\"],[0.4444444444444444,\"#bd3786\"],[0.5555555555555556,\"#d8576b\"],[0.6666666666666666,\"#ed7953\"],[0.7777777777777778,\"#fb9f3a\"],[0.8888888888888888,\"#fdca26\"],[1.0,\"#f0f921\"]]}],\"heatmapgl\":[{\"type\":\"heatmapgl\",\"colorbar\":{\"outlinewidth\":0,\"ticks\":\"\"},\"colorscale\":[[0.0,\"#0d0887\"],[0.1111111111111111,\"#46039f\"],[0.2222222222222222,\"#7201a8\"],[0.3333333333333333,\"#9c179e\"],[0.4444444444444444,\"#bd3786\"],[0.5555555555555556,\"#d8576b\"],[0.6666666666666666,\"#ed7953\"],[0.7777777777777778,\"#fb9f3a\"],[0.8888888888888888,\"#fdca26\"],[1.0,\"#f0f921\"]]}],\"contourcarpet\":[{\"type\":\"contourcarpet\",\"colorbar\":{\"outlinewidth\":0,\"ticks\":\"\"}}],\"contour\":[{\"type\":\"contour\",\"colorbar\":{\"outlinewidth\":0,\"ticks\":\"\"},\"colorscale\":[[0.0,\"#0d0887\"],[0.1111111111111111,\"#46039f\"],[0.2222222222222222,\"#7201a8\"],[0.3333333333333333,\"#9c179e\"],[0.4444444444444444,\"#bd3786\"],[0.5555555555555556,\"#d8576b\"],[0.6666666666666666,\"#ed7953\"],[0.7777777777777778,\"#fb9f3a\"],[0.8888888888888888,\"#fdca26\"],[1.0,\"#f0f921\"]]}],\"surface\":[{\"type\":\"surface\",\"colorbar\":{\"outlinewidth\":0,\"ticks\":\"\"},\"colorscale\":[[0.0,\"#0d0887\"],[0.1111111111111111,\"#46039f\"],[0.2222222222222222,\"#7201a8\"],[0.3333333333333333,\"#9c179e\"],[0.4444444444444444,\"#bd3786\"],[0.5555555555555556,\"#d8576b\"],[0.6666666666666666,\"#ed7953\"],[0.7777777777777778,\"#fb9f3a\"],[0.8888888888888888,\"#fdca26\"],[1.0,\"#f0f921\"]]}],\"mesh3d\":[{\"type\":\"mesh3d\",\"colorbar\":{\"outlinewidth\":0,\"ticks\":\"\"}}],\"scatter\":[{\"fillpattern\":{\"fillmode\":\"overlay\",\"size\":10,\"solidity\":0.2},\"type\":\"scatter\"}],\"parcoords\":[{\"type\":\"parcoords\",\"line\":{\"colorbar\":{\"outlinewidth\":0,\"ticks\":\"\"}}}],\"scatterpolargl\":[{\"type\":\"scatterpolargl\",\"marker\":{\"colorbar\":{\"outlinewidth\":0,\"ticks\":\"\"}}}],\"bar\":[{\"error_x\":{\"color\":\"#2a3f5f\"},\"error_y\":{\"color\":\"#2a3f5f\"},\"marker\":{\"line\":{\"color\":\"#E5ECF6\",\"width\":0.5},\"pattern\":{\"fillmode\":\"overlay\",\"size\":10,\"solidity\":0.2}},\"type\":\"bar\"}],\"scattergeo\":[{\"type\":\"scattergeo\",\"marker\":{\"colorbar\":{\"outlinewidth\":0,\"ticks\":\"\"}}}],\"scatterpolar\":[{\"type\":\"scatterpolar\",\"marker\":{\"colorbar\":{\"outlinewidth\":0,\"ticks\":\"\"}}}],\"histogram\":[{\"marker\":{\"pattern\":{\"fillmode\":\"overlay\",\"size\":10,\"solidity\":0.2}},\"type\":\"histogram\"}],\"scattergl\":[{\"type\":\"scattergl\",\"marker\":{\"colorbar\":{\"outlinewidth\":0,\"ticks\":\"\"}}}],\"scatter3d\":[{\"type\":\"scatter3d\",\"line\":{\"colorbar\":{\"outlinewidth\":0,\"ticks\":\"\"}},\"marker\":{\"colorbar\":{\"outlinewidth\":0,\"ticks\":\"\"}}}],\"scattermapbox\":[{\"type\":\"scattermapbox\",\"marker\":{\"colorbar\":{\"outlinewidth\":0,\"ticks\":\"\"}}}],\"scatterternary\":[{\"type\":\"scatterternary\",\"marker\":{\"colorbar\":{\"outlinewidth\":0,\"ticks\":\"\"}}}],\"scattercarpet\":[{\"type\":\"scattercarpet\",\"marker\":{\"colorbar\":{\"outlinewidth\":0,\"ticks\":\"\"}}}],\"carpet\":[{\"aaxis\":{\"endlinecolor\":\"#2a3f5f\",\"gridcolor\":\"white\",\"linecolor\":\"white\",\"minorgridcolor\":\"white\",\"startlinecolor\":\"#2a3f5f\"},\"baxis\":{\"endlinecolor\":\"#2a3f5f\",\"gridcolor\":\"white\",\"linecolor\":\"white\",\"minorgridcolor\":\"white\",\"startlinecolor\":\"#2a3f5f\"},\"type\":\"carpet\"}],\"table\":[{\"cells\":{\"fill\":{\"color\":\"#EBF0F8\"},\"line\":{\"color\":\"white\"}},\"header\":{\"fill\":{\"color\":\"#C8D4E3\"},\"line\":{\"color\":\"white\"}},\"type\":\"table\"}],\"barpolar\":[{\"marker\":{\"line\":{\"color\":\"#E5ECF6\",\"width\":0.5},\"pattern\":{\"fillmode\":\"overlay\",\"size\":10,\"solidity\":0.2}},\"type\":\"barpolar\"}],\"pie\":[{\"automargin\":true,\"type\":\"pie\"}]},\"layout\":{\"autotypenumbers\":\"strict\",\"colorway\":[\"#636efa\",\"#EF553B\",\"#00cc96\",\"#ab63fa\",\"#FFA15A\",\"#19d3f3\",\"#FF6692\",\"#B6E880\",\"#FF97FF\",\"#FECB52\"],\"font\":{\"color\":\"#2a3f5f\"},\"hovermode\":\"closest\",\"hoverlabel\":{\"align\":\"left\"},\"paper_bgcolor\":\"white\",\"plot_bgcolor\":\"#E5ECF6\",\"polar\":{\"bgcolor\":\"#E5ECF6\",\"angularaxis\":{\"gridcolor\":\"white\",\"linecolor\":\"white\",\"ticks\":\"\"},\"radialaxis\":{\"gridcolor\":\"white\",\"linecolor\":\"white\",\"ticks\":\"\"}},\"ternary\":{\"bgcolor\":\"#E5ECF6\",\"aaxis\":{\"gridcolor\":\"white\",\"linecolor\":\"white\",\"ticks\":\"\"},\"baxis\":{\"gridcolor\":\"white\",\"linecolor\":\"white\",\"ticks\":\"\"},\"caxis\":{\"gridcolor\":\"white\",\"linecolor\":\"white\",\"ticks\":\"\"}},\"coloraxis\":{\"colorbar\":{\"outlinewidth\":0,\"ticks\":\"\"}},\"colorscale\":{\"sequential\":[[0.0,\"#0d0887\"],[0.1111111111111111,\"#46039f\"],[0.2222222222222222,\"#7201a8\"],[0.3333333333333333,\"#9c179e\"],[0.4444444444444444,\"#bd3786\"],[0.5555555555555556,\"#d8576b\"],[0.6666666666666666,\"#ed7953\"],[0.7777777777777778,\"#fb9f3a\"],[0.8888888888888888,\"#fdca26\"],[1.0,\"#f0f921\"]],\"sequentialminus\":[[0.0,\"#0d0887\"],[0.1111111111111111,\"#46039f\"],[0.2222222222222222,\"#7201a8\"],[0.3333333333333333,\"#9c179e\"],[0.4444444444444444,\"#bd3786\"],[0.5555555555555556,\"#d8576b\"],[0.6666666666666666,\"#ed7953\"],[0.7777777777777778,\"#fb9f3a\"],[0.8888888888888888,\"#fdca26\"],[1.0,\"#f0f921\"]],\"diverging\":[[0,\"#8e0152\"],[0.1,\"#c51b7d\"],[0.2,\"#de77ae\"],[0.3,\"#f1b6da\"],[0.4,\"#fde0ef\"],[0.5,\"#f7f7f7\"],[0.6,\"#e6f5d0\"],[0.7,\"#b8e186\"],[0.8,\"#7fbc41\"],[0.9,\"#4d9221\"],[1,\"#276419\"]]},\"xaxis\":{\"gridcolor\":\"white\",\"linecolor\":\"white\",\"ticks\":\"\",\"title\":{\"standoff\":15},\"zerolinecolor\":\"white\",\"automargin\":true,\"zerolinewidth\":2},\"yaxis\":{\"gridcolor\":\"white\",\"linecolor\":\"white\",\"ticks\":\"\",\"title\":{\"standoff\":15},\"zerolinecolor\":\"white\",\"automargin\":true,\"zerolinewidth\":2},\"scene\":{\"xaxis\":{\"backgroundcolor\":\"#E5ECF6\",\"gridcolor\":\"white\",\"linecolor\":\"white\",\"showbackground\":true,\"ticks\":\"\",\"zerolinecolor\":\"white\",\"gridwidth\":2},\"yaxis\":{\"backgroundcolor\":\"#E5ECF6\",\"gridcolor\":\"white\",\"linecolor\":\"white\",\"showbackground\":true,\"ticks\":\"\",\"zerolinecolor\":\"white\",\"gridwidth\":2},\"zaxis\":{\"backgroundcolor\":\"#E5ECF6\",\"gridcolor\":\"white\",\"linecolor\":\"white\",\"showbackground\":true,\"ticks\":\"\",\"zerolinecolor\":\"white\",\"gridwidth\":2}},\"shapedefaults\":{\"line\":{\"color\":\"#2a3f5f\"}},\"annotationdefaults\":{\"arrowcolor\":\"#2a3f5f\",\"arrowhead\":0,\"arrowwidth\":1},\"geo\":{\"bgcolor\":\"white\",\"landcolor\":\"#E5ECF6\",\"subunitcolor\":\"white\",\"showland\":true,\"showlakes\":true,\"lakecolor\":\"white\"},\"title\":{\"x\":0.05},\"mapbox\":{\"style\":\"light\"}}},\"xaxis\":{\"anchor\":\"y\",\"domain\":[0.0,1.0],\"title\":{\"text\":\"Ocorr\\u00eancias\"}},\"yaxis\":{\"anchor\":\"x\",\"domain\":[0.0,1.0],\"title\":{\"text\":\"Dezena\"}},\"legend\":{\"tracegroupgap\":0},\"title\":{\"text\":\"Contagem de dezenas sorteadas\"},\"barmode\":\"relative\"},                        {\"responsive\": true}                    ).then(function(){\n",
              "                            \n",
              "var gd = document.getElementById('cebd4c2c-fbac-47d3-8987-617cbd5dddb3');\n",
              "var x = new MutationObserver(function (mutations, observer) {{\n",
              "        var display = window.getComputedStyle(gd).display;\n",
              "        if (!display || display === 'none') {{\n",
              "            console.log([gd, 'removed!']);\n",
              "            Plotly.purge(gd);\n",
              "            observer.disconnect();\n",
              "        }}\n",
              "}});\n",
              "\n",
              "// Listen for the removal of the full notebook cells\n",
              "var notebookContainer = gd.closest('#notebook-container');\n",
              "if (notebookContainer) {{\n",
              "    x.observe(notebookContainer, {childList: true});\n",
              "}}\n",
              "\n",
              "// Listen for the clearing of the current output cell\n",
              "var outputEl = gd.closest('.output');\n",
              "if (outputEl) {{\n",
              "    x.observe(outputEl, {childList: true});\n",
              "}}\n",
              "\n",
              "                        })                };                            </script>        </div>\n",
              "</body>\n",
              "</html>"
            ]
          },
          "metadata": {}
        }
      ]
    },
    {
      "cell_type": "markdown",
      "source": [
        "Com base na análise visual é possível dizer que algum número possui vantagem sobre os outros?"
      ],
      "metadata": {
        "id": "SweuWlj2cLB0"
      }
    },
    {
      "cell_type": "markdown",
      "source": [
        "### Calcula o desvio padrão do conjunto de números sorteados de cada concurso e plota em um histograma"
      ],
      "metadata": {
        "id": "eLIA7ycFX0xw"
      }
    },
    {
      "cell_type": "code",
      "source": [
        "StdDev(results)"
      ],
      "metadata": {
        "colab": {
          "base_uri": "https://localhost:8080/",
          "height": 542
        },
        "id": "cmW_UPJFXuy-",
        "outputId": "b640a840-4a95-403f-9c16-4e168928c482"
      },
      "execution_count": 13,
      "outputs": [
        {
          "output_type": "display_data",
          "data": {
            "text/html": [
              "<html>\n",
              "<head><meta charset=\"utf-8\" /></head>\n",
              "<body>\n",
              "    <div>            <script src=\"https://cdnjs.cloudflare.com/ajax/libs/mathjax/2.7.5/MathJax.js?config=TeX-AMS-MML_SVG\"></script><script type=\"text/javascript\">if (window.MathJax && window.MathJax.Hub && window.MathJax.Hub.Config) {window.MathJax.Hub.Config({SVG: {font: \"STIX-Web\"}});}</script>                <script type=\"text/javascript\">window.PlotlyConfig = {MathJaxConfig: 'local'};</script>\n",
              "        <script src=\"https://cdn.plot.ly/plotly-2.18.2.min.js\"></script>                <div id=\"c5cb7802-8a2b-44da-a103-2f03146331dd\" class=\"plotly-graph-div\" style=\"height:525px; width:100%;\"></div>            <script type=\"text/javascript\">                                    window.PLOTLYENV=window.PLOTLYENV || {};                                    if (document.getElementById(\"c5cb7802-8a2b-44da-a103-2f03146331dd\")) {                    Plotly.newPlot(                        \"c5cb7802-8a2b-44da-a103-2f03146331dd\",                        [{\"alignmentgroup\":\"True\",\"bingroup\":\"x\",\"hovertemplate\":\"Desvio padr\\u00e3o=%{x}<br>count=%{y}<extra></extra>\",\"legendgroup\":\"\",\"marker\":{\"color\":\"#636efa\",\"pattern\":{\"shape\":\"\"},\"line\":{\"width\":1}},\"name\":\"\",\"offsetgroup\":\"\",\"orientation\":\"v\",\"showlegend\":false,\"texttemplate\":\"%{value}\",\"x\":[17.68945071692919,12.788884062167252,13.158225142050462,21.483844059096025,15.405626677721791,14.2672897060218,18.469945557280045,16.99673171197595,17.76701062831524,16.68748699541732,16.006942938057293,11.814539065631521,13.545191848852573,17.473789896108208,15.924300089276556,14.587856441422623,14.758236871508586,10.66796867053684,18.199511592958263,11.827463332806781,15.59291149493541,19.488600656680187,13.708270009985457,14.690321832946871,11.16542281629615,18.660713336371206,14.161763857498668,21.83587771433875,22.72052425060263,15.01943185787443,14.930394055974098,14.644870167475785,15.192286054295963,18.273386841706895,19.590955963289684,15.05545305418162,20.867971205227935,14.974979131871937,16.898389140848767,18.827432703962117,11.186549463033222,10.6092203085597,18.263503375736967,12.472191289246473,16.20356613698218,18.618986725025255,18.006171781426005,18.64284193881275,16.532795690182994,20.336065390226192,10.888321980707383,15.513435037626794,16.316317667360558,17.31489403824221,16.110727964792762,21.268129521265696,16.799470891138867,12.102570893088055,17.667452812697388,10.5,17.045690234060796,15.902480589168752,13.211947455070941,20.862646045025066,12.579745625409124,12.945398152754258,15.868382260191352,23.450302059177545,12.074997124453304,13.84035966135113,12.307405178274673,16.600702796367788,12.840906856172149,14.971268780196585,9.195409482755814,14.452988925785867,13.110640292864757,10.408329997330663,13.145552691140665,9.990273047097139,17.468225121313523,14.69315789368946,17.913371790059205,13.981138087517131,15.077577170531523,14.948987330994106,13.96424004376894,14.499042113954365,15.071127658171067,16.418147141366333,21.275964529643932,17.477763650485215,15.31520667688019,18.30907485981261,16.87618308609964,19.354155453889827,20.273134932713294,11.021443744910293,15.631165450257807,13.148721948877347,12.99251921513128,13.199326582148887,24.06761309311748,18.264263832230778,17.324516988617283,12.508885730640527,20.235419991248566,15.847362206023087,20.194196085894472,14.55354099714415,14.364307617610162,11.484288784634812,16.68332500832293,18.036999011291577,11.513277359447029,16.014750145482203,11.175369742826806,17.660376238599476,16.747304924142934,15.88238017426859,17.950549357115012,15.316113519210196,10.620995977569878,18.726095873584185,11.407843305765068,12.759528030282137,13.92838827718412,12.592987466575726,19.947152400502905,13.324997394204456,13.483529046787252,16.862186493255653,18.62495339293199,18.18806079700515,14.278966660402597,18.97732565165305,11.557825631723873,13.64632632697248,14.007934259633798,15.304320377665329,17.301252363147974,19.760369992037656,17.515865823748353,14.738460646289429,13.569778512889918,11.88369564665059,9.895285072531598,11.055415967851333,15.649813630413195,14.96384531685177,19.73716179078328,19.930434571835665,15.247039785552547,15.56705923844749,10.6092203085597,14.556403707265366,14.522013940527977,20.35859087024989,19.178257364931664,21.52840500878368,11.911712256803758,11.367595269986623,16.200994482507,13.120171069345433,15.00740557932057,21.751755995525716,15.96610994158147,17.632041540584257,19.06494747494003,17.03917055884274,16.295875415440424,13.39983416149452,12.074997124453303,17.06279252903489,17.565749501673864,21.02115336723675,10.878112581387146,9.136313382443829,16.006942938057293,17.876116903722565,17.650936393164965,21.538079972200144,16.15549442140351,17.10181926644713,15.723301886761005,11.363929289153857,16.17010272763356,10.188501143718616,16.407992632318624,14.165686240583852,21.404179238851672,19.61292091114087,16.921386861996073,6.6687496745808525,14.985177861992682,8.629728977333079,15.253414918196734,13.776993705288376,18.092355660149213,14.825840804337389,15.33423910368196,14.735633304642489,15.752424857427155,10.291582320841954,9.13631338244383,14.656246298270085,20.44844465696325,14.904324502938364,12.850637684134156,11.9501278468289,14.023789311975086,20.15288785481845,12.0,14.624940645653538,17.082317042941085,15.033296378372908,16.570556216775987,15.445243784270792,9.255628917943215,19.155068954891984,15.931276017807097,18.43381554522979,18.172017560585346,11.254628677422755,19.476481543988722,23.205004249562684,12.130081981952507,16.350331291240963,12.858201014657274,15.62761089297472,13.535960336164637,13.388427838995884,15.152007567755943,13.051181300301263,16.30950643030009,18.372685039360892,17.05546507395471,14.028740341012643,15.048994060143096,12.995725793078618,15.680844648452101,17.009801096230763,11.823939933691964,14.644870167475784,17.783419243778738,17.901737966527783,14.476033833738976,11.86966254317657,11.84271928232701,15.446142992130214,13.924399049470283,17.69808526994438,16.529435024289917,18.19035153285634,14.352700094407323,15.037915044609372,12.667763110439912,21.576736443576344,16.203566136982175,22.608380943554735,19.029947159382466,19.067132861433457,18.373440976946405,12.42309676905615,16.91892431568863,17.76153772121722,22.485180304665857,15.380362660079104,14.742229591663987,15.0821822765216,12.1472447721924,19.76880258274526,15.260697523012796,13.337499349161705,11.130538571376,12.68091304108484,17.320508075688775,14.825840804337389,19.77371993328519,16.418147141366333,17.629678260125893,9.546668994413123,10.452272480183437,11.838027238053176,14.083086782851739,8.806563209081938,19.32542941883109,14.705441169852742,11.130538571375999,15.247039785552545,10.792229715041383,13.662601021279464,11.7011395456454,12.432037465981011,15.609825965290794,18.080068829760823,13.149778198382917,16.663332999933317,21.122000115729783,11.245986938558225,17.827101714960726,14.940623220676649,14.052480998820892,18.162843634433703,20.22924176093168,13.658534165698585,12.239507978491439,16.93533452741798,18.997075798366676,11.010096376609164,6.841458583924597,12.979684981625024,13.719410418171119,15.627610892974722,13.16139134826642,17.18203195847983,10.418999738725189,16.05891929392787,11.87083260208258,13.768926368215256,16.945173026230474,16.13915184333496,9.956851354162565,12.284814474246922,18.108469473333926,12.365947867699695,7.1336448530109,15.279797846248563,11.986103064243467,17.582345943840625,12.548793656054045,7.564537145273478,16.905784677309583,12.374929853897713,18.40289832245635,15.563490039905002,19.041621079449442,19.82422760159901,14.72809107341025,19.084606944399514,17.03672503740082,13.6798716693136,13.097921802925667,11.426091000668407,17.79200819344336,20.46134567096374,19.273614664152184,10.111874208078342,16.087434710218893,16.182981458584475,18.77424358588708,15.684387141358123,15.720651668709186,15.606266547626166,18.354533197248273,21.140403654298247,15.910339056377426,11.396880664852505,13.262310842718508,13.512340039139533,13.67073110293992,16.11848490260656,12.162099599438687,18.836282954860167,14.11165790716629,16.152055252780958,16.25576820700886,11.841546445554407,19.31680327820545,21.42428528562855,17.594980344783945,15.312485827657841,12.578641509408806,19.198524248840933,23.24985065662908,14.294521094927712,15.986105077709064,15.986105077709064,12.027745701779143,14.749764593225057,19.60442127004348,9.007712744581106,16.26601774661928,10.745800213209913,6.335525936249405,11.055415967851333,10.188501143718616,11.944315244779277,18.375708603116962,15.77621275493231,13.475286020464774,12.315302134607444,15.603596451530725,16.252350257390127,16.76305461424021,15.110702608857515,16.97710877099579,10.687479694587598,18.783118898509787,18.631663610340567,16.04940289647354,19.810911695886745,17.714557729606337,17.39492263085218,13.72851857347406,17.266698841668862,20.260114072290467,14.019827229875395,9.673847907287634,14.27118308573843,16.663332999933317,19.390719429665317,17.925772879665004,14.602130742539673,17.483325389257807,20.165977949672232,12.010412149464313,16.879474715365603,16.99754884289693,16.569718028848758,14.542084521217108,16.303544263611993,14.019827229875393,13.433995020924426,15.89986023698182,15.31883372410141,17.074997966487597,16.08311744241976,12.102570893088055,14.851112939963642,10.450943604393922,15.673757260678329,12.785625609340444,16.211278652702124,12.837661607767808,21.71532996653644,20.19075696121041,17.023676323155218,14.922019523732928,17.48967949645987,22.647663602823727,16.968107338965847,15.129074290546956,18.631663610340567,15.993922456844523,13.056501147789257,13.110640292864758,22.013253583542195,20.013884069704098,23.27910364826504,12.10601319822325,16.10382977224155,17.698870020427858,17.997685036322498,20.763884243775028,11.827463332806781,10.945572417902845,12.798654443165326,15.681730346701752,13.060755465643377,15.173990905493518,10.242883708539635,20.368821489936252,14.53348623772776,19.154343864744856,10.90489186863706,16.87618308609964,16.51682643716872,11.685698761972068,18.961950204437187,17.104255480889996,17.92034845891365,17.72396369012555,16.121931232537456,17.068489485989478,15.692354826475215,15.453334771354548,10.640593133008245,13.83734881479188,10.699169230469355,13.933373205684576,18.809719709648935,15.348724159790395,15.02960042346066,13.412266359153806,15.037915044609372,17.40130901844903,12.75081696729011,14.348828833353922,19.983326383095815,18.97732565165305,22.440043572942447,16.67749648145335,13.387390418682134,18.06854233805877,16.244657241348275,16.984470030655128,21.717888172349234,22.425184255405547,10.012492197250394,12.35133820909927,13.984117975602022,16.583123951777,15.048994060143098,17.4132771821453,12.632629707758133,19.728715675943587,20.02290355234891,8.70663859107265,21.003306617980154,15.434449203720302,20.58046538724418,12.041594578792296,12.297244497131144,15.881505666095462,11.430952132988164,15.723301886761007,12.957194483717874,11.567435132973754,10.792229715041383,9.535023160258536,17.639129482173686,8.919392106839767,10.257788368952745,13.789085861248703,19.186945793661085,17.62337462954622,11.015141094572204,18.699376103674332,15.99652740093577,17.99073835801818,20.472881792480727,17.667452812697388,19.576062480034697,18.68748838721304,7.586537784494028,14.403896077874979,18.190351532856337,19.05620342274108,14.716770479060049,16.79947089113887,15.861378670636842,6.618576550554926,15.631165450257807,12.33445940805226,19.624955767819934,19.70969868420677,15.118053960598088,19.42506971244462,14.438567180375697,17.272328544042153,17.06279252903489,18.14754345175493,14.360439485692012,14.514360704718161,13.284284783992787,14.464515969164756,21.55355088043628,15.673757260678329,17.966790352078903,18.153665072253467,15.0821822765216,17.192537140670463,13.92838827718412,11.772142257606868,9.429563439877091,16.006942938057293,9.013878188659973,18.107702474054758,10.482790129010924,16.82012683265696,18.803811670332514,17.043245648121786,13.852396503453434,13.564659966250536,17.620221968585476,11.567435132973756,20.789954839350234,12.697331303160606,12.027745701779143,12.996794476587935,15.030524497390857,18.749814813900308,15.671098663888673,13.793114224133722,15.965240019770729,17.610760599386072,18.15136970650486,19.330459556530638,15.889374506953452,21.87591267937307,18.381754238616313,18.535251699277126,18.309833423600555,21.56707882140947,18.7794213613377,11.387127235025815,17.25945795466616,18.77054430040145,12.84523257866513,8.69386757049665,20.039544239661073,14.011899704655802,13.296825017858795,17.93197020841702,15.14375558880073,18.16972451329103,10.307764064044152,25.95936996325005,9.02619644270067,13.047988350699889,16.377491328717664,19.84453465202839,18.935563248965043,16.206994374857626,16.224124698183942,16.557140118054473,19.136933459209764,12.468850076178725,11.981467170407619,12.023125864580956,13.796134724383252,15.755069730795297,14.276048317218443,14.769525682596882,15.46411616901816,22.03028218914441,19.09333798882625,14.149990184527416,18.979521127315678,15.402020069530561,19.014614262602215,16.607394604680035,16.6332999331662,13.86442289539028,7.888106377466155,17.55625877635159,15.520595635763755,14.716770479060049,18.372685039360892,12.088791870525727,12.485547200218695,11.025223605694151,12.832251036613439,19.113694915775266,18.631663610340567,19.499287736279555,14.966629547095765,15.09322879822457,17.15290710702481,11.718930554164631,18.62271611649481,10.640593133008245,19.110788110965547,15.531330342962326,8.86942313043338,18.726095873584185,14.5,13.110640292864757,19.534158116830458,15.7797338380595,20.264912204760886,18.688231591030757,21.045585443666486,16.700798384109266,16.28564466707481,16.468825769380835,21.690371647858463,13.816254517375137,12.736648783028533,14.329456840136451,9.585869229698936,13.110640292864758,8.374896350934076,9.843215373488935,14.636332266733431,17.613126418163876,10.991158062531698,19.1049731745428,15.275252316519467,15.336956093769789,17.31489403824221,15.993922456844523,11.585431464655176,17.365355036841475,17.410884207555025,21.967147187460544,14.12641340027806,21.2602916254693,18.116904322268255,19.215156055109784,19.93949180228356,14.161763857498668,12.995725793078618,16.647488966474462,17.54676291766914,9.893881386437219,16.567203210627383,14.960132203812758,14.023789311975086,20.00555478416488,21.9652503337026,13.752777497250834,16.79037422652237,12.880864360230902,19.171738459397872,19.19563028978789,17.259457954666157,14.30617582258329,14.776106839534334,18.64284193881275,20.09975124224178,18.729803937990265,17.046505018135925,16.3749469888879,16.28564466707481,11.503622617824933,15.71004632569731,15.920810978785667,15.509853498842455,16.451950239004088,18.81193474602995,20.30120412411266,13.743685418725535,16.931233465600393,18.81857829085101,19.064947474940034,13.569778512889918,19.067132861433453,20.02220989024161,9.429563439877091,18.81193474602995,15.723301886761007,9.445751543536502,15.358674711344364,18.399879226656775,10.392304845413264,14.24098155168932,19.102792117035317,14.220486005134362,11.964066569895408,17.695730809686523,15.606266547626168,14.445299120013633,18.281745601069453,20.685475312133605,18.172781845386247,18.424771972054966,18.427033281447002,17.745108872274887,16.217274740226856,11.176612486199325,19.949937343260004,18.535251699277122,20.072784228070272,14.224392195567912,15.257966953547761,18.640606809388537,10.066445913694333,17.065234314893605,14.395215254459456,16.027753706895076,18.246004128758347,21.509687739868905,16.234394215847892,19.55050439815357,13.981138087517131,18.463928798245153,12.458821060687171,14.772346537440226,12.102570893088057,16.268579122549905,17.055465073954707,20.575065816014618,13.535960336164635,20.691517317221784,18.97732565165305,9.877021593352701,11.86029791643813,20.456593612383813,20.43689474129244,19.119507199599983,16.54287359157008,16.242092092940354,15.947831618540915,10.9188929027728,13.658534165698587,13.957276079362892,16.82920741515245,13.650396819628847,17.173137938847013,14.787382008545888,19.684314116123584,17.827101714960722,10.862780491200215,12.944325225965066,20.30120412411266,17.802153427792568,13.561587910958902,19.87460691435179,13.291601358251256,19.232495649002207,18.463176565501637,21.090413830827394,18.071616788027942,13.704216707114476,19.629909152447276,18.55322673343433,8.610394235392992,18.58912465813158,14.960132203812757,17.93197020841702,17.508727982225196,19.68643074697787,16.637474434407274,12.274635093014645,13.012814197295423,13.969212178533509,18.95608961081724,13.671747023210555,12.445436468396313,16.925490309654908,21.707653540219916,15.478479684172259,12.824672402140422,18.97073770017626,13.909429255804215,10.83205120618128,17.723963690125547,19.936705400397084,15.702087617751836,12.188336865854813,18.803811670332514,15.31520667688019,14.730919862656235,15.329709716755891,18.906935823189915,13.03094607292792,14.220486005134362,12.995725793078618,13.73559851869101,20.139099615755747,16.522711641858304,14.993517117593042,15.037915044609372,22.01262264146541,13.767917618708921,12.789970028633114,19.259196937221102,19.692779274535006,17.37255178595118,13.438129830200829,10.094002619817815,12.229290885229426,16.152055252780954,14.12641340027806,23.395156193822118,15.635607510494188,18.03160805055636,15.829824172533735,8.629728977333079,10.468205831628136,15.75595125658873,16.967288790165885,12.143814154631245,14.544949486180952,14.792077459084494,14.2828568570857,9.877021593352701,14.60593486680443,21.656407827707714,19.139836293274122,19.55689704994691,17.305265736827685,15.752424857427155,21.26551721031544,8.434387285919998,15.840349322747484,11.64283279771532,9.758187445536297,18.7053171287976,12.658988901172163,13.59840676942217,11.571036638473188,16.856419812311536,14.450105728179139,14.410644214144858,11.756794725698931,14.580237766694113,15.509853498842453,8.098353742170895,18.373440976946405,20.05617112013158,8.881941729649485,19.362047641943477,12.863600670971648,17.249798710580816,20.305992547357377,16.272847186511513,17.397317800933184,14.06729856400613,15.933891203622824,16.468825769380835,8.434387285919996,22.637849328552,11.234866364235144,14.427019404190489,19.2180470738661,8.6874750199481,15.710046325697311,18.09926333675858,14.997221964972935,13.813238416662314,15.71004632569731,12.671051872498808,11.4418821295566,13.186693629901654,18.917951498216947,17.591822595235044,20.48576741707927,20.25188605757224,15.496415356103775,20.54263858417414,19.641933600222654,14.716770479060049,11.430952132988164,5.887840577551898,19.745604292826513,13.495884146245807,12.184917817622825,11.69995251652283,16.977926846349646,15.871007809489884,18.05239288540134,12.654599515152144,12.711543310445563,15.864005379054392,16.163229875244614,16.090024514862893,13.84035966135113,20.088692231092487,21.289016469114355,19.55050439815357,14.825840804337389,21.36716068071646,23.809428571238094,19.327585352432298,10.462897410479671,18.080068829760823,10.949378470437894,13.969212178533509,16.49915822768611,18.874586088176873,17.430018805370104,11.357816691600547,4.818944098266987,12.355835328567093,16.583123951777,19.84663419547226,14.982397078646068,17.879224442538515,20.210695738203132,16.609903337734657,11.556623882239812,17.876893839068725,19.83823468848868,17.00408447664528,22.63294059551255,14.544949486180952,18.123802642442953,16.242092092940354,13.309353436169951,19.038703270501966,11.944315244779277,10.826921179274478,12.428685458334773,9.906507401142388,16.293318330598655,15.560812603745632,14.587856441422623,21.360009363293827,15.659572862061793,10.204846343227754,17.669811040931428,21.326170672569315,9.081421817216851,14.364307617610162,19.599461443848117,11.422443793786957,12.157530816557923,19.241881404893856,10.503967504392486,17.05546507395471,17.68866554856213,18.562207723101135,6.841458583924597,17.838784213679535,11.115554667022044,14.814594905775257,9.893881386437219,17.64149149653232,18.820792284657472,8.234412884690418,5.9066817155564495,16.579773487261182,20.467453839368165,15.86838226019135,15.56438241627338,19.473628891971373,20.73175235129813,16.303544263611993,16.866304343934456,11.343133018115703,20.949675149960893,15.071127658171067,18.417986378055073,17.237717043996543,17.808393776219372,15.84297951775486,18.756480361612503,17.4132771821453,16.020819787597222,16.663332999933317,11.615363389350618,12.858201014657274,18.740923729160798,14.966629547095765,13.487648670790126,8.205689083394114,21.322914122292634,8.434387285919998,14.888474289418197,17.904065335994378,18.03160805055636,23.34285520001546,13.082006302126937,17.266698841668866,16.967288790165885,15.214211192901926,19.64193360022265,18.616748731540998,13.865424623862047,17.192537140670463,17.829438827088442,17.29804099377216,10.344080432788601,15.920810978785665,17.10181926644713,17.31489403824221,15.062831370260005,19.250541117935708,20.02290355234891,13.021349989749739,16.886056048968005,7.039570693980959,21.2184406171194,23.209193580705612,15.65691185671328,15.203252575974949,16.303544263611993,15.0996688705415,17.885437900395083,18.117670931993437,13.873435847771171,16.28649747490233,15.79820664927932,16.974654308376618,11.55662388223981,16.610739497887103,17.3749500398962,20.0700163317212,16.94763175851488,11.260797287739246,17.3877351409933,15.65691185671328,13.461880337539114,10.97977939466707,17.441967269268172,11.785113019775793,15.37313674346694,17.45470328211473,17.97220075561143,11.785113019775793,16.68332500832293,15.181311610734504,15.05545305418162,13.487648670790126,15.671098663888673,14.814594905775257,11.856784274554942,14.476033833738976,14.291605927956452,10.620995977569878,15.0858653491715,8.193832368854569,17.29563207543711,18.696404883173546,15.402020069530563,12.508885730640527,13.136040330158687,17.848124706970076,16.17010272763356,17.353353822500388,22.86737122335374,19.728715675943587,20.02290355234891,20.028451984336904,19.3016982557379,16.13484841370793,13.909429255804216,13.73155328269732,17.43957823139335,20.29778313018444,15.692354826475215,10.354816378006044,13.828312341794359,14.341083176199302,16.506732633147667,13.844373104863458,15.5,22.178568233519695,9.9498743710662,19.402892109740296,14.418352502588114,18.580156679162375,19.021187017522212,9.877021593352701,18.80085695446413,15.97567595509568,17.121299275723466,16.921386861996073,14.780805871880673,18.288581744416984,16.18040653245633,12.596295751794122,11.294049564064943,11.503622617824933,11.71418892720372,10.594810050208546,15.77621275493231,17.133463034528532,16.82673137863943,17.727097901235837,17.36615482291153,17.733364661626464,15.765644787180623,14.12641340027806,10.90489186863706,17.90716802475106,12.297244497131144,16.519348924485158,11.981467170407619,17.134273644754636,8.361618663073955,12.840906856172149,14.461635069690042,13.66768288904727,14.507660811523758,20.683460918220515,18.524008445498207,19.760369992037656,7.3805299418281765,18.06469853978564,14.985177861992682,12.995725793078618,10.027739304327548,13.274871834493252,21.950069602521893,16.806909954605644,14.674240468703426,18.953158634439333,19.082423559099848,14.854853303438128,19.661016137411504,16.879474715365603,12.827920936595905,7.819136070493267,18.191115047370424,20.177682941529458,16.449417416228858,10.640593133008245,23.919424928055623,11.186549463033222,9.990273047097139,18.246004128758347,11.51810169544733,15.2825245151302,19.490738541391625,11.3382342344633,18.841443681416774,9.72396809720988,17.18203195847983,17.528548142958105,17.994597954818428,16.162370563200877,23.01207412545761,9.118052911059952,11.86029791643813,14.338177476002079,21.65961423684385,11.995369476964388,22.45551157288562,16.619934483090546,17.21433511156714,10.66796867053684,17.622586517181738,15.986973864159951,18.263503375736967,11.964066569895408,12.133516482134198,17.714557729606337,15.0858653491715,17.632041540584257,13.5,15.129992289048486,18.07084822457307,16.59986613065164,10.842303978193728,15.499103916750226,19.197800799975905,18.487984085766506,19.368502494743595,13.416407864998739,14.996295838935989,9.177266598624136,16.131404843417148,14.613540144521982,17.49047359755209,15.170329228098147,10.57775443508162,14.004959439030479,4.642796092394707,13.801167422440113,11.925695879998877,16.809388910830624,17.29563207543711,17.146428199482248,12.798654443165326,18.16590212458495,16.21384867602041,11.38346754435279,14.614490525958589,14.85952743378993,14.863265679744362,17.394124167533,16.13484841370793,16.789547012617373,15.369522511198005,19.57393391449171,22.51480994071828,16.038148964959213,17.94126218773052,17.358955421722047,11.32352516764202,16.76305461424021,8.445906306213285,15.205992970609392,17.904841058588968,21.70829334609241,11.396880664852505,15.881505666095462,11.6963907063485,15.923427883328248,18.136059844041835,17.470610241838212,18.6785676348292,17.810733343190062,21.177162751941587,15.941734186997628,13.165611772087667,23.386249521175188,11.739061101960223,18.230011885167087,16.05978414134719,22.845495544344548,13.450526631573451,19.119507199599983,15.836841716565697,11.88836966675134,15.871882896073378,12.19858826076016,19.108607717175232,17.79903243312837,5.580223014261069,9.990273047097139,19.72097022630141,14.848307049028255,12.005785642301335,17.669811040931428,17.068489485989478,13.84035966135113,14.985177861992682,17.565749501673864,20.030532250098155,19.963856229585392,17.160192954108126,23.746344747958346,19.003654619280177,16.99673171197595,5.871304984602846,18.752777572046938,22.387992813609312,18.00617178142601,8.736894948054104,18.252092726284534,13.849388273694819,17.976064332575383,14.064336299859853,10.996211468804457,20.61889640327263,18.363611361119094,8.576453553512405,18.663690238892556,8.225975119502044,17.08231704294109,14.522013940527977,11.474609652039003,12.442088070559361,15.86838226019135,12.736648783028533,16.996731711975947,16.79699047117932,17.406895185529212,13.511312133007495,14.82584080433739,13.73559851869101,12.596295751794122,17.285993045108967,17.996913315590785,15.209646062066446,15.73478100684383,19.428644374279493,9.441339358845697,9.719682207882222,17.68945071692919,17.827101714960722,16.425758903489225,19.05255888325765,21.33593734107368,17.764665303161028,17.676883838002166,21.228911104120876,14.314910641239317,16.84652948104017,14.5,14.83988619303471,17.77091881573813,17.56337730114064,19.420064080452693,19.499287736279552,13.72851857347406,15.931276017807097,14.792077459084492,18.942163433873002,14.479871085982314,12.824672402140422,18.803811670332514,15.228810415349804,15.895492023421818,18.740923729160798,7.151145984308311,18.040848711250316,10.561986345169906,16.401219466856727,14.403896077874979,15.952185499868733,15.556349186104045,8.850612031567836,13.66768288904727,22.742520137887585,19.745604292826517,18.9010581714358,17.867568385205637,11.445523142259598,15.88937450695345,19.582446788443526,11.41149517908246,22.490121288146838,19.499287736279555,22.740687959885665,14.461635069690042,16.045940988992268,18.6785676348292,17.46106780494506,9.843215373488933,14.533486237727763,12.355835328567093,11.62492532831454,18.451889394374284,9.291573243177568,16.235249715767644,14.65150731722394,13.221405203515834,14.567848922274774,16.22754859285078,9.585869229698936,18.589124658131578,11.426091000668407,9.92331709773613,15.777093099385155,16.418993066973787,12.184917817622825,11.030261405182864,15.121728296285006,13.211947455070943,17.346949779908474,11.343133018115703,13.056501147789259,18.58912465813158,12.225883290062203,16.182981458584475,15.442545846531337,17.053021889259263,11.249691353790803,8.556998435328957,14.173527750312866,21.505167337694033,17.426034163476974,15.755069730795297,14.693157893689461,13.32187007226171,16.041612554021285,13.09474025027691,19.652537297311568,14.278966660402597,12.033518004123131,15.847362206023085,16.004339689249566,18.78533707147383,16.810215148335647,17.922673411693417,14.758236871508586,18.442854683830507,19.770910168449223,18.786076404259266,17.191729277636835,9.428090415820634,13.99603118347801,16.344384016808004,20.48102102489576,13.384277675275902,12.970050972229146,16.182981458584475,19.72097022630141,17.88854381999832,15.347819244295117,13.64327266050521,19.822125684867068,20.901887208787844,7.646713164636307,21.328775554791388,21.667307682825342,17.851237118661178,16.028620235898867,11.396880664852505,13.237153101109852,15.849991237291656,18.93849694845572,17.375749384319132,17.723963690125547,7.804912982645397,13.21615173439934,11.416362526362473,19.836134256004172,17.21433511156714,17.52537842355733,12.789970028633114,12.34796429466097,21.445020141955776,17.07825127659933,14.567848922274774,13.897441810955314,23.22355126446714,15.691469727919761,15.910339056377426,18.968541207893544,23.584363935078308,14.46835627614047,12.866839377079188,14.337208778404378,12.535505130982513,17.94126218773052,19.13475604466618,13.976170195491086,18.20256392196806,19.599461443848117,15.89199658808029,15.763001688200829,14.173527750312866,19.03505538035898,18.848076824970764,18.334090893439164,13.532881765865277,15.184970639857468,20.440292452789308,14.772346537440225,21.037004433986212,16.64748896647446,14.130345596151095,18.454147380888546,18.400634047046676,18.39157415774952,14.739402972983676,15.624944444345678,10.614455552060438,16.244657241348275,10.484114968211035,13.873435847771173,22.163533613172387,20.227181931472533,14.161763857498668,14.761059883656353,16.40545302297041,18.57791400800663,20.325818283377643,18.533003594188994,17.994597954818428,18.191115047370424,22.17105219775452,13.433995020924426,10.382945418115014,17.121299275723466,8.239471396205516,19.886483405122743,16.47641411904369,18.30679897985688,10.482790129010924,17.92034845891365,13.520560474904713,15.552777529717607,13.585122581543223,15.348724159790395,14.896867679705913,15.162087220725546,19.356308187943966,16.10037956764443,19.955506062794353,13.396724309405721,18.848076824970764,17.204650534085253,17.430018805370107,17.925772879665004,10.81151649348457,15.88238017426859,17.813852287849848,19.655363983740756,8.59586463881842,10.792229715041383,14.85952743378993,15.695009822658072,10.671873729054747,12.879786057574439,14.98888477061141,9.533566430716728,21.548395145191982,17.257043650508496,15.445243784270794,16.387664737709137,17.18203195847983,10.765170174636763,15.513435037626794,16.08311744241976,15.225161922145707,9.826268648655784,10.040196987886022,19.79898987322333,17.88854381999832,13.362468168551631,16.458702527504677,15.316113519210196,19.05037182489273,10.446955962809879,11.615363389350618,13.94831730193845,21.58252894253951,11.006311320732703,17.813852287849848,20.63505647085938,11.567435132973756,12.90241148864127,7.776388764858802,17.23771704399654,17.11724276862369,17.220788470785983,17.65093639316497,15.507166801908795,17.511900715418264,8.975274678557506,18.00385761132566,15.807874268505836,17.198998678863706,5.560275772537426,10.699169230469355,18.571184369578827,22.65686062395524,14.590712418826193,19.576771950451892,8.556998435328957,18.756480361612503,15.402020069530563,20.947686162332,13.740653388960641,16.990193249832878,15.348724159790395,10.466878978738388,18.5,15.20599297060939,22.186081723058315,22.462314118441927,19.382122346808842,12.516655570345725,16.418993066973787,16.380883167074153,13.111699610144623,12.065791865158845,9.872802146413257,16.619934483090546,16.38512197764247,17.93274472392147,13.73559851869101,12.944325225965066,19.69560018548982,8.556998435328957,17.651723239767083,13.888444437333106,18.96195020443719,12.34796429466097,11.940826325398646,18.043927879852916,19.624955767819934,17.95983172403226,19.430788855719562,17.801373230424918,15.912957683040016,12.723556455994876,12.110601416389967,22.661764175711376,21.35935912480106,11.883695646650592,14.854853303438128,9.877021593352703,18.436075745366445,15.110702608857515,17.131030973710317,10.812801055539063,12.824672402140424,16.64748896647446,11.349253524155479,9.316949906249123,16.275407487644937,12.047360245667468,15.832456116050556,13.249737942901193,18.0246744461277,17.499206331208917,22.464787260658994,18.288581744416984,15.060064925343301,15.671098663888673,14.72714802291635,16.667499979167708,15.253414918196734,14.135259302734973,12.5,18.068542338058766,19.09988365293243,19.014614262602215,17.745108872274887,9.122621455602673,14.419315748906627,13.618818679394415,14.174507634012077,14.189197769195175,13.781025602859414,16.45870252750468,21.01586702153082,16.070158679988197,15.126319960768898,18.451889394374284,9.195409482755814,17.468225121313523,15.347819244295117,14.746939418815764,14.818344486930156,16.539514973407037,16.925490309654908,14.780805871880675,12.539936203984453,18.723870682455946,11.661903789690601,19.85572965166478,17.075811352124187,9.809292646374775,11.73314393786536,10.19395245558202,15.405626677721791,18.160549428790848,13.375973484822204,14.429907214608907,16.234394215847892,18.318175552045446,11.912878185672287,14.473155226909654,22.199224210669065,10.579067381705567,13.83734881479188,14.567848922274774,10.82307206336948,13.589211407093005,20.472881792480727,9.860132971832693,20.238165265985288,9.309493362512628,19.394300422775988,15.954797258365758,16.22155630292263,20.07209228976613,15.550098249064394,16.772994167212165,13.764890926637314,12.840906856172149,16.245512200810005,15.836841716565699,12.378296418418094,6.693695209341067,21.349603170915277,14.590712418826193,19.5056971734471,16.957463122635875,17.449132420330308,18.598835088969057,11.7011395456454,17.259457954666157,13.670731102939918,14.594519519326424,10.286182749472982,21.333984365066197,13.924399049470283,13.634107557478375,15.92342788332825,13.888444437333106,12.802994441405755,12.184917817622825,17.26267650163207,20.35859087024989,16.868774571839996,17.449132420330308,20.248456731316587,13.635126206481063,12.445436468396313,15.821925715074425,17.143187827498387,15.968719422671311,10.53169818531972,16.163229875244614,13.671747023210555,13.731553282697321,12.970050972229146,20.45048220023729,13.498971154211057,19.36276495407272,11.653564070942226,9.877021593352703,17.942036302122084,22.075627586397932,14.229273425660997,10.286182749472982,16.908249137296533,9.498537899183338,9.154537429906306,11.427306477614632,12.107160415776002,13.495884146245807,20.995369859937107,18.81193474602995,14.660036380127666,18.236105822119907,17.247383054313552,16.235249715767644,9.775252199076787,21.443077100909644,18.46317656550164,11.171640683245927,18.776462807343545,17.4928556845359,11.474609652039003,10.828203913853857,21.068670790747312,19.80460103668393,12.746459203332595,17.281975195754296,15.542951242712348,20.070016331721195,20.53249457161339,9.201449161228174,13.366625103842281,21.035023703866422,18.09849594733097,22.937717604175198,16.587311080729414,16.3783393541592,13.503086067019396,18.190351532856337,15.260697523012796,14.403896077874979,17.121299275723466,12.644717825593771,14.885675440951054,16.623276853055575,20.440292452789308,16.32737986736798,8.394773506308685,14.36043948569201,18.20637861361293,18.116904322268255,13.732564703409679,20.48305532764962,22.17105219775452,7.3805299418281765,13.813238416662312,13.250786140200638,18.172781845386247,20.939728322550465,18.98244803320513,19.19563028978789,13.403979508588733,10.023583302503262,18.988300491501484,14.795832746644125,21.476084890459486,13.45878482214828,14.772346537440225,14.392320483121855,17.20142112992089,16.47641411904369,21.27139445880834,5.477225575051661,21.266170318136737,18.132996320397673,13.313526955694348,19.97220290526032,9.458975749108475,14.102797200870787,19.402892109740293,16.142593761020354,12.811670027318408,22.365648262955006,16.242092092940354,15.496415356103777,7.302967433402215,9.945685831890462,15.037915044609372,18.321208111548394,11.239810200058244,12.897028081435403,12.35133820909927,14.874474780643517,13.993053832368242,15.481171359644161,15.084944665313014,22.16165356847022,20.207259421636902,17.23771704399654,20.572365498945963,15.77621275493231,15.71004632569731,12.445436468396313,11.524129275375019,13.186693629901656,7.624886155798583,20.534523775015252,16.689983689493396,17.162620882474666,12.694049349553076,18.729803937990265,15.520595635763755,7.861650943380503,17.886214430858942,23.589663461402374,18.732028424302822,20.360637405433938,13.01814972345234,16.82012683265696,19.945063438243448,16.839932699786342,19.754043186705406,14.82584080433739,17.430018805370107,8.537498983243799,18.363611361119094,21.10621288204547,14.165686240583852,15.79820664927932,13.545191848852573,10.996211468804457,7.702813338860896,17.82086791750989,15.889374506953452,10.143416036468626,14.345924702003547,14.48466622175173,8.198915917499228,14.798648586948742,17.714557729606334,10.826921179274477,16.18040653245633,14.91550274788692,17.317300277147385,14.20973844469583,15.442545846531335,6.724747000610671,12.130081981952507,20.09975124224178,9.476579317219667,18.37948735834478,18.898118660038328,13.200378782444085,12.548793656054045,16.38512197764247,7.0,8.460693430998036,9.012337223063849,15.377653339252458,18.424771972054966,17.013883219953705,15.388487760516156,9.633564011078949,17.620221968585476,17.506348054983434,19.12822231387143,10.519822558706334,15.784134087395763,18.421002506197464,17.745108872274887,9.03696114115064,18.76758434701233,17.21836874451881,15.20599297060939,14.794894014114766,13.69914839202301,18.469945557280045,14.580237766694113,13.90443574307614,20.862646045025066,19.154343864744856,21.63651748523521,17.295632075437105,14.11854572303158,18.1636083052533,15.670212364724211,14.185281887302143,15.784134087395763,12.671051872498806,12.522202504174558,9.805044053388485,14.974051630144134,13.752777497250834,13.224556283251582,15.4236470683457,14.496168076043023,10.115993936995679,17.477763650485215,21.445020141955776,15.913830462839549,10.338708279513883,17.358955421722047,12.995725793078618,6.236095644623236,16.856419812311536,16.326529195011275,19.785656982324905,21.129889309275196,21.73067468400883,18.77424358588708,17.827101714960726,18.487984085766502,11.88836966675134,22.241103090149704,8.098353742170895,9.533566430716727,16.128821683213218,16.54958878307521,10.766460266339475,9.39858145324779,13.55749075439683,11.275588183721897,16.623276853055575,18.436075745366445,13.716373022373258,14.712995011968916,8.87724932372385,19.886483405122743,18.469945557280045,16.810215148335647,8.445906306213285,15.800843859321775,16.10037956764443,17.468225121313523,11.615363389350618,13.234005020736877,14.590712418826193,17.013883219953705,8.205689083394114,15.702972117829585,13.474255287605159,16.82012683265696,19.765289440498126,14.322670452429216,16.898389140848767,17.143997977912466,18.424771972054966,14.89966442575134,17.175564037317667,13.536986370680884,13.969212178533509,13.752777497250833,18.56295594277305,17.629678260125896,11.71063144706078,19.302417810557653,17.422845793829307,18.580904176062045,18.77424358588708,10.354816378006046,19.198524248840933,14.817407180595245,12.307405178274673,17.745108872274887,12.535505130982513,18.80307303489394,13.253930234714028,15.931276017807097,12.147244772192398,16.945173026230474,7.852812659593164,17.006534691765463,16.407992632318624,11.469767022723502,12.495554765151041,21.79959224898994,15.787653403846944,7.32006375199925,13.50822794530142,21.076579946049648,12.970050972229146,15.026827860714835,17.519037264263886,10.6366765904059,15.71004632569731,12.503332889007368,20.909859450082923,3.435921354681384,13.801167422440113,12.064640713902572,15.542057635833022,9.521904571390467,15.638272140986535,19.779338265529063,19.599461443848117,13.813238416662312,6.8068592855540455,9.081421817216851,8.274794391537606,19.841034919244173,13.849388273694819,15.582219211510136,18.55996288310465,18.865017595774695,15.063753405664428,13.743685418725535,11.48428878463481,15.015732490365638,17.326921891156037,16.57307052620807,20.765890836230025,12.876550607812465,10.192589900947103,13.655483229172898,23.49054183188535,17.298843892006193,11.615363389350618,15.004628915401037,21.14565886627534,11.62492532831454,12.270108212870642,16.1245154965971,15.720651668709186,16.911534525287763,17.21110752456745,16.028620235898867,18.30679897985688,5.469613027140647,17.375749384319132,13.022416570411705,13.19090595827292,14.727148022916348,15.249772311597166,19.42292459955503,16.526914076405458,16.617427264438046,22.06367049145621,20.763884243775028,17.92267341169342,19.52491286080996,12.148388096094616,13.621877827801699,17.113996870657914,13.852396503453434,16.810215148335647,9.476579317219665,18.669642619920598,12.05081832168348,15.004628915401037,12.7758452644912,13.582055154586223,17.233687939614086,14.877275736280932,14.406788523316207,10.903618155864084,9.788031240017348,12.579745625409124,14.60593486680443,18.55996288310465,16.28564466707481,18.8804719809178,17.00408447664528,16.98038083593337,17.96910929592474,18.496996753226966,17.714557729606334,9.736814445985686,17.160192954108126,16.09088769044973,18.61600267392427,16.520189667999176,12.157530816557923,17.544388149934314,10.290232693622087,16.563010998406458,12.932517156377562,12.134661099511597,16.438437341250605,21.919676599398592,19.6468827043885,21.489661597046045,11.14550233153366,11.977989072553967,19.33405171079139,10.812801055539063,9.910712498212337,12.759528030282137,11.98262631201246,9.889669132764531,16.252350257390127,17.582345943840625,16.87206764645835,5.617433182117572,15.89986023698182,12.615026313444174,19.11732780025028,15.236104780713767,10.62099597756988,12.143814154631245,16.46629554237652,17.191729277636835,19.70335560817553,8.259674462242577,13.288466176851765,17.3749500398962,13.279056191361393,16.283085975603303,15.132745950421556,19.371370627810517,18.6763367809524,16.717422714707617,12.931443160847214,17.230463977760113,19.46292772312417,18.749814813900308,9.702519718551923,16.38512197764247,14.149990184527416,12.130081981952507,14.364307617610162,13.631051153728224,12.42868545833477,16.234394215847896,19.91161023679959,10.023583302503262,16.142593761020354,18.043158136965808,20.30120412411266,12.203141671990318,8.768630958643937,13.060755465643377,16.70994381265904,18.442854683830507,18.820792284657472,9.616247824501105,15.3260852434302,18.607047649270484,14.73846064628943,13.183533500376733,16.077071319808912,14.622091353686569,16.035550782211658,21.05284356618417,11.567435132973756,8.029459646963936,8.16496580927726,8.137703743822469,13.873435847771173,21.005290338917533,14.701662793333579,12.931443160847214,14.247806848775006,9.983319421247959,16.868774571839996,17.56337730114064,18.246004128758347,18.499249234015476,16.747304924142934,17.686309834319754,15.724185193516387,15.88238017426859,13.545191848852573,17.582345943840625,12.19858826076016,17.976064332575383,19.43722088045396,19.680785892167346,14.974979131871937,16.22155630292263,14.043582955293932,16.526914076405458,15.828946760778354,17.52537842355733,16.529435024289917,13.313526955694348,17.55625877635159,18.04315813696581,12.065791865158845,13.296825017858795,16.020819787597222,9.190877119308157,13.90443574307614,17.41088420755502,10.853826770109958,19.4457936039877,11.995369476964388,19.53629101612347,16.905784677309583,9.689627902499089,19.627078800020705,14.926672621704931,17.06279252903489,10.6366765904059,9.249624617007738,14.738460646289429,12.641422212534298,12.889487533990204,13.682917167849194,16.025153838748494,13.211947455070943,13.650396819628847,17.716909687891082,11.71063144706078,15.01110699893027,17.15047780351582,12.905640455070625,16.079662793589783,17.813852287849848,15.603596451530723,16.858891488535722,20.138409955990955,18.616748731540998,17.733364661626464,13.59738536958076,8.219218670625303,13.5,13.752777497250833,12.892719737209145,19.59095596328968,15.20599297060939,14.773286702694158,12.583057392117917,20.575065816014618,16.47219880080778,15.004628915401037,19.84663419547226,11.305111921407747,17.259457954666157,19.473628891971373,12.94110591186944,12.047360245667466,19.344824171395878,13.056501147789257,12.98289472943363,21.625602111078127,14.769525682596882,13.18353350037673,10.05678322769706,18.469945557280045,18.197222010210485,19.015344680897407,19.672315572906,13.284284783992787,19.9916649298318,16.83910792042012,13.755806854642234,21.543882864722622,18.119970566569176,18.89223826513594,17.5,16.567203210627383,21.02974084481309,15.720651668709186,10.81151649348457,14.406788523316205,13.437096247164249,11.42244379378696,15.09322879822457,13.16139134826642,18.962682651284688,9.94428926011753,15.198684153570664,10.510576683618375,18.37948735834478,15.99652740093577,10.177589760514683,18.859126879754182,12.270108212870642,17.362955457589074,17.502380790433435,15.369522511198005,13.95727607936289,20.82199691565522,13.284284783992787,19.02118701752221,13.486618882762608,15.702087617751838,14.738460646289429,16.905784677309587,17.15290710702481,15.041608956491324,21.26551721031544,21.51485275080657,23.613202521753237,18.197222010210485,7.2033942616581035,11.543396380615196,16.53699556213952,17.253019059476713,15.603596451530723,15.931276017807097,20.05617112013158,10.011104945120804,19.440078875011455,6.823163163486239,11.195237082497776,10.446955962809879,14.53730832490435,17.053021889259263,11.832159566199232,16.62077013859466,12.270108212870642,18.366636418607882,18.756480361612507,18.988300491501487,15.093228798224573,14.895935314336219,18.363611361119094,14.173527750312866,11.977989072553965,22.304085325837107,3.265986323710904,13.868429375143148,13.634107557478373,19.163043135739745,14.461635069690042,13.613718571108091,19.8158185969358,11.739061101960223,7.637626158259733,15.007405579320572,16.46207763315433,12.171232020173179,13.022416570411705,10.688779163215974,15.509853498842457,16.13915184333496,13.813238416662312,8.73053390247253,14.130345596151095,20.423978282618908,18.517259216441534,16.252350257390123,18.303005217723125,8.744839748229937,13.609637108395734,15.225161922145707,16.10037956764443,10.579067381705567,17.838784213679535,12.310790208412925,19.754043186705402,16.570556216775987,16.152915113584505,18.685258598394856,18.132996320397673,12.419742348374221,17.578395831246947,15.09322879822457,13.051181300301263,16.609903337734657,18.457157599876172,14.83988619303471,21.989896669960856,14.530619012584731,19.5056971734471,20.79062288629179,15.0821822765216,16.51009792016187,16.79947089113887,14.571661996262929,16.673332000533065,17.28840330651992,12.33445940805226,16.97710877099579,12.526638282742368,9.445751543536502,14.2828568570857,20.456593612383813,18.723128893311493,10.466878978738388,15.744487571492726,18.876793513023692,16.915640362956673,18.610033136277146,11.596215857865971,14.415462377445808,17.76153772121722,9.564111156935716,10.86917149045358,14.567848922274774,20.26833874681286,14.742229591663987,9.208993189027536,14.576426936057485,11.874342087037917,15.993922456844524,22.037846234754127,12.079597123524719,14.232201360139461,13.056501147789257,9.428090415820632,16.056324472168455,11.799246680285238,15.983498435017982,11.305111921407747,10.573814617041267,18.460919683362356,14.03171011989946,21.116081286282473,19.796183695068322,21.613396051728866,15.340577998671801,11.513277359447029,16.689983689493396,14.189197769195175,14.11165790716629,11.190273554396345,17.326921891156033,11.254628677422755,19.473628891971373,20.57034002851895,10.122856426040144,14.36914131819373,7.7387911774959335,21.11081871142535,13.437096247164249,17.451520150277897,10.89979612449497,18.197222010210485,19.032136564826928,16.62995957768856,11.686887238838807,14.064336299859853,15.02960042346066,17.92267341169342,10.66796867053684,12.806248474865697,19.05620342274108,21.870832936432333,12.24744871391589,16.006942938057293,18.18118685772619,14.758236871508586,17.95983172403226,16.048537489614297,16.984470030655128,14.38459824488215,16.152915113584505,12.588575067187797,17.886214430858942,8.576453553512405,17.935068069752806,5.497474167490214,17.639129482173683,16.96483290679739,17.24013405464767,18.343179174347675,13.960261060914616,16.36476567371362,18.663690238892556,18.490237664478215,12.928220638931286,19.844534652028393,18.65475810617763,21.429470880593907,13.349989596333856,14.758236871508586,15.620499351813308,14.138206706965663,17.01959654829299,18.660713336371206,16.41137816678823,22.06052281036573,23.921166824012204,10.237458451957474,23.342855200015464,6.420453428086074,14.138206706965663,11.141763275572178,21.452790546272112,10.9188929027728,11.175369742826808,14.780805871880675,17.21110752456745,16.911534525287763,17.13670524536927,13.461880337539114,18.950960104672504,11.055415967851333,12.093386622447824,14.023789311975086,14.224392195567912,7.536946036396675,13.825298871593658,23.5419247773461,16.289055630494154,11.88369564665059,19.39644870130154,11.633285577743433,20.072784228070272,18.91795149821695,9.962429422585638,14.123463534920257,10.0,19.084606944399514,13.825298871593658,19.102065042525872,16.29587541544042,13.631051153728224,16.64331697709324,18.089284734953512,20.635056470859382,10.781929326423912,15.592911494935413,14.940623220676645,14.161763857498668,15.290701604424681,13.082006302126937,17.12373271872176,18.909139471577113,4.509249752822894,13.708270009985457,8.844332774281066,14.406788523316205,15.542057635833023,15.231546211727817,7.51480021173033,19.154343864744856,22.08317610006918,13.924399049470283,18.162843634433703,10.677078252031311,19.54197760946647,11.71063144706078,16.435902436096683,7.675719293112969,12.110601416389967,10.221165404307975,15.620499351813308,18.69714773256427,8.239471396205518,16.74979270186815,21.67179426505029,12.401836781523757,18.261221816248284,18.917951498216947,12.33445940805226,20.98147330914162,15.986973864159951,17.594980344783945,17.594190960528863,21.69805418823438,14.533486237727763],\"xaxis\":\"x\",\"yaxis\":\"y\",\"type\":\"histogram\"}],                        {\"template\":{\"data\":{\"histogram2dcontour\":[{\"type\":\"histogram2dcontour\",\"colorbar\":{\"outlinewidth\":0,\"ticks\":\"\"},\"colorscale\":[[0.0,\"#0d0887\"],[0.1111111111111111,\"#46039f\"],[0.2222222222222222,\"#7201a8\"],[0.3333333333333333,\"#9c179e\"],[0.4444444444444444,\"#bd3786\"],[0.5555555555555556,\"#d8576b\"],[0.6666666666666666,\"#ed7953\"],[0.7777777777777778,\"#fb9f3a\"],[0.8888888888888888,\"#fdca26\"],[1.0,\"#f0f921\"]]}],\"choropleth\":[{\"type\":\"choropleth\",\"colorbar\":{\"outlinewidth\":0,\"ticks\":\"\"}}],\"histogram2d\":[{\"type\":\"histogram2d\",\"colorbar\":{\"outlinewidth\":0,\"ticks\":\"\"},\"colorscale\":[[0.0,\"#0d0887\"],[0.1111111111111111,\"#46039f\"],[0.2222222222222222,\"#7201a8\"],[0.3333333333333333,\"#9c179e\"],[0.4444444444444444,\"#bd3786\"],[0.5555555555555556,\"#d8576b\"],[0.6666666666666666,\"#ed7953\"],[0.7777777777777778,\"#fb9f3a\"],[0.8888888888888888,\"#fdca26\"],[1.0,\"#f0f921\"]]}],\"heatmap\":[{\"type\":\"heatmap\",\"colorbar\":{\"outlinewidth\":0,\"ticks\":\"\"},\"colorscale\":[[0.0,\"#0d0887\"],[0.1111111111111111,\"#46039f\"],[0.2222222222222222,\"#7201a8\"],[0.3333333333333333,\"#9c179e\"],[0.4444444444444444,\"#bd3786\"],[0.5555555555555556,\"#d8576b\"],[0.6666666666666666,\"#ed7953\"],[0.7777777777777778,\"#fb9f3a\"],[0.8888888888888888,\"#fdca26\"],[1.0,\"#f0f921\"]]}],\"heatmapgl\":[{\"type\":\"heatmapgl\",\"colorbar\":{\"outlinewidth\":0,\"ticks\":\"\"},\"colorscale\":[[0.0,\"#0d0887\"],[0.1111111111111111,\"#46039f\"],[0.2222222222222222,\"#7201a8\"],[0.3333333333333333,\"#9c179e\"],[0.4444444444444444,\"#bd3786\"],[0.5555555555555556,\"#d8576b\"],[0.6666666666666666,\"#ed7953\"],[0.7777777777777778,\"#fb9f3a\"],[0.8888888888888888,\"#fdca26\"],[1.0,\"#f0f921\"]]}],\"contourcarpet\":[{\"type\":\"contourcarpet\",\"colorbar\":{\"outlinewidth\":0,\"ticks\":\"\"}}],\"contour\":[{\"type\":\"contour\",\"colorbar\":{\"outlinewidth\":0,\"ticks\":\"\"},\"colorscale\":[[0.0,\"#0d0887\"],[0.1111111111111111,\"#46039f\"],[0.2222222222222222,\"#7201a8\"],[0.3333333333333333,\"#9c179e\"],[0.4444444444444444,\"#bd3786\"],[0.5555555555555556,\"#d8576b\"],[0.6666666666666666,\"#ed7953\"],[0.7777777777777778,\"#fb9f3a\"],[0.8888888888888888,\"#fdca26\"],[1.0,\"#f0f921\"]]}],\"surface\":[{\"type\":\"surface\",\"colorbar\":{\"outlinewidth\":0,\"ticks\":\"\"},\"colorscale\":[[0.0,\"#0d0887\"],[0.1111111111111111,\"#46039f\"],[0.2222222222222222,\"#7201a8\"],[0.3333333333333333,\"#9c179e\"],[0.4444444444444444,\"#bd3786\"],[0.5555555555555556,\"#d8576b\"],[0.6666666666666666,\"#ed7953\"],[0.7777777777777778,\"#fb9f3a\"],[0.8888888888888888,\"#fdca26\"],[1.0,\"#f0f921\"]]}],\"mesh3d\":[{\"type\":\"mesh3d\",\"colorbar\":{\"outlinewidth\":0,\"ticks\":\"\"}}],\"scatter\":[{\"fillpattern\":{\"fillmode\":\"overlay\",\"size\":10,\"solidity\":0.2},\"type\":\"scatter\"}],\"parcoords\":[{\"type\":\"parcoords\",\"line\":{\"colorbar\":{\"outlinewidth\":0,\"ticks\":\"\"}}}],\"scatterpolargl\":[{\"type\":\"scatterpolargl\",\"marker\":{\"colorbar\":{\"outlinewidth\":0,\"ticks\":\"\"}}}],\"bar\":[{\"error_x\":{\"color\":\"#2a3f5f\"},\"error_y\":{\"color\":\"#2a3f5f\"},\"marker\":{\"line\":{\"color\":\"#E5ECF6\",\"width\":0.5},\"pattern\":{\"fillmode\":\"overlay\",\"size\":10,\"solidity\":0.2}},\"type\":\"bar\"}],\"scattergeo\":[{\"type\":\"scattergeo\",\"marker\":{\"colorbar\":{\"outlinewidth\":0,\"ticks\":\"\"}}}],\"scatterpolar\":[{\"type\":\"scatterpolar\",\"marker\":{\"colorbar\":{\"outlinewidth\":0,\"ticks\":\"\"}}}],\"histogram\":[{\"marker\":{\"pattern\":{\"fillmode\":\"overlay\",\"size\":10,\"solidity\":0.2}},\"type\":\"histogram\"}],\"scattergl\":[{\"type\":\"scattergl\",\"marker\":{\"colorbar\":{\"outlinewidth\":0,\"ticks\":\"\"}}}],\"scatter3d\":[{\"type\":\"scatter3d\",\"line\":{\"colorbar\":{\"outlinewidth\":0,\"ticks\":\"\"}},\"marker\":{\"colorbar\":{\"outlinewidth\":0,\"ticks\":\"\"}}}],\"scattermapbox\":[{\"type\":\"scattermapbox\",\"marker\":{\"colorbar\":{\"outlinewidth\":0,\"ticks\":\"\"}}}],\"scatterternary\":[{\"type\":\"scatterternary\",\"marker\":{\"colorbar\":{\"outlinewidth\":0,\"ticks\":\"\"}}}],\"scattercarpet\":[{\"type\":\"scattercarpet\",\"marker\":{\"colorbar\":{\"outlinewidth\":0,\"ticks\":\"\"}}}],\"carpet\":[{\"aaxis\":{\"endlinecolor\":\"#2a3f5f\",\"gridcolor\":\"white\",\"linecolor\":\"white\",\"minorgridcolor\":\"white\",\"startlinecolor\":\"#2a3f5f\"},\"baxis\":{\"endlinecolor\":\"#2a3f5f\",\"gridcolor\":\"white\",\"linecolor\":\"white\",\"minorgridcolor\":\"white\",\"startlinecolor\":\"#2a3f5f\"},\"type\":\"carpet\"}],\"table\":[{\"cells\":{\"fill\":{\"color\":\"#EBF0F8\"},\"line\":{\"color\":\"white\"}},\"header\":{\"fill\":{\"color\":\"#C8D4E3\"},\"line\":{\"color\":\"white\"}},\"type\":\"table\"}],\"barpolar\":[{\"marker\":{\"line\":{\"color\":\"#E5ECF6\",\"width\":0.5},\"pattern\":{\"fillmode\":\"overlay\",\"size\":10,\"solidity\":0.2}},\"type\":\"barpolar\"}],\"pie\":[{\"automargin\":true,\"type\":\"pie\"}]},\"layout\":{\"autotypenumbers\":\"strict\",\"colorway\":[\"#636efa\",\"#EF553B\",\"#00cc96\",\"#ab63fa\",\"#FFA15A\",\"#19d3f3\",\"#FF6692\",\"#B6E880\",\"#FF97FF\",\"#FECB52\"],\"font\":{\"color\":\"#2a3f5f\"},\"hovermode\":\"closest\",\"hoverlabel\":{\"align\":\"left\"},\"paper_bgcolor\":\"white\",\"plot_bgcolor\":\"#E5ECF6\",\"polar\":{\"bgcolor\":\"#E5ECF6\",\"angularaxis\":{\"gridcolor\":\"white\",\"linecolor\":\"white\",\"ticks\":\"\"},\"radialaxis\":{\"gridcolor\":\"white\",\"linecolor\":\"white\",\"ticks\":\"\"}},\"ternary\":{\"bgcolor\":\"#E5ECF6\",\"aaxis\":{\"gridcolor\":\"white\",\"linecolor\":\"white\",\"ticks\":\"\"},\"baxis\":{\"gridcolor\":\"white\",\"linecolor\":\"white\",\"ticks\":\"\"},\"caxis\":{\"gridcolor\":\"white\",\"linecolor\":\"white\",\"ticks\":\"\"}},\"coloraxis\":{\"colorbar\":{\"outlinewidth\":0,\"ticks\":\"\"}},\"colorscale\":{\"sequential\":[[0.0,\"#0d0887\"],[0.1111111111111111,\"#46039f\"],[0.2222222222222222,\"#7201a8\"],[0.3333333333333333,\"#9c179e\"],[0.4444444444444444,\"#bd3786\"],[0.5555555555555556,\"#d8576b\"],[0.6666666666666666,\"#ed7953\"],[0.7777777777777778,\"#fb9f3a\"],[0.8888888888888888,\"#fdca26\"],[1.0,\"#f0f921\"]],\"sequentialminus\":[[0.0,\"#0d0887\"],[0.1111111111111111,\"#46039f\"],[0.2222222222222222,\"#7201a8\"],[0.3333333333333333,\"#9c179e\"],[0.4444444444444444,\"#bd3786\"],[0.5555555555555556,\"#d8576b\"],[0.6666666666666666,\"#ed7953\"],[0.7777777777777778,\"#fb9f3a\"],[0.8888888888888888,\"#fdca26\"],[1.0,\"#f0f921\"]],\"diverging\":[[0,\"#8e0152\"],[0.1,\"#c51b7d\"],[0.2,\"#de77ae\"],[0.3,\"#f1b6da\"],[0.4,\"#fde0ef\"],[0.5,\"#f7f7f7\"],[0.6,\"#e6f5d0\"],[0.7,\"#b8e186\"],[0.8,\"#7fbc41\"],[0.9,\"#4d9221\"],[1,\"#276419\"]]},\"xaxis\":{\"gridcolor\":\"white\",\"linecolor\":\"white\",\"ticks\":\"\",\"title\":{\"standoff\":15},\"zerolinecolor\":\"white\",\"automargin\":true,\"zerolinewidth\":2},\"yaxis\":{\"gridcolor\":\"white\",\"linecolor\":\"white\",\"ticks\":\"\",\"title\":{\"standoff\":15},\"zerolinecolor\":\"white\",\"automargin\":true,\"zerolinewidth\":2},\"scene\":{\"xaxis\":{\"backgroundcolor\":\"#E5ECF6\",\"gridcolor\":\"white\",\"linecolor\":\"white\",\"showbackground\":true,\"ticks\":\"\",\"zerolinecolor\":\"white\",\"gridwidth\":2},\"yaxis\":{\"backgroundcolor\":\"#E5ECF6\",\"gridcolor\":\"white\",\"linecolor\":\"white\",\"showbackground\":true,\"ticks\":\"\",\"zerolinecolor\":\"white\",\"gridwidth\":2},\"zaxis\":{\"backgroundcolor\":\"#E5ECF6\",\"gridcolor\":\"white\",\"linecolor\":\"white\",\"showbackground\":true,\"ticks\":\"\",\"zerolinecolor\":\"white\",\"gridwidth\":2}},\"shapedefaults\":{\"line\":{\"color\":\"#2a3f5f\"}},\"annotationdefaults\":{\"arrowcolor\":\"#2a3f5f\",\"arrowhead\":0,\"arrowwidth\":1},\"geo\":{\"bgcolor\":\"white\",\"landcolor\":\"#E5ECF6\",\"subunitcolor\":\"white\",\"showland\":true,\"showlakes\":true,\"lakecolor\":\"white\"},\"title\":{\"x\":0.05},\"mapbox\":{\"style\":\"light\"}}},\"xaxis\":{\"anchor\":\"y\",\"domain\":[0.0,1.0],\"title\":{\"text\":\"Desvio padr\\u00e3o\"}},\"yaxis\":{\"anchor\":\"x\",\"domain\":[0.0,1.0],\"title\":{\"text\":\"Ocorr\\u00eancias\"}},\"legend\":{\"tracegroupgap\":0},\"title\":{\"text\":\"Contagem de desvio padr\\u00e3o\"},\"barmode\":\"relative\"},                        {\"responsive\": true}                    ).then(function(){\n",
              "                            \n",
              "var gd = document.getElementById('c5cb7802-8a2b-44da-a103-2f03146331dd');\n",
              "var x = new MutationObserver(function (mutations, observer) {{\n",
              "        var display = window.getComputedStyle(gd).display;\n",
              "        if (!display || display === 'none') {{\n",
              "            console.log([gd, 'removed!']);\n",
              "            Plotly.purge(gd);\n",
              "            observer.disconnect();\n",
              "        }}\n",
              "}});\n",
              "\n",
              "// Listen for the removal of the full notebook cells\n",
              "var notebookContainer = gd.closest('#notebook-container');\n",
              "if (notebookContainer) {{\n",
              "    x.observe(notebookContainer, {childList: true});\n",
              "}}\n",
              "\n",
              "// Listen for the clearing of the current output cell\n",
              "var outputEl = gd.closest('.output');\n",
              "if (outputEl) {{\n",
              "    x.observe(outputEl, {childList: true});\n",
              "}}\n",
              "\n",
              "                        })                };                            </script>        </div>\n",
              "</body>\n",
              "</html>"
            ]
          },
          "metadata": {}
        }
      ]
    },
    {
      "cell_type": "markdown",
      "source": [
        "O desvio padrão mede a dispersão do conjunto de dados, ou seja, quanto maior for o valor do desvio padrão mais distante da média os dados estarão.\n",
        "\n",
        "No gráfico acima a região da esquerda demonstra resultados dos quais os números sorteados não estão muito dispersos, ou seja, é como se os números estivessem aglomerados, próximos uns dos outros.\n",
        "\n",
        "Já na região da direita os números sorteados estão mais dispersos, ou seja, existe um espaçamento maior entre os números.\n",
        "\n",
        "Pode-se observar que a maior concentração está na região central onde os números sorteados não estão muito distantes uns dos outros e nem muito aglomerados."
      ],
      "metadata": {
        "id": "HCsr0l2Wcngj"
      }
    },
    {
      "cell_type": "markdown",
      "source": [
        "### Conta a quantidade de números pares sorteados em cada concurso e plota em um histrograma"
      ],
      "metadata": {
        "id": "k2q2lN8lY82x"
      }
    },
    {
      "cell_type": "code",
      "source": [
        "EvenCount(results)"
      ],
      "metadata": {
        "colab": {
          "base_uri": "https://localhost:8080/",
          "height": 542
        },
        "id": "nEnEYl1bZI_b",
        "outputId": "39f7cd44-cc6a-4788-b987-ef3eb768af4c"
      },
      "execution_count": 14,
      "outputs": [
        {
          "output_type": "display_data",
          "data": {
            "text/html": [
              "<html>\n",
              "<head><meta charset=\"utf-8\" /></head>\n",
              "<body>\n",
              "    <div>            <script src=\"https://cdnjs.cloudflare.com/ajax/libs/mathjax/2.7.5/MathJax.js?config=TeX-AMS-MML_SVG\"></script><script type=\"text/javascript\">if (window.MathJax && window.MathJax.Hub && window.MathJax.Hub.Config) {window.MathJax.Hub.Config({SVG: {font: \"STIX-Web\"}});}</script>                <script type=\"text/javascript\">window.PlotlyConfig = {MathJaxConfig: 'local'};</script>\n",
              "        <script src=\"https://cdn.plot.ly/plotly-2.18.2.min.js\"></script>                <div id=\"f90d15b0-863f-4ca4-8b23-55848cd2d728\" class=\"plotly-graph-div\" style=\"height:525px; width:100%;\"></div>            <script type=\"text/javascript\">                                    window.PLOTLYENV=window.PLOTLYENV || {};                                    if (document.getElementById(\"f90d15b0-863f-4ca4-8b23-55848cd2d728\")) {                    Plotly.newPlot(                        \"f90d15b0-863f-4ca4-8b23-55848cd2d728\",                        [{\"alignmentgroup\":\"True\",\"bingroup\":\"x\",\"hovertemplate\":\"<b>%{customdata}%</b><br><extra></extra>\",\"legendgroup\":\"0\",\"marker\":{\"color\":\"#636efa\",\"pattern\":{\"shape\":\"\"},\"line\":{\"width\":1}},\"name\":\"0\",\"nbinsx\":7,\"offsetgroup\":\"0\",\"orientation\":\"v\",\"showlegend\":true,\"texttemplate\":\"%{value}\",\"x\":[3.0,0.0,3.0,2.0,4.0,2.0,3.0,2.0,4.0,3.0,2.0,3.0,5.0,2.0,3.0,5.0,3.0,3.0,4.0,2.0,3.0,3.0,1.0,3.0,4.0,4.0,2.0,5.0,4.0,3.0,3.0,3.0,1.0,1.0,3.0,0.0,5.0,3.0,4.0,3.0,3.0,2.0,4.0,4.0,2.0,4.0,2.0,4.0,0.0,4.0,2.0,4.0,4.0,3.0,4.0,2.0,2.0,3.0,5.0,3.0,4.0,4.0,2.0,5.0,3.0,3.0,3.0,1.0,3.0,2.0,1.0,3.0,2.0,5.0,2.0,2.0,2.0,4.0,1.0,3.0,3.0,2.0,4.0,5.0,2.0,5.0,4.0,2.0,3.0,4.0,4.0,1.0,4.0,4.0,5.0,5.0,2.0,1.0,4.0,4.0,1.0,4.0,1.0,3.0,1.0,3.0,5.0,3.0,3.0,3.0,4.0,4.0,4.0,4.0,6.0,3.0,2.0,2.0,3.0,3.0,2.0,1.0,5.0,2.0,1.0,5.0,2.0,1.0,4.0,2.0,3.0,2.0,2.0,5.0,2.0,1.0,3.0,2.0,2.0,2.0,4.0,3.0,5.0,4.0,1.0,4.0,5.0,2.0,3.0,5.0,4.0,2.0,3.0,4.0,4.0,2.0,2.0,3.0,3.0,5.0,2.0,2.0,3.0,5.0,2.0,3.0,3.0,2.0,1.0,2.0,4.0,4.0,3.0,3.0,4.0,2.0,2.0,1.0,2.0,2.0,0.0,4.0,4.0,3.0,2.0,3.0,5.0,3.0,2.0,4.0,1.0,4.0,2.0,3.0,2.0,3.0,2.0,3.0,4.0,3.0,3.0,3.0,1.0,1.0,5.0,5.0,1.0,1.0,3.0,5.0,4.0,1.0,2.0,4.0,3.0,4.0,1.0,4.0,4.0,3.0,3.0,3.0,6.0,4.0,4.0,3.0,3.0,2.0,0.0,4.0,4.0,1.0,3.0,2.0,2.0,4.0,2.0,1.0,3.0,2.0,2.0,4.0,3.0,3.0,3.0,3.0,4.0,4.0,3.0,1.0,2.0,4.0,4.0,4.0,4.0,5.0,3.0,4.0,2.0,3.0,5.0,4.0,3.0,0.0,3.0,5.0,3.0,2.0,2.0,1.0,4.0,5.0,2.0,2.0,4.0,1.0,6.0,3.0,2.0,4.0,1.0,3.0,5.0,5.0,4.0,2.0,1.0,3.0,4.0,3.0,3.0,2.0,3.0,2.0,4.0,4.0,3.0,4.0,1.0,3.0,3.0,4.0,1.0,2.0,2.0,2.0,3.0,1.0,2.0,4.0,5.0,3.0,4.0,4.0,4.0,4.0,4.0,2.0,3.0,3.0,3.0,3.0,3.0,3.0,1.0,3.0,4.0,1.0,4.0,3.0,1.0,4.0,3.0,3.0,0.0,6.0,5.0,4.0,3.0,4.0,3.0,3.0,4.0,4.0,4.0,4.0,5.0,3.0,5.0,2.0,3.0,2.0,3.0,4.0,4.0,3.0,3.0,4.0,2.0,1.0,2.0,3.0,1.0,1.0,3.0,2.0,3.0,4.0,3.0,4.0,3.0,3.0,2.0,5.0,2.0,2.0,2.0,2.0,2.0,2.0,4.0,3.0,5.0,5.0,5.0,2.0,3.0,4.0,4.0,4.0,3.0,0.0,5.0,1.0,4.0,4.0,4.0,4.0,1.0,3.0,3.0,3.0,3.0,5.0,3.0,5.0,3.0,4.0,3.0,4.0,4.0,2.0,2.0,4.0,4.0,2.0,3.0,3.0,3.0,2.0,1.0,3.0,4.0,3.0,5.0,4.0,2.0,6.0,3.0,4.0,4.0,2.0,5.0,5.0,1.0,2.0,4.0,3.0,2.0,2.0,3.0,1.0,4.0,3.0,3.0,3.0,2.0,1.0,4.0,1.0,2.0,4.0,5.0,5.0,3.0,2.0,3.0,3.0,1.0,1.0,3.0,3.0,2.0,4.0,2.0,3.0,5.0,1.0,2.0,2.0,2.0,3.0,1.0,5.0,4.0,3.0,5.0,2.0,5.0,3.0,5.0,3.0,3.0,2.0,4.0,5.0,5.0,1.0,2.0,2.0,1.0,4.0,5.0,4.0,3.0,2.0,3.0,4.0,2.0,3.0,4.0,2.0,2.0,3.0,4.0,3.0,2.0,3.0,3.0,3.0,4.0,4.0,2.0,4.0,2.0,2.0,4.0,4.0,3.0,3.0,3.0,3.0,4.0,2.0,5.0,1.0,5.0,4.0,2.0,2.0,2.0,3.0,1.0,2.0,4.0,2.0,1.0,2.0,3.0,5.0,2.0,3.0,3.0,2.0,1.0,3.0,3.0,2.0,4.0,3.0,4.0,3.0,4.0,2.0,0.0,3.0,4.0,2.0,2.0,5.0,2.0,1.0,3.0,4.0,1.0,3.0,2.0,1.0,2.0,2.0,3.0,3.0,3.0,4.0,2.0,3.0,3.0,4.0,2.0,4.0,3.0,1.0,2.0,3.0,3.0,2.0,5.0,1.0,2.0,3.0,4.0,2.0,0.0,1.0,3.0,4.0,4.0,4.0,2.0,4.0,3.0,3.0,4.0,1.0,4.0,2.0,1.0,3.0,4.0,1.0,3.0,2.0,3.0,4.0,2.0,6.0,1.0,4.0,5.0,2.0,2.0,2.0,2.0,3.0,5.0,3.0,2.0,6.0,2.0,4.0,4.0,4.0,3.0,4.0,4.0,6.0,4.0,4.0,1.0,4.0,1.0,4.0,4.0,2.0,4.0,3.0,4.0,2.0,3.0,2.0,4.0,5.0,2.0,4.0,2.0,2.0,4.0,3.0,4.0,3.0,4.0,4.0,1.0,3.0,3.0,2.0,2.0,3.0,2.0,4.0,2.0,4.0,4.0,5.0,4.0,2.0,4.0,5.0,2.0,4.0,2.0,3.0,3.0,2.0,2.0,3.0,2.0,2.0,2.0,2.0,4.0,3.0,2.0,0.0,3.0,2.0,2.0,3.0,3.0,4.0,2.0,3.0,3.0,5.0,1.0,4.0,3.0,0.0,4.0,2.0,2.0,2.0,5.0,1.0,5.0,4.0,2.0,1.0,1.0,4.0,2.0,4.0,5.0,2.0,0.0,1.0,5.0,5.0,2.0,4.0,3.0,2.0,4.0,2.0,4.0,2.0,4.0,5.0,3.0,4.0,3.0,3.0,4.0,4.0,2.0,2.0,3.0,1.0,4.0,4.0,4.0,3.0,2.0,4.0,3.0,2.0,5.0,1.0,2.0,4.0,2.0,2.0,3.0,0.0,4.0,4.0,5.0,3.0,4.0,4.0,3.0,4.0,2.0,4.0,4.0,1.0,5.0,2.0,4.0,3.0,4.0,2.0,4.0,3.0,2.0,2.0,4.0,1.0,4.0,4.0,3.0,2.0,1.0,3.0,4.0,2.0,5.0,3.0,1.0,2.0,4.0,6.0,2.0,1.0,5.0,3.0,4.0,2.0,1.0,2.0,3.0,2.0,2.0,4.0,1.0,4.0,4.0,3.0,2.0,3.0,4.0,3.0,2.0,3.0,3.0,2.0,5.0,4.0,5.0,1.0,4.0,0.0,3.0,4.0,2.0,4.0,5.0,3.0,2.0,0.0,4.0,3.0,4.0,5.0,5.0,4.0,4.0,3.0,3.0,3.0,3.0,5.0,4.0,2.0,2.0,2.0,2.0,3.0,3.0,5.0,3.0,3.0,3.0,2.0,1.0,4.0,5.0,2.0,2.0,4.0,2.0,2.0,3.0,5.0,5.0,4.0,3.0,3.0,4.0,2.0,4.0,3.0,3.0,4.0,1.0,1.0,4.0,6.0,5.0,2.0,3.0,3.0,3.0,4.0,2.0,1.0,2.0,4.0,5.0,4.0,4.0,4.0,2.0,3.0,3.0,2.0,1.0,2.0,5.0,1.0,3.0,3.0,5.0,1.0,4.0,3.0,2.0,6.0,1.0,2.0,1.0,1.0,2.0,3.0,5.0,2.0,2.0,4.0,1.0,3.0,2.0,3.0,2.0,2.0,1.0,3.0,4.0,1.0,2.0,0.0,2.0,4.0,2.0,3.0,4.0,2.0,2.0,5.0,2.0,2.0,3.0,4.0,3.0,3.0,2.0,2.0,4.0,2.0,0.0,3.0,4.0,3.0,2.0,4.0,3.0,4.0,3.0,3.0,2.0,3.0,3.0,3.0,3.0,4.0,2.0,3.0,1.0,5.0,1.0,1.0,3.0,4.0,5.0,4.0,5.0,3.0,2.0,5.0,3.0,3.0,3.0,4.0,4.0,4.0,4.0,1.0,2.0,4.0,5.0,2.0,2.0,2.0,3.0,2.0,4.0,3.0,3.0,3.0,4.0,3.0,3.0,3.0,2.0,2.0,3.0,2.0,3.0,3.0,2.0,3.0,2.0,2.0,4.0,3.0,4.0,2.0,4.0,5.0,4.0,2.0,3.0,2.0,2.0,3.0,2.0,3.0,5.0,2.0,5.0,3.0,5.0,3.0,3.0,2.0,2.0,4.0,5.0,3.0,3.0,4.0,1.0,3.0,2.0,3.0,4.0,4.0,2.0,3.0,3.0,3.0,2.0,2.0,3.0,3.0,1.0,3.0,5.0,2.0,1.0,2.0,1.0,2.0,5.0,2.0,3.0,4.0,2.0,2.0,4.0,4.0,4.0,4.0,4.0,2.0,3.0,4.0,5.0,3.0,5.0,5.0,2.0,3.0,1.0,3.0,3.0,3.0,2.0,4.0,3.0,2.0,4.0,1.0,3.0,3.0,2.0,3.0,3.0,2.0,4.0,5.0,2.0,5.0,2.0,3.0,4.0,2.0,2.0,3.0,4.0,3.0,4.0,4.0,3.0,2.0,2.0,3.0,4.0,5.0,2.0,3.0,4.0,3.0,3.0,3.0,2.0,2.0,2.0,4.0,3.0,4.0,4.0,3.0,3.0,3.0,3.0,4.0,2.0,3.0,4.0,2.0,2.0,4.0,3.0,5.0,4.0,3.0,1.0,3.0,3.0,3.0,3.0,3.0,0.0,4.0,6.0,4.0,4.0,3.0,3.0,2.0,2.0,5.0,2.0,2.0,3.0,2.0,3.0,3.0,3.0,5.0,4.0,5.0,3.0,3.0,3.0,2.0,2.0,4.0,2.0,2.0,2.0,2.0,5.0,3.0,2.0,4.0,3.0,4.0,3.0,3.0,4.0,3.0,2.0,2.0,3.0,4.0,3.0,4.0,3.0,2.0,3.0,3.0,2.0,3.0,3.0,2.0,2.0,2.0,2.0,2.0,3.0,3.0,2.0,0.0,4.0,4.0,4.0,5.0,5.0,2.0,1.0,4.0,3.0,2.0,4.0,3.0,2.0,3.0,2.0,4.0,3.0,3.0,1.0,3.0,4.0,2.0,2.0,4.0,3.0,3.0,4.0,2.0,2.0,2.0,2.0,2.0,4.0,1.0,5.0,0.0,4.0,1.0,4.0,3.0,4.0,4.0,4.0,3.0,1.0,2.0,3.0,3.0,4.0,1.0,5.0,3.0,4.0,5.0,4.0,5.0,5.0,3.0,5.0,3.0,3.0,3.0,3.0,5.0,2.0,4.0,4.0,2.0,4.0,4.0,2.0,3.0,2.0,3.0,4.0,3.0,2.0,4.0,4.0,2.0,3.0,3.0,3.0,3.0,3.0,3.0,2.0,4.0,2.0,6.0,3.0,4.0,2.0,5.0,3.0,2.0,2.0,1.0,2.0,2.0,3.0,4.0,4.0,1.0,2.0,4.0,3.0,1.0,3.0,3.0,3.0,3.0,3.0,2.0,4.0,3.0,3.0,4.0,3.0,3.0,3.0,4.0,3.0,3.0,3.0,2.0,3.0,3.0,1.0,5.0,2.0,3.0,3.0,1.0,4.0,4.0,3.0,5.0,2.0,4.0,5.0,3.0,2.0,4.0,5.0,2.0,2.0,5.0,1.0,2.0,3.0,1.0,2.0,3.0,4.0,3.0,3.0,1.0,2.0,4.0,2.0,4.0,4.0,3.0,3.0,2.0,3.0,4.0,5.0,4.0,2.0,4.0,2.0,4.0,3.0,3.0,3.0,3.0,4.0,2.0,2.0,3.0,2.0,3.0,4.0,5.0,6.0,3.0,1.0,2.0,4.0,2.0,3.0,4.0,4.0,4.0,1.0,2.0,1.0,2.0,4.0,5.0,3.0,1.0,4.0,5.0,2.0,3.0,5.0,4.0,3.0,2.0,4.0,2.0,3.0,5.0,3.0,4.0,6.0,3.0,2.0,4.0,1.0,3.0,6.0,3.0,3.0,5.0,2.0,3.0,4.0,6.0,4.0,4.0,5.0,5.0,3.0,2.0,4.0,5.0,4.0,3.0,3.0,3.0,4.0,4.0,4.0,3.0,4.0,2.0,3.0,3.0,4.0,2.0,4.0,4.0,3.0,2.0,1.0,2.0,4.0,5.0,2.0,3.0,4.0,2.0,5.0,5.0,3.0,5.0,3.0,4.0,2.0,3.0,4.0,2.0,1.0,3.0,5.0,5.0,4.0,4.0,5.0,3.0,2.0,3.0,2.0,4.0,3.0,3.0,3.0,5.0,3.0,3.0,2.0,3.0,3.0,3.0,2.0,5.0,5.0,3.0,6.0,3.0,1.0,4.0,4.0,3.0,1.0,4.0,2.0,4.0,4.0,1.0,5.0,2.0,3.0,2.0,2.0,3.0,4.0,4.0,4.0,3.0,5.0,2.0,2.0,4.0,4.0,4.0,2.0,3.0,4.0,2.0,4.0,4.0,4.0,2.0,3.0,4.0,1.0,4.0,4.0,4.0,2.0,5.0,3.0,3.0,3.0,4.0,3.0,3.0,2.0,3.0,3.0,3.0,3.0,3.0,2.0,4.0,2.0,3.0,4.0,2.0,1.0,4.0,3.0,3.0,3.0,2.0,4.0,2.0,5.0,2.0,3.0,2.0,5.0,5.0,2.0,3.0,2.0,3.0,2.0,2.0,4.0,2.0,4.0,3.0,4.0,1.0,3.0,5.0,2.0,3.0,3.0,2.0,4.0,1.0,2.0,3.0,4.0,2.0,3.0,5.0,3.0,3.0,4.0,4.0,2.0,2.0,4.0,2.0,2.0,4.0,2.0,4.0,2.0,2.0,4.0,5.0,3.0,3.0,3.0,5.0,5.0,2.0,3.0,4.0,2.0,4.0,4.0,4.0,3.0,1.0,3.0,4.0,3.0,2.0,3.0,3.0,3.0,1.0,4.0,2.0,2.0,1.0,1.0,3.0,2.0,5.0,4.0,2.0,3.0,1.0,3.0,2.0,3.0,0.0,5.0,3.0,2.0,3.0,3.0,5.0,1.0,2.0,3.0,3.0,2.0,2.0,5.0,2.0,3.0,3.0,4.0,4.0,4.0,1.0,1.0,1.0,1.0,5.0,4.0,3.0,2.0,3.0,4.0,3.0,2.0,5.0,4.0,3.0,4.0,3.0,4.0,1.0,4.0,1.0,5.0,2.0,5.0,3.0,4.0,3.0,2.0,3.0,1.0,3.0,2.0,2.0,4.0,3.0,3.0,4.0,4.0,2.0,4.0,1.0,3.0,4.0,3.0,4.0,3.0,2.0,1.0,2.0,2.0,2.0,2.0,3.0,5.0,3.0,2.0,4.0,4.0,4.0,3.0,3.0,2.0,1.0,4.0,3.0,3.0,2.0,4.0,3.0,5.0,1.0,1.0,5.0,4.0,3.0,4.0,5.0,3.0,4.0,3.0,4.0,5.0,4.0,2.0,4.0,1.0,2.0,2.0,3.0,4.0,3.0,5.0,3.0,4.0,4.0,3.0,2.0,1.0,3.0,3.0,4.0,4.0,4.0,1.0,3.0,2.0,3.0,4.0,3.0,1.0,3.0,0.0,1.0,2.0,5.0,2.0,4.0,3.0,1.0,3.0,3.0,3.0,4.0,3.0,2.0,3.0,4.0,3.0,2.0,3.0,4.0,3.0,4.0,5.0,3.0,4.0,3.0,5.0,1.0,2.0,5.0,4.0,3.0,1.0,5.0,2.0,3.0,1.0,4.0,3.0,1.0,2.0,2.0,4.0,4.0,1.0,3.0,2.0,6.0,3.0,4.0,3.0,4.0,2.0,5.0,2.0,1.0,4.0,5.0,2.0,2.0,2.0,3.0,1.0,2.0,3.0,5.0,3.0,2.0,4.0,1.0,3.0,3.0,3.0,2.0,3.0,3.0,4.0,2.0,1.0,4.0,3.0,1.0,3.0,2.0,3.0,3.0,4.0,3.0,3.0,2.0,2.0,3.0,2.0,3.0,3.0,2.0,1.0,3.0,4.0,3.0,4.0,3.0,3.0,3.0,3.0,5.0,3.0,0.0,3.0,4.0,3.0,5.0,1.0,5.0,1.0,3.0,3.0,4.0,4.0,3.0,2.0,2.0,2.0,4.0,3.0,6.0,2.0,2.0,3.0,5.0,2.0,1.0,4.0,5.0,3.0,4.0,5.0,4.0,2.0,3.0,2.0,1.0,1.0,4.0,3.0,4.0,2.0,1.0,4.0,1.0,4.0,5.0,4.0,4.0,4.0,4.0,5.0,4.0,5.0,3.0,4.0,3.0,3.0,3.0,4.0,4.0,3.0,4.0,1.0,6.0,5.0,2.0,3.0,3.0,4.0,4.0,5.0,3.0,5.0,1.0,3.0,5.0,2.0,4.0,2.0,3.0,3.0,3.0,6.0,5.0,4.0,1.0,2.0,3.0,4.0,3.0,4.0,5.0,5.0,2.0,4.0,5.0,3.0,3.0,5.0,1.0,3.0,5.0,4.0,5.0,3.0,2.0,5.0,2.0,1.0,4.0,3.0,4.0,2.0,3.0,4.0,3.0,4.0,2.0,4.0,4.0,5.0,4.0,5.0,3.0,3.0,4.0,2.0,3.0,3.0,3.0,1.0,4.0,2.0,3.0,3.0,4.0,2.0,4.0,4.0,2.0,5.0,1.0,4.0,3.0,3.0,4.0,3.0,1.0,3.0,2.0,3.0,4.0,4.0,5.0,4.0,4.0,0.0,3.0,2.0,3.0,3.0,5.0,3.0,3.0,3.0,3.0,2.0,2.0,3.0,4.0,4.0,3.0,3.0,1.0,5.0,3.0,2.0,2.0,2.0,5.0,3.0,1.0,5.0,3.0,4.0,4.0,3.0,2.0,6.0,2.0,5.0,3.0,4.0,2.0,3.0,2.0,3.0,2.0,4.0,4.0,2.0,3.0,3.0,0.0,3.0,2.0,3.0,3.0,4.0,4.0,5.0,3.0,5.0,3.0,3.0,4.0,3.0,3.0,3.0,4.0,2.0,5.0,1.0,4.0,3.0,2.0,3.0,4.0,1.0,3.0,3.0,4.0,5.0,3.0,3.0,1.0,3.0,2.0,2.0,1.0,3.0,1.0,5.0,5.0,5.0,3.0,2.0,4.0,2.0,1.0,2.0,4.0,3.0,2.0,5.0,5.0,1.0,2.0,2.0,5.0,4.0,5.0,3.0,2.0,3.0,2.0,3.0,3.0,4.0,3.0,3.0,1.0,4.0,1.0,3.0,4.0,5.0,2.0,1.0,4.0,3.0,2.0,0.0,2.0,3.0,3.0,3.0,3.0,2.0,3.0,3.0,2.0,4.0,3.0,4.0,5.0,0.0,4.0,6.0,6.0,3.0,3.0,2.0,3.0,5.0,5.0,3.0,5.0,3.0,1.0,3.0,3.0,2.0,3.0,3.0,2.0,3.0,2.0,3.0,2.0,1.0,2.0,4.0,3.0,5.0,2.0,3.0,2.0,3.0,3.0,1.0,2.0,4.0,3.0,2.0,4.0,1.0,3.0,3.0,2.0,4.0,3.0,1.0,4.0,1.0,2.0,4.0,2.0,3.0,4.0,1.0,4.0,4.0,2.0,5.0,2.0,4.0,1.0,3.0,2.0,4.0,3.0,3.0,4.0,3.0,6.0,3.0,2.0,4.0,4.0,3.0,4.0,3.0,4.0,4.0,1.0,3.0,2.0,3.0,0.0,4.0,1.0,3.0,3.0,3.0,3.0,3.0,2.0,3.0,4.0,2.0,2.0,1.0,2.0,3.0,3.0,3.0,3.0,3.0,6.0,2.0,4.0,3.0,3.0,2.0,3.0,4.0,4.0,3.0,3.0,4.0,3.0,2.0,4.0,1.0,4.0,2.0,5.0,2.0,3.0,3.0,2.0,4.0,4.0,3.0,2.0,3.0,4.0,4.0,3.0,3.0,2.0,1.0,1.0,2.0,5.0,3.0,3.0,4.0,1.0,2.0,2.0,3.0,4.0,5.0,4.0,3.0,2.0,2.0,3.0,2.0,3.0,4.0,2.0,4.0,1.0,5.0,4.0,2.0,2.0,6.0,3.0,2.0,2.0,3.0,2.0,4.0,2.0,5.0,3.0,3.0,4.0,3.0,1.0,4.0,4.0,3.0,2.0,5.0,4.0,3.0,2.0,3.0,4.0,5.0,2.0,2.0,4.0,1.0,3.0,3.0,1.0,3.0,4.0,3.0,4.0,4.0,2.0,2.0,2.0,3.0,3.0,3.0,5.0,5.0,2.0,4.0,2.0,2.0,1.0,2.0,3.0,4.0,4.0,3.0,4.0,4.0,4.0,2.0,1.0,4.0,3.0,3.0,1.0,1.0,1.0,2.0,1.0,2.0,5.0,3.0,2.0,3.0,4.0,5.0,4.0,3.0,4.0,3.0,2.0,1.0,3.0,3.0,1.0,2.0,4.0,2.0,3.0,2.0,2.0,4.0,4.0,3.0,2.0,4.0,4.0,4.0,3.0,3.0,3.0,2.0,4.0,2.0,2.0,5.0,3.0,4.0,2.0,5.0,3.0,2.0,2.0,3.0,4.0,3.0,4.0,4.0,4.0,4.0,3.0,2.0,2.0,3.0,3.0,3.0,3.0,1.0,4.0,4.0,2.0,3.0,3.0,2.0,3.0,2.0,3.0,2.0,2.0,3.0,3.0,4.0,4.0,2.0,3.0,2.0,2.0,2.0,4.0,4.0,4.0,2.0,5.0,2.0,4.0,2.0,5.0,2.0,2.0,4.0,3.0,2.0,4.0,2.0,4.0,3.0,2.0,3.0,4.0,2.0,1.0,3.0,4.0,2.0,2.0,2.0,2.0,3.0,6.0,1.0,5.0,4.0,4.0,3.0,4.0,4.0,3.0,2.0,0.0,3.0,3.0,3.0,4.0,2.0,3.0,3.0,4.0,4.0,2.0,5.0,2.0,4.0,2.0,4.0,3.0,4.0,2.0,4.0,2.0,2.0,2.0,3.0,5.0,3.0,2.0,3.0,2.0,3.0,2.0,6.0,4.0,3.0,5.0,4.0,5.0,2.0,3.0,3.0,4.0,1.0,2.0],\"xaxis\":\"x\",\"yaxis\":\"y\",\"type\":\"histogram\",\"customdata\":[1.15,8.86,24.23,30.83,24.16,9.62,1.15]}],                        {\"template\":{\"data\":{\"histogram2dcontour\":[{\"type\":\"histogram2dcontour\",\"colorbar\":{\"outlinewidth\":0,\"ticks\":\"\"},\"colorscale\":[[0.0,\"#0d0887\"],[0.1111111111111111,\"#46039f\"],[0.2222222222222222,\"#7201a8\"],[0.3333333333333333,\"#9c179e\"],[0.4444444444444444,\"#bd3786\"],[0.5555555555555556,\"#d8576b\"],[0.6666666666666666,\"#ed7953\"],[0.7777777777777778,\"#fb9f3a\"],[0.8888888888888888,\"#fdca26\"],[1.0,\"#f0f921\"]]}],\"choropleth\":[{\"type\":\"choropleth\",\"colorbar\":{\"outlinewidth\":0,\"ticks\":\"\"}}],\"histogram2d\":[{\"type\":\"histogram2d\",\"colorbar\":{\"outlinewidth\":0,\"ticks\":\"\"},\"colorscale\":[[0.0,\"#0d0887\"],[0.1111111111111111,\"#46039f\"],[0.2222222222222222,\"#7201a8\"],[0.3333333333333333,\"#9c179e\"],[0.4444444444444444,\"#bd3786\"],[0.5555555555555556,\"#d8576b\"],[0.6666666666666666,\"#ed7953\"],[0.7777777777777778,\"#fb9f3a\"],[0.8888888888888888,\"#fdca26\"],[1.0,\"#f0f921\"]]}],\"heatmap\":[{\"type\":\"heatmap\",\"colorbar\":{\"outlinewidth\":0,\"ticks\":\"\"},\"colorscale\":[[0.0,\"#0d0887\"],[0.1111111111111111,\"#46039f\"],[0.2222222222222222,\"#7201a8\"],[0.3333333333333333,\"#9c179e\"],[0.4444444444444444,\"#bd3786\"],[0.5555555555555556,\"#d8576b\"],[0.6666666666666666,\"#ed7953\"],[0.7777777777777778,\"#fb9f3a\"],[0.8888888888888888,\"#fdca26\"],[1.0,\"#f0f921\"]]}],\"heatmapgl\":[{\"type\":\"heatmapgl\",\"colorbar\":{\"outlinewidth\":0,\"ticks\":\"\"},\"colorscale\":[[0.0,\"#0d0887\"],[0.1111111111111111,\"#46039f\"],[0.2222222222222222,\"#7201a8\"],[0.3333333333333333,\"#9c179e\"],[0.4444444444444444,\"#bd3786\"],[0.5555555555555556,\"#d8576b\"],[0.6666666666666666,\"#ed7953\"],[0.7777777777777778,\"#fb9f3a\"],[0.8888888888888888,\"#fdca26\"],[1.0,\"#f0f921\"]]}],\"contourcarpet\":[{\"type\":\"contourcarpet\",\"colorbar\":{\"outlinewidth\":0,\"ticks\":\"\"}}],\"contour\":[{\"type\":\"contour\",\"colorbar\":{\"outlinewidth\":0,\"ticks\":\"\"},\"colorscale\":[[0.0,\"#0d0887\"],[0.1111111111111111,\"#46039f\"],[0.2222222222222222,\"#7201a8\"],[0.3333333333333333,\"#9c179e\"],[0.4444444444444444,\"#bd3786\"],[0.5555555555555556,\"#d8576b\"],[0.6666666666666666,\"#ed7953\"],[0.7777777777777778,\"#fb9f3a\"],[0.8888888888888888,\"#fdca26\"],[1.0,\"#f0f921\"]]}],\"surface\":[{\"type\":\"surface\",\"colorbar\":{\"outlinewidth\":0,\"ticks\":\"\"},\"colorscale\":[[0.0,\"#0d0887\"],[0.1111111111111111,\"#46039f\"],[0.2222222222222222,\"#7201a8\"],[0.3333333333333333,\"#9c179e\"],[0.4444444444444444,\"#bd3786\"],[0.5555555555555556,\"#d8576b\"],[0.6666666666666666,\"#ed7953\"],[0.7777777777777778,\"#fb9f3a\"],[0.8888888888888888,\"#fdca26\"],[1.0,\"#f0f921\"]]}],\"mesh3d\":[{\"type\":\"mesh3d\",\"colorbar\":{\"outlinewidth\":0,\"ticks\":\"\"}}],\"scatter\":[{\"fillpattern\":{\"fillmode\":\"overlay\",\"size\":10,\"solidity\":0.2},\"type\":\"scatter\"}],\"parcoords\":[{\"type\":\"parcoords\",\"line\":{\"colorbar\":{\"outlinewidth\":0,\"ticks\":\"\"}}}],\"scatterpolargl\":[{\"type\":\"scatterpolargl\",\"marker\":{\"colorbar\":{\"outlinewidth\":0,\"ticks\":\"\"}}}],\"bar\":[{\"error_x\":{\"color\":\"#2a3f5f\"},\"error_y\":{\"color\":\"#2a3f5f\"},\"marker\":{\"line\":{\"color\":\"#E5ECF6\",\"width\":0.5},\"pattern\":{\"fillmode\":\"overlay\",\"size\":10,\"solidity\":0.2}},\"type\":\"bar\"}],\"scattergeo\":[{\"type\":\"scattergeo\",\"marker\":{\"colorbar\":{\"outlinewidth\":0,\"ticks\":\"\"}}}],\"scatterpolar\":[{\"type\":\"scatterpolar\",\"marker\":{\"colorbar\":{\"outlinewidth\":0,\"ticks\":\"\"}}}],\"histogram\":[{\"marker\":{\"pattern\":{\"fillmode\":\"overlay\",\"size\":10,\"solidity\":0.2}},\"type\":\"histogram\"}],\"scattergl\":[{\"type\":\"scattergl\",\"marker\":{\"colorbar\":{\"outlinewidth\":0,\"ticks\":\"\"}}}],\"scatter3d\":[{\"type\":\"scatter3d\",\"line\":{\"colorbar\":{\"outlinewidth\":0,\"ticks\":\"\"}},\"marker\":{\"colorbar\":{\"outlinewidth\":0,\"ticks\":\"\"}}}],\"scattermapbox\":[{\"type\":\"scattermapbox\",\"marker\":{\"colorbar\":{\"outlinewidth\":0,\"ticks\":\"\"}}}],\"scatterternary\":[{\"type\":\"scatterternary\",\"marker\":{\"colorbar\":{\"outlinewidth\":0,\"ticks\":\"\"}}}],\"scattercarpet\":[{\"type\":\"scattercarpet\",\"marker\":{\"colorbar\":{\"outlinewidth\":0,\"ticks\":\"\"}}}],\"carpet\":[{\"aaxis\":{\"endlinecolor\":\"#2a3f5f\",\"gridcolor\":\"white\",\"linecolor\":\"white\",\"minorgridcolor\":\"white\",\"startlinecolor\":\"#2a3f5f\"},\"baxis\":{\"endlinecolor\":\"#2a3f5f\",\"gridcolor\":\"white\",\"linecolor\":\"white\",\"minorgridcolor\":\"white\",\"startlinecolor\":\"#2a3f5f\"},\"type\":\"carpet\"}],\"table\":[{\"cells\":{\"fill\":{\"color\":\"#EBF0F8\"},\"line\":{\"color\":\"white\"}},\"header\":{\"fill\":{\"color\":\"#C8D4E3\"},\"line\":{\"color\":\"white\"}},\"type\":\"table\"}],\"barpolar\":[{\"marker\":{\"line\":{\"color\":\"#E5ECF6\",\"width\":0.5},\"pattern\":{\"fillmode\":\"overlay\",\"size\":10,\"solidity\":0.2}},\"type\":\"barpolar\"}],\"pie\":[{\"automargin\":true,\"type\":\"pie\"}]},\"layout\":{\"autotypenumbers\":\"strict\",\"colorway\":[\"#636efa\",\"#EF553B\",\"#00cc96\",\"#ab63fa\",\"#FFA15A\",\"#19d3f3\",\"#FF6692\",\"#B6E880\",\"#FF97FF\",\"#FECB52\"],\"font\":{\"color\":\"#2a3f5f\"},\"hovermode\":\"closest\",\"hoverlabel\":{\"align\":\"left\"},\"paper_bgcolor\":\"white\",\"plot_bgcolor\":\"#E5ECF6\",\"polar\":{\"bgcolor\":\"#E5ECF6\",\"angularaxis\":{\"gridcolor\":\"white\",\"linecolor\":\"white\",\"ticks\":\"\"},\"radialaxis\":{\"gridcolor\":\"white\",\"linecolor\":\"white\",\"ticks\":\"\"}},\"ternary\":{\"bgcolor\":\"#E5ECF6\",\"aaxis\":{\"gridcolor\":\"white\",\"linecolor\":\"white\",\"ticks\":\"\"},\"baxis\":{\"gridcolor\":\"white\",\"linecolor\":\"white\",\"ticks\":\"\"},\"caxis\":{\"gridcolor\":\"white\",\"linecolor\":\"white\",\"ticks\":\"\"}},\"coloraxis\":{\"colorbar\":{\"outlinewidth\":0,\"ticks\":\"\"}},\"colorscale\":{\"sequential\":[[0.0,\"#0d0887\"],[0.1111111111111111,\"#46039f\"],[0.2222222222222222,\"#7201a8\"],[0.3333333333333333,\"#9c179e\"],[0.4444444444444444,\"#bd3786\"],[0.5555555555555556,\"#d8576b\"],[0.6666666666666666,\"#ed7953\"],[0.7777777777777778,\"#fb9f3a\"],[0.8888888888888888,\"#fdca26\"],[1.0,\"#f0f921\"]],\"sequentialminus\":[[0.0,\"#0d0887\"],[0.1111111111111111,\"#46039f\"],[0.2222222222222222,\"#7201a8\"],[0.3333333333333333,\"#9c179e\"],[0.4444444444444444,\"#bd3786\"],[0.5555555555555556,\"#d8576b\"],[0.6666666666666666,\"#ed7953\"],[0.7777777777777778,\"#fb9f3a\"],[0.8888888888888888,\"#fdca26\"],[1.0,\"#f0f921\"]],\"diverging\":[[0,\"#8e0152\"],[0.1,\"#c51b7d\"],[0.2,\"#de77ae\"],[0.3,\"#f1b6da\"],[0.4,\"#fde0ef\"],[0.5,\"#f7f7f7\"],[0.6,\"#e6f5d0\"],[0.7,\"#b8e186\"],[0.8,\"#7fbc41\"],[0.9,\"#4d9221\"],[1,\"#276419\"]]},\"xaxis\":{\"gridcolor\":\"white\",\"linecolor\":\"white\",\"ticks\":\"\",\"title\":{\"standoff\":15},\"zerolinecolor\":\"white\",\"automargin\":true,\"zerolinewidth\":2},\"yaxis\":{\"gridcolor\":\"white\",\"linecolor\":\"white\",\"ticks\":\"\",\"title\":{\"standoff\":15},\"zerolinecolor\":\"white\",\"automargin\":true,\"zerolinewidth\":2},\"scene\":{\"xaxis\":{\"backgroundcolor\":\"#E5ECF6\",\"gridcolor\":\"white\",\"linecolor\":\"white\",\"showbackground\":true,\"ticks\":\"\",\"zerolinecolor\":\"white\",\"gridwidth\":2},\"yaxis\":{\"backgroundcolor\":\"#E5ECF6\",\"gridcolor\":\"white\",\"linecolor\":\"white\",\"showbackground\":true,\"ticks\":\"\",\"zerolinecolor\":\"white\",\"gridwidth\":2},\"zaxis\":{\"backgroundcolor\":\"#E5ECF6\",\"gridcolor\":\"white\",\"linecolor\":\"white\",\"showbackground\":true,\"ticks\":\"\",\"zerolinecolor\":\"white\",\"gridwidth\":2}},\"shapedefaults\":{\"line\":{\"color\":\"#2a3f5f\"}},\"annotationdefaults\":{\"arrowcolor\":\"#2a3f5f\",\"arrowhead\":0,\"arrowwidth\":1},\"geo\":{\"bgcolor\":\"white\",\"landcolor\":\"#E5ECF6\",\"subunitcolor\":\"white\",\"showland\":true,\"showlakes\":true,\"lakecolor\":\"white\"},\"title\":{\"x\":0.05},\"mapbox\":{\"style\":\"light\"}}},\"xaxis\":{\"anchor\":\"y\",\"domain\":[0.0,1.0],\"title\":{\"text\":\"Quantidade de pares\"}},\"yaxis\":{\"anchor\":\"x\",\"domain\":[0.0,1.0],\"title\":{\"text\":\"Ocorr\\u00eancias\"}},\"legend\":{\"title\":{\"text\":\"variable\"},\"tracegroupgap\":0},\"title\":{\"text\":\"Contagem de n\\u00fameros pares\"},\"barmode\":\"relative\"},                        {\"responsive\": true}                    ).then(function(){\n",
              "                            \n",
              "var gd = document.getElementById('f90d15b0-863f-4ca4-8b23-55848cd2d728');\n",
              "var x = new MutationObserver(function (mutations, observer) {{\n",
              "        var display = window.getComputedStyle(gd).display;\n",
              "        if (!display || display === 'none') {{\n",
              "            console.log([gd, 'removed!']);\n",
              "            Plotly.purge(gd);\n",
              "            observer.disconnect();\n",
              "        }}\n",
              "}});\n",
              "\n",
              "// Listen for the removal of the full notebook cells\n",
              "var notebookContainer = gd.closest('#notebook-container');\n",
              "if (notebookContainer) {{\n",
              "    x.observe(notebookContainer, {childList: true});\n",
              "}}\n",
              "\n",
              "// Listen for the clearing of the current output cell\n",
              "var outputEl = gd.closest('.output');\n",
              "if (outputEl) {{\n",
              "    x.observe(outputEl, {childList: true});\n",
              "}}\n",
              "\n",
              "                        })                };                            </script>        </div>\n",
              "</body>\n",
              "</html>"
            ]
          },
          "metadata": {}
        }
      ]
    },
    {
      "cell_type": "markdown",
      "source": [
        "## Teste sua sorte 🤞"
      ],
      "metadata": {
        "id": "eRKRZj9Eu862"
      }
    },
    {
      "cell_type": "code",
      "source": [
        "#@title ## Digite a sua aposta abaixo\n",
        "\n",
        "#@markdown Os números devem estar separados por vírgula\n",
        "\n",
        "Aposta = ',11,51,32,  7,46,58,' #@param {type:\"string\"}\n",
        "\n",
        "aposta = Aposta.replace(' ','').split(',')\n",
        "aposta = [int(x) for x in aposta if x != '']\n",
        "_ = loto.validate_bet(aposta)"
      ],
      "metadata": {
        "cellView": "form",
        "id": "KFGlSdmIv0px"
      },
      "execution_count": 15,
      "outputs": []
    },
    {
      "cell_type": "code",
      "source": [
        "print('Comparando a sua aposta com todos os resultados...')\n",
        "hist = loto.get_results()\n",
        "print('Total de sorteios realizados:', hist.shape[0])\n",
        "print('Números apostados:', sorted(aposta))\n",
        "matches = loto.check_results(hist, [aposta])\n",
        "print()\n",
        "max = 0\n",
        "for m in matches:\n",
        "  if len(m) > max: max = len(m)\n",
        "print('Máximo número de acertos:', max)\n"
      ],
      "metadata": {
        "colab": {
          "base_uri": "https://localhost:8080/"
        },
        "id": "n9dp8fwfx-Zp",
        "outputId": "2e969dc5-0955-4174-97c1-28e22970972a"
      },
      "execution_count": 16,
      "outputs": [
        {
          "output_type": "stream",
          "name": "stdout",
          "text": [
            "Comparando a sua aposta com todos os resultados...\n",
            "Total de sorteios realizados: 2608\n",
            "Números apostados: [7, 11, 32, 46, 51, 58]\n",
            "\n",
            "Máximo número de acertos: 4\n"
          ]
        }
      ]
    }
  ]
}